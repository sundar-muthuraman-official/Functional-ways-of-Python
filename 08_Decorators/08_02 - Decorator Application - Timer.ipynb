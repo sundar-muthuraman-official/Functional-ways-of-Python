{
 "cells": [
  {
   "cell_type": "markdown",
   "metadata": {},
   "source": [
    "### Decorators Application (Timing)"
   ]
  },
  {
   "cell_type": "markdown",
   "metadata": {},
   "source": [
    "Here we go back to an example we have seen in the past - timing how long it takes to run a certain function."
   ]
  },
  {
   "cell_type": "code",
   "execution_count": 1,
   "metadata": {},
   "outputs": [],
   "source": [
    "def timed(fn):\n",
    "    from time import perf_counter\n",
    "    from functools import wraps\n",
    "    \n",
    "    @wraps(fn)\n",
    "    def inner(*args, **kwargs):\n",
    "        start = perf_counter()\n",
    "        result = fn(*args, **kwargs)\n",
    "        end = perf_counter()\n",
    "        elapsed = end - start\n",
    "        \n",
    "        args_ = [str(a) for a in args]\n",
    "        kwargs_ = ['{0}={1}'.format(k, v) for (k, v) in kwargs.items()]\n",
    "        all_args = args_ + kwargs_\n",
    "        args_str = ','.join(all_args)\n",
    "        print('{0}({1}) took {2:.6f}s to run.'.format(fn.__name__, \n",
    "                                                         args_str,\n",
    "                                                         elapsed))\n",
    "        return result\n",
    "    \n",
    "    return inner"
   ]
  },
  {
   "cell_type": "markdown",
   "metadata": {},
   "source": [
    "Let's write a function that calculates the n-th Fibonacci number:\n",
    "\n",
    "`1, 1, 2, 3, 5, 8, ...`\n",
    "\n",
    "We will implement this using three different methods:\n",
    "1. recursion\n",
    "2. a loop\n",
    "3. functional programming (reduce)\n",
    "\n",
    "We use a 1-based system, e.g. first Fibonnaci number has index 1, etc."
   ]
  },
  {
   "cell_type": "markdown",
   "metadata": {},
   "source": [
    "#### Using Recursion\n"
   ]
  },
  {
   "cell_type": "code",
   "execution_count": 2,
   "metadata": {},
   "outputs": [],
   "source": [
    "def calc_recursive_fib(n):\n",
    "    if n <=2:\n",
    "        return 1\n",
    "    else:\n",
    "        return calc_recursive_fib(n-1) + calc_recursive_fib(n-2)"
   ]
  },
  {
   "cell_type": "code",
   "execution_count": 3,
   "metadata": {},
   "outputs": [
    {
     "data": {
      "text/plain": [
       "2"
      ]
     },
     "execution_count": 3,
     "metadata": {},
     "output_type": "execute_result"
    }
   ],
   "source": [
    "calc_recursive_fib(3)"
   ]
  },
  {
   "cell_type": "code",
   "execution_count": 4,
   "metadata": {},
   "outputs": [
    {
     "data": {
      "text/plain": [
       "8"
      ]
     },
     "execution_count": 4,
     "metadata": {},
     "output_type": "execute_result"
    }
   ],
   "source": [
    "calc_recursive_fib(6)"
   ]
  },
  {
   "cell_type": "code",
   "execution_count": 5,
   "metadata": {},
   "outputs": [],
   "source": [
    "@timed\n",
    "def fib_recursed(n):\n",
    "    return calc_recursive_fib(n)"
   ]
  },
  {
   "cell_type": "code",
   "execution_count": 6,
   "metadata": {},
   "outputs": [
    {
     "name": "stdout",
     "output_type": "stream",
     "text": [
      "fib_recursed(33) took 0.736885s to run.\n"
     ]
    },
    {
     "data": {
      "text/plain": [
       "3524578"
      ]
     },
     "execution_count": 6,
     "metadata": {},
     "output_type": "execute_result"
    }
   ],
   "source": [
    "fib_recursed(33)"
   ]
  },
  {
   "cell_type": "code",
   "execution_count": 7,
   "metadata": {},
   "outputs": [
    {
     "name": "stdout",
     "output_type": "stream",
     "text": [
      "fib_recursed(34) took 1.213420s to run.\n"
     ]
    },
    {
     "data": {
      "text/plain": [
       "5702887"
      ]
     },
     "execution_count": 7,
     "metadata": {},
     "output_type": "execute_result"
    }
   ],
   "source": [
    "fib_recursed(34)"
   ]
  },
  {
   "cell_type": "code",
   "execution_count": 8,
   "metadata": {},
   "outputs": [
    {
     "name": "stdout",
     "output_type": "stream",
     "text": [
      "fib_recursed(35) took 1.839132s to run.\n"
     ]
    },
    {
     "data": {
      "text/plain": [
       "9227465"
      ]
     },
     "execution_count": 8,
     "metadata": {},
     "output_type": "execute_result"
    }
   ],
   "source": [
    "fib_recursed(35)"
   ]
  },
  {
   "cell_type": "markdown",
   "metadata": {},
   "source": [
    "There's a reason we did not decorate our recursive function directly!"
   ]
  },
  {
   "cell_type": "code",
   "execution_count": 9,
   "metadata": {},
   "outputs": [],
   "source": [
    "@timed\n",
    "def fib_recursed_2(n):\n",
    "    if n <=2:\n",
    "        return 1\n",
    "    else:\n",
    "        return fib_recursed_2(n-1) + fib_recursed_2(n-2)"
   ]
  },
  {
   "cell_type": "code",
   "execution_count": 10,
   "metadata": {},
   "outputs": [
    {
     "name": "stdout",
     "output_type": "stream",
     "text": [
      "fib_recursed_2(2) took 0.000002s to run.\n",
      "fib_recursed_2(1) took 0.000003s to run.\n",
      "fib_recursed_2(3) took 0.006168s to run.\n",
      "fib_recursed_2(2) took 0.000004s to run.\n",
      "fib_recursed_2(4) took 0.009026s to run.\n",
      "fib_recursed_2(2) took 0.000002s to run.\n",
      "fib_recursed_2(1) took 0.000002s to run.\n",
      "fib_recursed_2(3) took 0.000268s to run.\n",
      "fib_recursed_2(5) took 0.012013s to run.\n",
      "fib_recursed_2(2) took 0.000001s to run.\n",
      "fib_recursed_2(1) took 0.000002s to run.\n",
      "fib_recursed_2(3) took 0.000182s to run.\n",
      "fib_recursed_2(2) took 0.000003s to run.\n",
      "fib_recursed_2(4) took 0.002189s to run.\n",
      "fib_recursed_2(6) took 0.014440s to run.\n",
      "fib_recursed_2(2) took 0.000002s to run.\n",
      "fib_recursed_2(1) took 0.000002s to run.\n",
      "fib_recursed_2(3) took 0.000205s to run.\n",
      "fib_recursed_2(2) took 0.000001s to run.\n",
      "fib_recursed_2(4) took 0.000305s to run.\n",
      "fib_recursed_2(2) took 0.000001s to run.\n",
      "fib_recursed_2(1) took 0.000001s to run.\n",
      "fib_recursed_2(3) took 0.000086s to run.\n",
      "fib_recursed_2(5) took 0.000476s to run.\n",
      "fib_recursed_2(7) took 0.015176s to run.\n",
      "fib_recursed_2(2) took 0.000002s to run.\n",
      "fib_recursed_2(1) took 0.000003s to run.\n",
      "fib_recursed_2(3) took 0.006186s to run.\n",
      "fib_recursed_2(2) took 0.000002s to run.\n",
      "fib_recursed_2(4) took 0.006376s to run.\n",
      "fib_recursed_2(2) took 0.000002s to run.\n",
      "fib_recursed_2(1) took 0.000002s to run.\n",
      "fib_recursed_2(3) took 0.000179s to run.\n",
      "fib_recursed_2(5) took 0.006736s to run.\n",
      "fib_recursed_2(2) took 0.000001s to run.\n",
      "fib_recursed_2(1) took 0.000003s to run.\n",
      "fib_recursed_2(3) took 0.000437s to run.\n",
      "fib_recursed_2(2) took 0.000003s to run.\n",
      "fib_recursed_2(4) took 0.000831s to run.\n",
      "fib_recursed_2(6) took 0.017876s to run.\n",
      "fib_recursed_2(8) took 0.033397s to run.\n",
      "fib_recursed_2(2) took 0.000001s to run.\n",
      "fib_recursed_2(1) took 0.000003s to run.\n",
      "fib_recursed_2(3) took 0.000446s to run.\n",
      "fib_recursed_2(2) took 0.000003s to run.\n",
      "fib_recursed_2(4) took 0.003936s to run.\n",
      "fib_recursed_2(2) took 0.000002s to run.\n",
      "fib_recursed_2(1) took 0.000002s to run.\n",
      "fib_recursed_2(3) took 0.000201s to run.\n",
      "fib_recursed_2(5) took 0.004358s to run.\n",
      "fib_recursed_2(2) took 0.000002s to run.\n",
      "fib_recursed_2(1) took 0.000002s to run.\n",
      "fib_recursed_2(3) took 0.000180s to run.\n",
      "fib_recursed_2(2) took 0.000002s to run.\n",
      "fib_recursed_2(4) took 0.000360s to run.\n",
      "fib_recursed_2(6) took 0.004910s to run.\n",
      "fib_recursed_2(2) took 0.000002s to run.\n",
      "fib_recursed_2(1) took 0.000002s to run.\n",
      "fib_recursed_2(3) took 0.000210s to run.\n",
      "fib_recursed_2(2) took 0.000002s to run.\n",
      "fib_recursed_2(4) took 0.000423s to run.\n",
      "fib_recursed_2(2) took 0.000002s to run.\n",
      "fib_recursed_2(1) took 0.000002s to run.\n",
      "fib_recursed_2(3) took 0.000189s to run.\n",
      "fib_recursed_2(5) took 0.000818s to run.\n",
      "fib_recursed_2(7) took 0.006233s to run.\n",
      "fib_recursed_2(9) took 0.039881s to run.\n",
      "fib_recursed_2(2) took 0.000001s to run.\n",
      "fib_recursed_2(1) took 0.000003s to run.\n",
      "fib_recursed_2(3) took 0.000698s to run.\n",
      "fib_recursed_2(2) took 0.000002s to run.\n",
      "fib_recursed_2(4) took 0.000809s to run.\n",
      "fib_recursed_2(2) took 0.000001s to run.\n",
      "fib_recursed_2(1) took 0.000001s to run.\n",
      "fib_recursed_2(3) took 0.000111s to run.\n",
      "fib_recursed_2(5) took 0.001005s to run.\n",
      "fib_recursed_2(2) took 0.000001s to run.\n",
      "fib_recursed_2(1) took 0.000003s to run.\n",
      "fib_recursed_2(3) took 0.003748s to run.\n",
      "fib_recursed_2(2) took 0.000002s to run.\n",
      "fib_recursed_2(4) took 0.003891s to run.\n",
      "fib_recursed_2(6) took 0.005051s to run.\n",
      "fib_recursed_2(2) took 0.000001s to run.\n",
      "fib_recursed_2(1) took 0.000004s to run.\n",
      "fib_recursed_2(3) took 0.009039s to run.\n",
      "fib_recursed_2(2) took 0.000001s to run.\n",
      "fib_recursed_2(4) took 0.009151s to run.\n",
      "fib_recursed_2(2) took 0.000001s to run.\n",
      "fib_recursed_2(1) took 0.000001s to run.\n",
      "fib_recursed_2(3) took 0.000126s to run.\n",
      "fib_recursed_2(5) took 0.009384s to run.\n",
      "fib_recursed_2(7) took 0.019544s to run.\n",
      "fib_recursed_2(2) took 0.000001s to run.\n",
      "fib_recursed_2(1) took 0.000002s to run.\n",
      "fib_recursed_2(3) took 0.000102s to run.\n",
      "fib_recursed_2(2) took 0.000001s to run.\n",
      "fib_recursed_2(4) took 0.000203s to run.\n",
      "fib_recursed_2(2) took 0.000001s to run.\n",
      "fib_recursed_2(1) took 0.000001s to run.\n",
      "fib_recursed_2(3) took 0.000088s to run.\n",
      "fib_recursed_2(5) took 0.000393s to run.\n",
      "fib_recursed_2(2) took 0.000001s to run.\n",
      "fib_recursed_2(1) took 0.000001s to run.\n",
      "fib_recursed_2(3) took 0.000088s to run.\n",
      "fib_recursed_2(2) took 0.000001s to run.\n",
      "fib_recursed_2(4) took 0.000171s to run.\n",
      "fib_recursed_2(6) took 0.000647s to run.\n",
      "fib_recursed_2(8) took 0.020282s to run.\n",
      "fib_recursed_2(10) took 0.060799s to run.\n"
     ]
    },
    {
     "data": {
      "text/plain": [
       "55"
      ]
     },
     "execution_count": 10,
     "metadata": {},
     "output_type": "execute_result"
    }
   ],
   "source": [
    "fib_recursed_2(10)"
   ]
  },
  {
   "cell_type": "markdown",
   "metadata": {},
   "source": [
    "Since we are calling the function recursively, we are actually calling the **decorated** function recursively. In this case I wanted the total time to calculate the n-th number, not the time for each recursion.\n",
    "\n",
    "You will notice from the above how inefficient the recursive method is: the same fibonacci numbers are calculated repeatedly! This is why as the value of `n` start increasing beyond 30 we start seeing considerable slow downs."
   ]
  },
  {
   "cell_type": "markdown",
   "metadata": {},
   "source": [
    "#### Using a Loop"
   ]
  },
  {
   "cell_type": "code",
   "execution_count": 11,
   "metadata": {},
   "outputs": [],
   "source": [
    "@timed\n",
    "def fib_loop(n):\n",
    "    fib_1 = 1\n",
    "    fib_2 = 1\n",
    "    for i in range(3, n+1):\n",
    "        fib_1, fib_2 = fib_2, fib_1 + fib_2\n",
    "    return fib_2               "
   ]
  },
  {
   "cell_type": "code",
   "execution_count": 12,
   "metadata": {},
   "outputs": [
    {
     "name": "stdout",
     "output_type": "stream",
     "text": [
      "fib_loop(3) took 0.000011s to run.\n"
     ]
    },
    {
     "data": {
      "text/plain": [
       "2"
      ]
     },
     "execution_count": 12,
     "metadata": {},
     "output_type": "execute_result"
    }
   ],
   "source": [
    "fib_loop(3)"
   ]
  },
  {
   "cell_type": "code",
   "execution_count": 13,
   "metadata": {},
   "outputs": [
    {
     "name": "stdout",
     "output_type": "stream",
     "text": [
      "fib_loop(6) took 0.000012s to run.\n"
     ]
    },
    {
     "data": {
      "text/plain": [
       "8"
      ]
     },
     "execution_count": 13,
     "metadata": {},
     "output_type": "execute_result"
    }
   ],
   "source": [
    "fib_loop(6)"
   ]
  },
  {
   "cell_type": "code",
   "execution_count": 14,
   "metadata": {},
   "outputs": [
    {
     "name": "stdout",
     "output_type": "stream",
     "text": [
      "fib_loop(34) took 0.000017s to run.\n"
     ]
    },
    {
     "data": {
      "text/plain": [
       "5702887"
      ]
     },
     "execution_count": 14,
     "metadata": {},
     "output_type": "execute_result"
    }
   ],
   "source": [
    "fib_loop(34)"
   ]
  },
  {
   "cell_type": "code",
   "execution_count": 15,
   "metadata": {},
   "outputs": [
    {
     "name": "stdout",
     "output_type": "stream",
     "text": [
      "fib_loop(35) took 0.000033s to run.\n"
     ]
    },
    {
     "data": {
      "text/plain": [
       "9227465"
      ]
     },
     "execution_count": 15,
     "metadata": {},
     "output_type": "execute_result"
    }
   ],
   "source": [
    "fib_loop(35)"
   ]
  },
  {
   "cell_type": "markdown",
   "metadata": {},
   "source": [
    "As you can see this method is much more efficient!"
   ]
  },
  {
   "cell_type": "markdown",
   "metadata": {},
   "source": [
    "#### Using  Reduce"
   ]
  },
  {
   "cell_type": "markdown",
   "metadata": {},
   "source": [
    "We first need to understand how we are going to calculate the Fibonnaci sequence using reduce: \n",
    "\n",
    "<pre>\n",
    "n=1:\n",
    "(1, 0) --> (1, 1)\n",
    "\n",
    "n=2:\n",
    "(1, 0) --> (1, 1) --> (1 + 1, 1) = (2, 1)  : result = 2 \n",
    "\n",
    "n=3\n",
    "(1, 0) --> (1, 1) --> (2, 1) --> (2+1, 2) = (3, 2)  : result = 3\n",
    "\n",
    "n=4\n",
    "(1, 0) --> (1, 1) --> (2, 1) --> (3, 2) --> (5, 3)  : result = 5\n",
    "</pre>\n",
    "\n",
    "In general each step in the reduction is as follows:\n",
    "\n",
    "<pre>\n",
    "previous value = (a, b)\n",
    "new value = (a+b, a)\n",
    "</pre>\n",
    "\n",
    "If we start our reduction with an initial value of `(1, 0)`, we need to run our \"loop\" n times.\n",
    "\n",
    "We therefore use a \"dummy\" sequence of length `n` to create `n` steps in our reduce.\n"
   ]
  },
  {
   "cell_type": "code",
   "execution_count": 16,
   "metadata": {},
   "outputs": [],
   "source": [
    "from functools import reduce\n",
    "\n",
    "@timed\n",
    "def fib_reduce(n):\n",
    "    initial = (1, 0)\n",
    "    dummy = range(n-1)\n",
    "    fib_n = reduce(lambda prev, n: (prev[0] + prev[1], prev[0]), \n",
    "                   dummy, \n",
    "                   initial)\n",
    "    return fib_n[0]                  "
   ]
  },
  {
   "cell_type": "code",
   "execution_count": 17,
   "metadata": {},
   "outputs": [
    {
     "name": "stdout",
     "output_type": "stream",
     "text": [
      "fib_reduce(3) took 0.000020s to run.\n"
     ]
    },
    {
     "data": {
      "text/plain": [
       "2"
      ]
     },
     "execution_count": 17,
     "metadata": {},
     "output_type": "execute_result"
    }
   ],
   "source": [
    "fib_reduce(3)"
   ]
  },
  {
   "cell_type": "code",
   "execution_count": 18,
   "metadata": {},
   "outputs": [
    {
     "name": "stdout",
     "output_type": "stream",
     "text": [
      "fib_reduce(6) took 0.000016s to run.\n"
     ]
    },
    {
     "data": {
      "text/plain": [
       "8"
      ]
     },
     "execution_count": 18,
     "metadata": {},
     "output_type": "execute_result"
    }
   ],
   "source": [
    "fib_reduce(6)"
   ]
  },
  {
   "cell_type": "code",
   "execution_count": 19,
   "metadata": {},
   "outputs": [
    {
     "name": "stdout",
     "output_type": "stream",
     "text": [
      "fib_reduce(34) took 0.000060s to run.\n"
     ]
    },
    {
     "data": {
      "text/plain": [
       "5702887"
      ]
     },
     "execution_count": 19,
     "metadata": {},
     "output_type": "execute_result"
    }
   ],
   "source": [
    "fib_reduce(34)"
   ]
  },
  {
   "cell_type": "code",
   "execution_count": 20,
   "metadata": {},
   "outputs": [
    {
     "name": "stdout",
     "output_type": "stream",
     "text": [
      "fib_reduce(35) took 0.000059s to run.\n"
     ]
    },
    {
     "data": {
      "text/plain": [
       "9227465"
      ]
     },
     "execution_count": 20,
     "metadata": {},
     "output_type": "execute_result"
    }
   ],
   "source": [
    "fib_reduce(35)"
   ]
  },
  {
   "cell_type": "markdown",
   "metadata": {},
   "source": [
    "Now we can run a quick comparison between the various timed implementations:"
   ]
  },
  {
   "cell_type": "code",
   "execution_count": 21,
   "metadata": {},
   "outputs": [
    {
     "name": "stdout",
     "output_type": "stream",
     "text": [
      "fib_recursed(35) took 1.939895s to run.\n",
      "fib_loop(35) took 0.000006s to run.\n",
      "fib_reduce(35) took 0.000008s to run.\n"
     ]
    },
    {
     "data": {
      "text/plain": [
       "9227465"
      ]
     },
     "execution_count": 21,
     "metadata": {},
     "output_type": "execute_result"
    }
   ],
   "source": [
    "fib_recursed(35)\n",
    "fib_loop(35)\n",
    "fib_reduce(35)"
   ]
  },
  {
   "cell_type": "markdown",
   "metadata": {},
   "source": [
    "Even though the recursive algorithm is by far the easiest to understand, it is also the slowest. We'll see how to fix this in an upcoming video using a technique called **memoization**."
   ]
  },
  {
   "cell_type": "markdown",
   "metadata": {},
   "source": [
    "First let's focus on the loop and reduce variants. Our timing is not very effective since we only time a single calculation for each - there could be some variance if we run these tests multiple times:"
   ]
  },
  {
   "cell_type": "code",
   "execution_count": 22,
   "metadata": {},
   "outputs": [
    {
     "name": "stdout",
     "output_type": "stream",
     "text": [
      "fib_loop(10000) took 0.015271s to run.\n",
      "fib_loop(10000) took 0.012284s to run.\n",
      "fib_loop(10000) took 0.009379s to run.\n",
      "fib_loop(10000) took 0.008751s to run.\n",
      "fib_loop(10000) took 0.003919s to run.\n",
      "fib_loop(10000) took 0.004122s to run.\n",
      "fib_loop(10000) took 0.003747s to run.\n",
      "fib_loop(10000) took 0.003006s to run.\n",
      "fib_loop(10000) took 0.004773s to run.\n",
      "fib_loop(10000) took 0.004719s to run.\n"
     ]
    }
   ],
   "source": [
    "for i in range(10):\n",
    "    result =  fib_loop(10000)"
   ]
  },
  {
   "cell_type": "code",
   "execution_count": 23,
   "metadata": {},
   "outputs": [
    {
     "name": "stdout",
     "output_type": "stream",
     "text": [
      "fib_reduce(10000) took 0.032565s to run.\n",
      "fib_reduce(10000) took 0.015663s to run.\n",
      "fib_reduce(10000) took 0.010117s to run.\n",
      "fib_reduce(10000) took 0.007863s to run.\n",
      "fib_reduce(10000) took 0.008394s to run.\n",
      "fib_reduce(10000) took 0.004529s to run.\n",
      "fib_reduce(10000) took 0.003450s to run.\n",
      "fib_reduce(10000) took 0.004096s to run.\n",
      "fib_reduce(10000) took 0.002997s to run.\n",
      "fib_reduce(10000) took 0.003808s to run.\n"
     ]
    }
   ],
   "source": [
    "for i in range(10):\n",
    "    result = fib_reduce(10000)"
   ]
  },
  {
   "cell_type": "markdown",
   "metadata": {},
   "source": [
    "In general it is better to time the same function call multiple times and generate and average of the run times.\n",
    "\n",
    "We'll see in an upcoming video how we can do this from within our decorator."
   ]
  },
  {
   "cell_type": "markdown",
   "metadata": {},
   "source": [
    "In the meantime observe that the simple loop approach seems to perform about twice as fast as the reduce approach!!\n",
    "\n",
    "The moral of this side note is that simply because you **can** do something in  Python using some fancy or cool technique does not mean you **should**!"
   ]
  },
  {
   "cell_type": "markdown",
   "metadata": {},
   "source": [
    "We technically could write our reduce-based function as a one liner:"
   ]
  },
  {
   "cell_type": "code",
   "execution_count": 24,
   "metadata": {},
   "outputs": [],
   "source": [
    "from functools import reduce \n",
    "\n",
    "fib_1 = timed(lambda n: reduce(lambda prev, n: (prev[0] + prev[1], prev[0]),\n",
    "                               range(n), \n",
    "                               (0, 1))[0])"
   ]
  },
  {
   "cell_type": "code",
   "execution_count": 25,
   "metadata": {},
   "outputs": [
    {
     "name": "stdout",
     "output_type": "stream",
     "text": [
      "fib_loop(100) took 0.000065s to run.\n"
     ]
    },
    {
     "data": {
      "text/plain": [
       "354224848179261915075"
      ]
     },
     "execution_count": 25,
     "metadata": {},
     "output_type": "execute_result"
    }
   ],
   "source": [
    "fib_loop(100)"
   ]
  },
  {
   "cell_type": "code",
   "execution_count": 26,
   "metadata": {},
   "outputs": [
    {
     "name": "stdout",
     "output_type": "stream",
     "text": [
      "<lambda>(100) took 0.000152s to run.\n"
     ]
    },
    {
     "data": {
      "text/plain": [
       "354224848179261915075"
      ]
     },
     "execution_count": 26,
     "metadata": {},
     "output_type": "execute_result"
    }
   ],
   "source": [
    "fib_1(100)"
   ]
  },
  {
   "cell_type": "markdown",
   "metadata": {},
   "source": [
    "So yes, it's cool that you can write this using a single line of code, but consider two things here:\n",
    "1. Is it as efficient as another method?\n",
    "2. Is the code **readable**?\n",
    "\n",
    "Code readability is something I cannot emphasize enough. Given similar efficiencies (cpu / memory), give preference to code that is more easily understandable!\n",
    "\n",
    "Sometimes, if the efficiency is not greatly impacted (or does not matter in absolute terms), I might even give preference to less efficient, but more readable (i.e. understanbdable), code.\n",
    "\n",
    "But enough of the soapbox already :-)"
   ]
  }
 ],
 "metadata": {
  "kernelspec": {
   "display_name": "Python 3",
   "language": "python",
   "name": "python3"
  },
  "language_info": {
   "codemirror_mode": {
    "name": "ipython",
    "version": 3
   },
   "file_extension": ".py",
   "mimetype": "text/x-python",
   "name": "python",
   "nbconvert_exporter": "python",
   "pygments_lexer": "ipython3",
   "version": "3.8.5"
  }
 },
 "nbformat": 4,
 "nbformat_minor": 2
}
