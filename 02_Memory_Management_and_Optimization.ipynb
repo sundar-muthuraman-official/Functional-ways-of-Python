{
 "cells": [
  {
   "cell_type": "markdown",
   "metadata": {},
   "source": [
    "# Memory and Optimization in Python"
   ]
  },
  {
   "cell_type": "markdown",
   "metadata": {},
   "source": [
    "## Variables are Memory References"
   ]
  },
  {
   "cell_type": "markdown",
   "metadata": {},
   "source": [
    "We can find the memory address that a variable *references*, by using the `id()` function.\n",
    "\n",
    "The `id()` function returns the memory address of its argument as a base-10 integer.\n",
    "\n",
    "We can use the function `hex()` to convert the base-10 number to base-16."
   ]
  },
  {
   "cell_type": "code",
   "execution_count": null,
   "metadata": {},
   "outputs": [],
   "source": [
    "user_id = 12\n",
    "print(f\"user_id:{user_id}\")\n",
    "print(f\"Address of user_id:{hex(id(user_id))}\")"
   ]
  },
  {
   "cell_type": "code",
   "execution_count": null,
   "metadata": {},
   "outputs": [],
   "source": [
    "user_name = \"Mike\"\n",
    "print(f\"user_id:{user_name}\")\n",
    "print(f\"Address of user_id:{hex(id(user_name))}\")"
   ]
  },
  {
   "cell_type": "markdown",
   "metadata": {},
   "source": [
    "## References"
   ]
  },
  {
   "cell_type": "markdown",
   "metadata": {},
   "source": [
    "Let's make a variable, and check it's reference count:"
   ]
  },
  {
   "cell_type": "code",
   "execution_count": null,
   "metadata": {},
   "outputs": [],
   "source": [
    "customer_list = [1,2,3]"
   ]
  },
  {
   "cell_type": "code",
   "execution_count": null,
   "metadata": {},
   "outputs": [],
   "source": [
    "import sys \n",
    "sys.getrefcount(customer_list)"
   ]
  },
  {
   "cell_type": "markdown",
   "metadata": {},
   "source": [
    "How its returning 2 , seems like we found a bug in Python !!!\n",
    "\n",
    "Answer is the *sys.getrefcount()* function takes **my_var** as an argument, this means it receives (and stores) a reference to **my_var**'s memory address **also** - hence the count is off by 1. So we will use *from_address()* instead."
   ]
  },
  {
   "cell_type": "markdown",
   "metadata": {},
   "source": [
    "Method that returns the reference count for a given variable's memory address:"
   ]
  },
  {
   "cell_type": "markdown",
   "metadata": {},
   "source": [
    "Python **ctypes** has a method to return the reference count , now lets write our function to get the count usin **ctypes**"
   ]
  },
  {
   "cell_type": "code",
   "execution_count": 3,
   "metadata": {},
   "outputs": [],
   "source": [
    "import ctypes\n",
    "\n",
    "def reference_count(address):\n",
    "    return ctypes.c_long.from_address(address).value"
   ]
  },
  {
   "cell_type": "code",
   "execution_count": null,
   "metadata": {},
   "outputs": [],
   "source": [
    "address = id(customer_list)\n",
    "\n",
    "reference_count(address)"
   ]
  },
  {
   "cell_type": "markdown",
   "metadata": {},
   "source": [
    "Lets do something interesting , but the below approach should be followed"
   ]
  },
  {
   "cell_type": "code",
   "execution_count": null,
   "metadata": {},
   "outputs": [],
   "source": [
    "dup_customer_list = customer_list\n",
    "\n",
    "address_dup = id(dup_customer_list)\n",
    "\n",
    "reference_count(address_dup)"
   ]
  },
  {
   "cell_type": "markdown",
   "metadata": {},
   "source": [
    "## Garabage Collection "
   ]
  },
  {
   "cell_type": "code",
   "execution_count": 1,
   "metadata": {},
   "outputs": [],
   "source": [
    "import gc"
   ]
  },
  {
   "cell_type": "markdown",
   "metadata": {},
   "source": [
    "We create a function that will search the objects in the GC for a specified id and tell us if the object was found or not"
   ]
  },
  {
   "cell_type": "code",
   "execution_count": 16,
   "metadata": {},
   "outputs": [],
   "source": [
    "def obj_availabilty(obj_id):\n",
    "    for obj in gc.get_objects():\n",
    "        if id(obj) == obj_id:\n",
    "            return \"Object exists!\"\n",
    "    return \"Not Found!\""
   ]
  },
  {
   "cell_type": "markdown",
   "metadata": {},
   "source": [
    "Next we define two classes that we will use to create a circular reference\n",
    "\n",
    "Class User's constructor will create an instance of class Purchase_History and pass itself to class Purchase_History's constructor that will then store that reference in some instance variable."
   ]
  },
  {
   "cell_type": "code",
   "execution_count": 5,
   "metadata": {},
   "outputs": [],
   "source": [
    "class User:\n",
    "    def __init__(self):\n",
    "        self.purchase_history = Purchase_History(self)\n",
    "        print(f'User: self: {hex(id(self))}, Purchase_History:{hex(id(self.purchase_history))}')"
   ]
  },
  {
   "cell_type": "code",
   "execution_count": 6,
   "metadata": {},
   "outputs": [],
   "source": [
    "class Purchase_History:\n",
    "    def __init__(self, user):\n",
    "        self.user = user\n",
    "        print(f'Purchase_History: self: {hex(id(self))}, User: {hex(id(self.user))}')"
   ]
  },
  {
   "cell_type": "markdown",
   "metadata": {},
   "source": [
    "We turn off the GC so we can see how reference counts are affected when the GC does not run and when it does (by running it manually)."
   ]
  },
  {
   "cell_type": "code",
   "execution_count": 2,
   "metadata": {},
   "outputs": [],
   "source": [
    "gc.disable()"
   ]
  },
  {
   "cell_type": "markdown",
   "metadata": {},
   "source": [
    "Now we create an instance of User, which will, in turn, create an instance of Purchase_History which will store a reference to the calling User instance."
   ]
  },
  {
   "cell_type": "code",
   "execution_count": 7,
   "metadata": {},
   "outputs": [
    {
     "name": "stdout",
     "output_type": "stream",
     "text": [
      "Purchase_History: self: 0x1bfe98a5da0, User: 0x1bfe98a5e10\n",
      "User: self: 0x1bfe98a5e10, Purchase_History:0x1bfe98a5da0\n"
     ]
    }
   ],
   "source": [
    "user_1 = User()"
   ]
  },
  {
   "cell_type": "markdown",
   "metadata": {},
   "source": [
    "As we can see User and Purchase_History's constructors ran, and we also see from the memory addresses that we have a circular reference.\n",
    "\n",
    "In fact `user_1` is also a reference to the same User instance:"
   ]
  },
  {
   "cell_type": "code",
   "execution_count": null,
   "metadata": {},
   "outputs": [],
   "source": [
    "print(hex(id(user_1)))"
   ]
  },
  {
   "cell_type": "markdown",
   "metadata": {},
   "source": [
    "Now lets how many references we have for `User` and `Purchase_History` is available"
   ]
  },
  {
   "cell_type": "code",
   "execution_count": 8,
   "metadata": {},
   "outputs": [],
   "source": [
    "user_id = id(user_1)\n",
    "purchase_history_id = id(user_1.purchase_history)"
   ]
  },
  {
   "cell_type": "code",
   "execution_count": 17,
   "metadata": {},
   "outputs": [
    {
     "name": "stdout",
     "output_type": "stream",
     "text": [
      "reference_count(User) = 2\n",
      "reference_count(Purchase_History) = 1\n",
      "User: Object exists!\n",
      "Purchase_History: Object exists!\n"
     ]
    }
   ],
   "source": [
    "print(f'reference_count(User) = {reference_count(user_id)}')\n",
    "print(f'reference_count(Purchase_History) = {reference_count(purchase_history_id)}')\n",
    "print(f'User: {obj_availabilty(user_id)}')\n",
    "print(f'Purchase_History: {obj_availabilty(purchase_history_id)}')"
   ]
  },
  {
   "cell_type": "markdown",
   "metadata": {},
   "source": [
    "Now, let's remove the reference to the A instance that is being held by `user_1`:"
   ]
  },
  {
   "cell_type": "code",
   "execution_count": 18,
   "metadata": {},
   "outputs": [],
   "source": [
    "user_1 = None"
   ]
  },
  {
   "cell_type": "code",
   "execution_count": 19,
   "metadata": {},
   "outputs": [
    {
     "name": "stdout",
     "output_type": "stream",
     "text": [
      "reference_count(User) = 1\n",
      "reference_count(Purchase_History) = 1\n",
      "User: Object exists!\n",
      "Purchase_History: Object exists!\n"
     ]
    }
   ],
   "source": [
    "print(f'reference_count(User) = {reference_count(user_id)}')\n",
    "print(f'reference_count(Purchase_History) = {reference_count(purchase_history_id)}')\n",
    "print(f'User: {obj_availabilty(user_id)}')\n",
    "print(f'Purchase_History: {obj_availabilty(purchase_history_id)}')"
   ]
  },
  {
   "cell_type": "markdown",
   "metadata": {},
   "source": [
    "we can see, the reference counts are now both equal to 1 (a pure **circular reference**), and reference counting alone did not destroy the User and Purchase_History instances - they're still around. \n",
    "If no garbage collection is performed this would result in a **memory leak**."
   ]
  },
  {
   "cell_type": "markdown",
   "metadata": {},
   "source": [
    "Let's run the GC manually and re-check"
   ]
  },
  {
   "cell_type": "code",
   "execution_count": 20,
   "metadata": {},
   "outputs": [
    {
     "data": {
      "text/plain": [
       "177"
      ]
     },
     "execution_count": 20,
     "metadata": {},
     "output_type": "execute_result"
    }
   ],
   "source": [
    "gc.collect()"
   ]
  },
  {
   "cell_type": "code",
   "execution_count": 21,
   "metadata": {},
   "outputs": [
    {
     "name": "stdout",
     "output_type": "stream",
     "text": [
      "reference_count(User) = 0\n",
      "reference_count(Purchase_History) = 0\n",
      "User: Not Found!\n",
      "Purchase_History: Not Found!\n"
     ]
    }
   ],
   "source": [
    "print(f'reference_count(User) = {reference_count(user_id)}')\n",
    "print(f'reference_count(Purchase_History) = {reference_count(purchase_history_id)}')\n",
    "print(f'User: {obj_availabilty(user_id)}')\n",
    "print(f'Purchase_History: {obj_availabilty(purchase_history_id)}')"
   ]
  },
  {
   "cell_type": "markdown",
   "metadata": {},
   "source": [
    "Now lets Enable GC to do its work"
   ]
  },
  {
   "cell_type": "code",
   "execution_count": 22,
   "metadata": {},
   "outputs": [],
   "source": [
    "gc.enable()"
   ]
  },
  {
   "cell_type": "markdown",
   "metadata": {},
   "source": [
    "## Object Mutability"
   ]
  },
  {
   "cell_type": "markdown",
   "metadata": {},
   "source": [
    "Certain Python built-in object types (aka data types) are **mutable**.\n",
    "\n",
    "That is, the internal contents (state) of the object in memory can be modified."
   ]
  },
  {
   "cell_type": "code",
   "execution_count": 23,
   "metadata": {},
   "outputs": [
    {
     "name": "stdout",
     "output_type": "stream",
     "text": [
      "[1, 2, 3]\n",
      "0x1bfe8b621c8\n"
     ]
    }
   ],
   "source": [
    "my_list = [1, 2, 3]\n",
    "print(my_list)\n",
    "print(hex(id(my_list)))"
   ]
  },
  {
   "cell_type": "code",
   "execution_count": 24,
   "metadata": {},
   "outputs": [
    {
     "name": "stdout",
     "output_type": "stream",
     "text": [
      "[1, 2, 3, 4]\n",
      "0x1bfe8b621c8\n"
     ]
    }
   ],
   "source": [
    "my_list.append(4)\n",
    "print(my_list)\n",
    "print(hex(id(my_list)))"
   ]
  },
  {
   "cell_type": "markdown",
   "metadata": {},
   "source": [
    "As you can see, the memory address of *my_list* has **not** changed.\n",
    "\n",
    "But, the **contents** of *my_list* has changed from *[1, 2, 3]* to *[1, 2, 3, 4]*."
   ]
  },
  {
   "cell_type": "markdown",
   "metadata": {},
   "source": [
    "On the other hand, consider this:"
   ]
  },
  {
   "cell_type": "code",
   "execution_count": 25,
   "metadata": {},
   "outputs": [
    {
     "name": "stdout",
     "output_type": "stream",
     "text": [
      "[1, 2, 3]\n",
      "0x1bfea6a1448\n"
     ]
    }
   ],
   "source": [
    "my_list_1 = [1, 2, 3]\n",
    "print(my_list_1)\n",
    "print(hex(id(my_list_1)))"
   ]
  },
  {
   "cell_type": "code",
   "execution_count": 26,
   "metadata": {},
   "outputs": [
    {
     "name": "stdout",
     "output_type": "stream",
     "text": [
      "[1, 2, 3, 4]\n",
      "0x1bfea6a1508\n"
     ]
    }
   ],
   "source": [
    "my_list_1 = my_list_1 + [4]\n",
    "print(my_list_1)\n",
    "print(hex(id(my_list_1)))"
   ]
  },
  {
   "cell_type": "markdown",
   "metadata": {},
   "source": [
    "## Args Mutability"
   ]
  },
  {
   "cell_type": "markdown",
   "metadata": {},
   "source": [
    "Consider a function that receives a *string* argument, and changes the argument"
   ]
  },
  {
   "cell_type": "code",
   "execution_count": 33,
   "metadata": {},
   "outputs": [],
   "source": [
    "def hex_id(var):\n",
    "    return hex(id(var))"
   ]
  },
  {
   "cell_type": "code",
   "execution_count": 34,
   "metadata": {},
   "outputs": [],
   "source": [
    "def greet(name):\n",
    "    print(f\"name location before concatenation:{hex_id(name)}\")\n",
    "    name = \"Hello\" +\" \"+ name\n",
    "    print(f\"name location after concatenation:{hex_id(name)}\")\n",
    "    return name"
   ]
  },
  {
   "cell_type": "code",
   "execution_count": 35,
   "metadata": {},
   "outputs": [
    {
     "name": "stdout",
     "output_type": "stream",
     "text": [
      "u_name is located at 0x1bfe973fca8\n"
     ]
    }
   ],
   "source": [
    "u_name = \"Steve\"\n",
    "print(f\"u_name is located at {hex_id(u_name)}\")"
   ]
  },
  {
   "cell_type": "markdown",
   "metadata": {},
   "source": [
    "Note that when *name* is received, it is referencing the same object as *u_name*.\n",
    "\n",
    "After we \"modify\" *name*, *name* is pointing to a new memory address:"
   ]
  },
  {
   "cell_type": "code",
   "execution_count": 36,
   "metadata": {},
   "outputs": [
    {
     "name": "stdout",
     "output_type": "stream",
     "text": [
      "name location before concatination:0x1bfe973fca8\n",
      "name location after concatination:0x1bfea6a1630\n"
     ]
    },
    {
     "data": {
      "text/plain": [
       "'Hello Steve'"
      ]
     },
     "execution_count": 36,
     "metadata": {},
     "output_type": "execute_result"
    }
   ],
   "source": [
    "greet(u_name)"
   ]
  },
  {
   "cell_type": "markdown",
   "metadata": {},
   "source": [
    "Use Case of Mutability on Mutable Obj arg:"
   ]
  },
  {
   "cell_type": "code",
   "execution_count": 48,
   "metadata": {},
   "outputs": [],
   "source": [
    "def list_updater(container,value):\n",
    "    print(f\"container location before update:{hex_id(container)}\")\n",
    "    index = 0\n",
    "    while index <= len(container):\n",
    "        if value in container:\n",
    "            break\n",
    "        else:\n",
    "            container.append(value)\n",
    "            print(f\"container location after update:{hex_id(container)}\")\n",
    "        index += 1\n",
    "    return None\n",
    "    "
   ]
  },
  {
   "cell_type": "code",
   "execution_count": 49,
   "metadata": {},
   "outputs": [
    {
     "name": "stdout",
     "output_type": "stream",
     "text": [
      "my_items is located at:0x1bfe9a18b88\n"
     ]
    }
   ],
   "source": [
    "my_items = [21,92,43]\n",
    "\n",
    "print(f\"my_items is located at:{hex_id(my_items)}\")"
   ]
  },
  {
   "cell_type": "code",
   "execution_count": 50,
   "metadata": {},
   "outputs": [
    {
     "name": "stdout",
     "output_type": "stream",
     "text": [
      "container location before update:0x1bfe9a18b88\n"
     ]
    }
   ],
   "source": [
    "list_updater(my_items,21)"
   ]
  },
  {
   "cell_type": "code",
   "execution_count": 51,
   "metadata": {},
   "outputs": [
    {
     "name": "stdout",
     "output_type": "stream",
     "text": [
      "container location before update:0x1bfe9a18b88\n",
      "container location after update:0x1bfe9a18b88\n"
     ]
    }
   ],
   "source": [
    "list_updater(my_items,22)"
   ]
  },
  {
   "cell_type": "code",
   "execution_count": 52,
   "metadata": {},
   "outputs": [
    {
     "name": "stdout",
     "output_type": "stream",
     "text": [
      "[21, 92, 43, 22]\n"
     ]
    }
   ],
   "source": [
    "print(my_items)"
   ]
  },
  {
   "cell_type": "markdown",
   "metadata": {},
   "source": [
    "The memory address referenced by *my_list* and *items* is always the **same** (shared) reference.\n",
    "we are simply modifying the contents (**internal state**) of the object at that memory address."
   ]
  },
  {
   "cell_type": "markdown",
   "metadata": {},
   "source": [
    "Use Case of Mutability on Immutable Obj arg:"
   ]
  },
  {
   "cell_type": "code",
   "execution_count": 54,
   "metadata": {},
   "outputs": [],
   "source": [
    "def tuple_updater(container,value):\n",
    "    print(f\"container location before update:{hex_id(container)}\")\n",
    "    container[0].append(100)\n",
    "    print(f\"container location after update:{hex_id(container)}\")\n",
    "    return None    "
   ]
  },
  {
   "cell_type": "code",
   "execution_count": 55,
   "metadata": {},
   "outputs": [
    {
     "name": "stdout",
     "output_type": "stream",
     "text": [
      "my_tuple is located at:0x1bfea67a108\n"
     ]
    }
   ],
   "source": [
    "my_tuple = ([23,91],\"Range\")\n",
    "print(f\"my_tuple is located at:{hex_id(my_tuple)}\")"
   ]
  },
  {
   "cell_type": "code",
   "execution_count": 57,
   "metadata": {},
   "outputs": [
    {
     "name": "stdout",
     "output_type": "stream",
     "text": [
      "container location before update:0x1bfea67a108\n",
      "container location after update:0x1bfea67a108\n"
     ]
    }
   ],
   "source": [
    "tuple_updater(my_tuple,20)"
   ]
  },
  {
   "cell_type": "code",
   "execution_count": 58,
   "metadata": {},
   "outputs": [
    {
     "name": "stdout",
     "output_type": "stream",
     "text": [
      "my_tuple is located at:0x1bfea67a108\n"
     ]
    }
   ],
   "source": [
    "print(f\"my_tuple is located at:{hex_id(my_tuple)}\")"
   ]
  },
  {
   "cell_type": "markdown",
   "metadata": {},
   "source": [
    "As you can see, the first element of the tuple was mutated."
   ]
  },
  {
   "cell_type": "markdown",
   "metadata": {},
   "source": [
    "## Variable Equality "
   ]
  },
  {
   "cell_type": "code",
   "execution_count": 59,
   "metadata": {},
   "outputs": [
    {
     "name": "stdout",
     "output_type": "stream",
     "text": [
      "Unit is located at:0x7ff8acbdb470\n",
      "Customer_id is located at:0x7ff8acbdb470\n",
      "Integer value 10 is located at:0x7ff8acbdb470\n"
     ]
    }
   ],
   "source": [
    "unit = 10\n",
    "customer_id = 10 \n",
    "print(f\"Unit is located at:{hex_id(unit)}\")\n",
    "print(f\"Customer_id is located at:{hex_id(customer_id)}\")\n",
    "print(f\"Integer value 10 is located at:{hex_id(10)}\")"
   ]
  },
  {
   "cell_type": "markdown",
   "metadata": {},
   "source": [
    "When we use the **is** operator, we are comparing the memory address **references**:"
   ]
  },
  {
   "cell_type": "code",
   "execution_count": 60,
   "metadata": {},
   "outputs": [
    {
     "name": "stdout",
     "output_type": "stream",
     "text": [
      "Unit and Customer_id are located at the same location:True\n"
     ]
    }
   ],
   "source": [
    "print(f\"Unit and Customer_id are located at the same location:{unit is customer_id}\")"
   ]
  },
  {
   "cell_type": "markdown",
   "metadata": {},
   "source": [
    "Lets take a mutable obj example:"
   ]
  },
  {
   "cell_type": "code",
   "execution_count": 66,
   "metadata": {},
   "outputs": [
    {
     "name": "stdout",
     "output_type": "stream",
     "text": [
      "user_id is located at:0x1bfe9a2cc48\n",
      "datarows is located at:0x1bfea647d48\n"
     ]
    }
   ],
   "source": [
    "user_ids = [1,2,3]\n",
    "data_rows = [1,2,3]\n",
    "\n",
    "print(f\"user_id is located at:{hex_id(user_ids)}\")\n",
    "print(f\"datarows is located at:{hex_id(data_rows)}\")"
   ]
  },
  {
   "cell_type": "markdown",
   "metadata": {},
   "source": [
    "Although they are not the same objects, they do contain the same \"values\":"
   ]
  },
  {
   "cell_type": "code",
   "execution_count": 67,
   "metadata": {},
   "outputs": [
    {
     "name": "stdout",
     "output_type": "stream",
     "text": [
      "user_id and data_rows located at same location:False\n",
      "user_id and data_rows are having same value:True\n"
     ]
    }
   ],
   "source": [
    "print(f\"user_id and data_rows located at same location:{user_ids is data_rows}\")\n",
    "print(f\"user_id and data_rows are having same value:{user_ids == data_rows}\")"
   ]
  },
  {
   "cell_type": "code",
   "execution_count": 68,
   "metadata": {},
   "outputs": [
    {
     "name": "stdout",
     "output_type": "stream",
     "text": [
      "row_no is located at:0x7ff8acbdbe70\n",
      "age is located at:0x1bfe8a12d38\n"
     ]
    }
   ],
   "source": [
    "row_no = 90\n",
    "age = 90.0\n",
    "print(f\"row_no is located at:{hex_id(row_no)}\")\n",
    "print(f\"age is located at:{hex_id(age)}\")"
   ]
  },
  {
   "cell_type": "code",
   "execution_count": 69,
   "metadata": {},
   "outputs": [
    {
     "name": "stdout",
     "output_type": "stream",
     "text": [
      "row_no belongs to:<class 'int'>\n",
      "age belongs to:<class 'float'>\n"
     ]
    }
   ],
   "source": [
    "print(f\"row_no belongs to:{type(row_no)}\")\n",
    "print(f\"age belongs to:{type(age)}\")"
   ]
  },
  {
   "cell_type": "markdown",
   "metadata": {},
   "source": [
    "## Python Optimizations: Interning"
   ]
  },
  {
   "cell_type": "markdown",
   "metadata": {},
   "source": [
    "Earlier, we saw shared references being created automatically by Python:"
   ]
  },
  {
   "cell_type": "markdown",
   "metadata": {},
   "source": [
    "Python pre-caches integer objects in the range [-5, 256]"
   ]
  },
  {
   "cell_type": "code",
   "execution_count": 71,
   "metadata": {},
   "outputs": [],
   "source": [
    "high = 257\n",
    "low = 256\n",
    "current = 256"
   ]
  },
  {
   "cell_type": "code",
   "execution_count": 72,
   "metadata": {},
   "outputs": [
    {
     "name": "stdout",
     "output_type": "stream",
     "text": [
      "stocks high @1923767769712\n",
      "stocks low @140706026738480\n",
      "stocks current @140706026738480\n"
     ]
    }
   ],
   "source": [
    "print(f\"stocks high @ {id(high)}\")\n",
    "print(f\"stocks low @ {id(low)}\")\n",
    "print(f\"stocks current @ {id(current)}\")"
   ]
  },
  {
   "cell_type": "code",
   "execution_count": 73,
   "metadata": {},
   "outputs": [
    {
     "data": {
      "text/plain": [
       "True"
      ]
     },
     "execution_count": 73,
     "metadata": {},
     "output_type": "execute_result"
    }
   ],
   "source": [
    "low is current"
   ]
  },
  {
   "cell_type": "markdown",
   "metadata": {},
   "source": [
    "The integers in the range [-5, 256] are essentially **singleton** objects."
   ]
  },
  {
   "cell_type": "markdown",
   "metadata": {},
   "source": [
    "## How about Strings then"
   ]
  },
  {
   "cell_type": "markdown",
   "metadata": {},
   "source": [
    "Python will automatically intern *certain* strings.\n",
    "\n",
    "In particular all the identifiers (variable names, function names, class names, etc) are interned (singleton objects created).\n",
    "\n",
    "Python will also intern string literals that look like identifiers.\n",
    "\n",
    "For example:"
   ]
  },
  {
   "cell_type": "code",
   "execution_count": 74,
   "metadata": {},
   "outputs": [
    {
     "name": "stdout",
     "output_type": "stream",
     "text": [
      "1923782028232\n",
      "1923782028232\n"
     ]
    }
   ],
   "source": [
    "greet_1 = 'hello'\n",
    "greet_2 = 'hello'\n",
    "print(id(greet_1))\n",
    "print(id(greet_2))"
   ]
  },
  {
   "cell_type": "code",
   "execution_count": 75,
   "metadata": {},
   "outputs": [
    {
     "name": "stdout",
     "output_type": "stream",
     "text": [
      "1923783239280\n",
      "1923770121200\n"
     ]
    }
   ],
   "source": [
    "#but not the below\n",
    "greet_1 = 'hello, world!'\n",
    "greet_2 = 'hello, world!'\n",
    "print(id(greet_1))\n",
    "print(id(greet_2))"
   ]
  },
  {
   "cell_type": "markdown",
   "metadata": {},
   "source": [
    "However, because the following literals resemble identifiers, even though they are quite long, Python will still automatically intern them:"
   ]
  },
  {
   "cell_type": "code",
   "execution_count": 76,
   "metadata": {},
   "outputs": [
    {
     "name": "stdout",
     "output_type": "stream",
     "text": [
      "1923783220592\n",
      "1923783220592\n"
     ]
    }
   ],
   "source": [
    "greet_1 = 'hello_world'\n",
    "greet_2 = 'hello_world'\n",
    "print(id(greet_1))\n",
    "print(id(greet_2))"
   ]
  },
  {
   "cell_type": "markdown",
   "metadata": {},
   "source": [
    "How about even more longer once:"
   ]
  },
  {
   "cell_type": "code",
   "execution_count": 80,
   "metadata": {},
   "outputs": [
    {
     "name": "stdout",
     "output_type": "stream",
     "text": [
      "1923770694544\n",
      "1923770694544\n"
     ]
    }
   ],
   "source": [
    "string1 = '_this_is_a_long_string_that_could_be_used_as_an_Identifier'\n",
    "string2 = '_this_is_a_long_string_that_could_be_used_as_an_Identifier'\n",
    "print(id(string1))\n",
    "print(id(string2))"
   ]
  },
  {
   "cell_type": "code",
   "execution_count": 78,
   "metadata": {},
   "outputs": [
    {
     "name": "stdout",
     "output_type": "stream",
     "text": [
      "1923768028016\n",
      "1923768028016\n"
     ]
    }
   ],
   "source": [
    "statement1 = \"HELLO_ALL_HOW_ARE_DOING\"\n",
    "statement2 = \"HELLO_ALL_HOW_ARE_DOING\"\n",
    "print(id(statement1))\n",
    "print(id(statement2))"
   ]
  },
  {
   "cell_type": "code",
   "execution_count": 82,
   "metadata": {},
   "outputs": [
    {
     "name": "stdout",
     "output_type": "stream",
     "text": [
      "1923783239280\n",
      "1923770080496\n"
     ]
    }
   ],
   "source": [
    "greet_1 = 'hello world'\n",
    "greet_2 = 'hello world'\n",
    "print(id(greet_1))\n",
    "print(id(greet_2))"
   ]
  },
  {
   "cell_type": "markdown",
   "metadata": {},
   "source": [
    "Interning strings (making them singleton objects) means that testing for string equality can be done faster by comparing the memory address"
   ]
  },
  {
   "cell_type": "markdown",
   "metadata": {},
   "source": [
    "#### <font color=\"orange\">Note: Remember, using `is` ONLY works if the strings were interned!</font>\n",
    "\n",
    "Here's where this technique fails:"
   ]
  },
  {
   "cell_type": "code",
   "execution_count": 83,
   "metadata": {},
   "outputs": [
    {
     "data": {
      "text/plain": [
       "False"
      ]
     },
     "execution_count": 83,
     "metadata": {},
     "output_type": "execute_result"
    }
   ],
   "source": [
    "greet_1 is greet_2"
   ]
  },
  {
   "cell_type": "markdown",
   "metadata": {},
   "source": [
    "But still equality works:"
   ]
  },
  {
   "cell_type": "code",
   "execution_count": 88,
   "metadata": {},
   "outputs": [
    {
     "data": {
      "text/plain": [
       "True"
      ]
     },
     "execution_count": 88,
     "metadata": {},
     "output_type": "execute_result"
    }
   ],
   "source": [
    "greet_1 == greet_2"
   ]
  },
  {
   "cell_type": "markdown",
   "metadata": {},
   "source": [
    "We *can* force strings to be interned (but only use it if you have a valid performance optimization need):"
   ]
  },
  {
   "cell_type": "code",
   "execution_count": 85,
   "metadata": {},
   "outputs": [],
   "source": [
    "greet_1 = sys.intern('hello world')\n",
    "greet_2 = sys.intern('hello world')\n",
    "greet_3 = 'hello world'"
   ]
  },
  {
   "cell_type": "code",
   "execution_count": 86,
   "metadata": {},
   "outputs": [
    {
     "name": "stdout",
     "output_type": "stream",
     "text": [
      "1923770120944\n",
      "1923770120944\n",
      "1923770102320\n"
     ]
    }
   ],
   "source": [
    "print(id(greet_1))\n",
    "print(id(greet_2))\n",
    "print(id(greet_3))"
   ]
  },
  {
   "cell_type": "markdown",
   "metadata": {},
   "source": [
    "Notice how `greet_1` and `greet_2` are pointing to the same object, but `greet_3` is **NOT**.\n",
    "\n",
    "So, since both `greet_1` and `greet_2` were interned we can use `is` to test for equality of the two strings:"
   ]
  },
  {
   "cell_type": "code",
   "execution_count": 87,
   "metadata": {},
   "outputs": [
    {
     "data": {
      "text/plain": [
       "True"
      ]
     },
     "execution_count": 87,
     "metadata": {},
     "output_type": "execute_result"
    }
   ],
   "source": [
    "greet_1 is greet_2"
   ]
  },
  {
   "cell_type": "code",
   "execution_count": null,
   "metadata": {},
   "outputs": [],
   "source": []
  }
 ],
 "metadata": {
  "kernelspec": {
   "display_name": "Python 3",
   "language": "python",
   "name": "python3"
  },
  "language_info": {
   "codemirror_mode": {
    "name": "ipython",
    "version": 3
   },
   "file_extension": ".py",
   "mimetype": "text/x-python",
   "name": "python",
   "nbconvert_exporter": "python",
   "pygments_lexer": "ipython3",
   "version": "3.7.1"
  }
 },
 "nbformat": 4,
 "nbformat_minor": 4
}
