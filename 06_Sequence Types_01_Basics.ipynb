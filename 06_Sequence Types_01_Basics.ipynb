{
 "cells": [
  {
   "cell_type": "markdown",
   "metadata": {},
   "source": [
    "### Sequence Types"
   ]
  },
  {
   "cell_type": "markdown",
   "metadata": {},
   "source": [
    "Sequence types have the general concept of a first element, a second element, and so on. Basically an ordering of the sequence items using the natural numbers. In Python (* many other languages) the starting index is set to `0`, not `1`.\n",
    "\n",
    "So the first item has index `0`, the second item has index `1`, and so on."
   ]
  },
  {
   "cell_type": "markdown",
   "metadata": {},
   "source": [
    "Python has built-in mutable and immutable sequence types."
   ]
  },
  {
   "cell_type": "markdown",
   "metadata": {},
   "source": [
    "Strings, tuples are immutable - we can access but not modify the **content** of the **sequence**:"
   ]
  },
  {
   "cell_type": "code",
   "execution_count": 1,
   "metadata": {},
   "outputs": [],
   "source": [
    "t = (1, 2, 3)"
   ]
  },
  {
   "cell_type": "code",
   "execution_count": 2,
   "metadata": {},
   "outputs": [
    {
     "data": {
      "text/plain": [
       "1"
      ]
     },
     "execution_count": 2,
     "metadata": {},
     "output_type": "execute_result"
    }
   ],
   "source": [
    "t[0]"
   ]
  },
  {
   "cell_type": "code",
   "execution_count": 3,
   "metadata": {},
   "outputs": [
    {
     "ename": "TypeError",
     "evalue": "'tuple' object does not support item assignment",
     "output_type": "error",
     "traceback": [
      "\u001b[0;31m------------------------------------------------------------\u001b[0m",
      "\u001b[0;31mTypeError\u001b[0m                  Traceback (most recent call last)",
      "\u001b[0;32m<ipython-input-3-e6cf7836e708>\u001b[0m in \u001b[0;36m<module>\u001b[0;34m\u001b[0m\n\u001b[0;32m----> 1\u001b[0;31m \u001b[0mt\u001b[0m\u001b[0;34m[\u001b[0m\u001b[0;36m0\u001b[0m\u001b[0;34m]\u001b[0m \u001b[0;34m=\u001b[0m \u001b[0;36m100\u001b[0m\u001b[0;34m\u001b[0m\u001b[0;34m\u001b[0m\u001b[0m\n\u001b[0m",
      "\u001b[0;31mTypeError\u001b[0m: 'tuple' object does not support item assignment"
     ]
    }
   ],
   "source": [
    "t[0] = 100"
   ]
  },
  {
   "cell_type": "markdown",
   "metadata": {},
   "source": [
    "But of course, if the sequence contains mutable objects, then although we cannot modify the sequence of elements (cannot replace, delete or insert elements), we certainly **can** change the contents of the mutable objects:"
   ]
  },
  {
   "cell_type": "code",
   "execution_count": 4,
   "metadata": {},
   "outputs": [],
   "source": [
    "t = ( [1, 2], 3, 4)"
   ]
  },
  {
   "cell_type": "markdown",
   "metadata": {},
   "source": [
    "`t` is immutable, but its first element is a mutable object:"
   ]
  },
  {
   "cell_type": "code",
   "execution_count": 5,
   "metadata": {},
   "outputs": [],
   "source": [
    "t[0][0] = 100"
   ]
  },
  {
   "cell_type": "code",
   "execution_count": 6,
   "metadata": {},
   "outputs": [
    {
     "data": {
      "text/plain": [
       "([100, 2], 3, 4)"
      ]
     },
     "execution_count": 6,
     "metadata": {},
     "output_type": "execute_result"
    }
   ],
   "source": [
    "t"
   ]
  },
  {
   "cell_type": "markdown",
   "metadata": {},
   "source": [
    "#### Iterables"
   ]
  },
  {
   "cell_type": "markdown",
   "metadata": {},
   "source": [
    "An **iterable** is just something that can be iterated over, for example using a `for` loop:"
   ]
  },
  {
   "cell_type": "code",
   "execution_count": 7,
   "metadata": {},
   "outputs": [],
   "source": [
    "t = (10, 'a', 1+3j)"
   ]
  },
  {
   "cell_type": "code",
   "execution_count": 8,
   "metadata": {},
   "outputs": [],
   "source": [
    "s = {10, 'a', 1+3j}"
   ]
  },
  {
   "cell_type": "code",
   "execution_count": 9,
   "metadata": {},
   "outputs": [
    {
     "name": "stdout",
     "output_type": "stream",
     "text": [
      "10\n",
      "a\n",
      "(1+3j)\n"
     ]
    }
   ],
   "source": [
    "for c in t:\n",
    "    print(c)"
   ]
  },
  {
   "cell_type": "code",
   "execution_count": 10,
   "metadata": {},
   "outputs": [
    {
     "name": "stdout",
     "output_type": "stream",
     "text": [
      "(1+3j)\n",
      "10\n",
      "a\n"
     ]
    }
   ],
   "source": [
    "for c in s:\n",
    "    print(c)"
   ]
  },
  {
   "cell_type": "markdown",
   "metadata": {},
   "source": [
    "Note how we could iterate over both the tuple and the set. Iterating the tuple preserved the **order** of the elements in the tuple, but not for the set. Sets do not have an ordering of elements - they are iterable, but not sequences."
   ]
  },
  {
   "cell_type": "markdown",
   "metadata": {},
   "source": [
    "Most sequence types support the `in` and `not in` operations. Ranges do too, but not quite as efficiently as lists, tuples, strings, etc."
   ]
  },
  {
   "cell_type": "code",
   "execution_count": 11,
   "metadata": {},
   "outputs": [
    {
     "data": {
      "text/plain": [
       "True"
      ]
     },
     "execution_count": 11,
     "metadata": {},
     "output_type": "execute_result"
    }
   ],
   "source": [
    "'a' in ['a', 'b', 100]"
   ]
  },
  {
   "cell_type": "code",
   "execution_count": 12,
   "metadata": {},
   "outputs": [
    {
     "data": {
      "text/plain": [
       "True"
      ]
     },
     "execution_count": 12,
     "metadata": {},
     "output_type": "execute_result"
    }
   ],
   "source": [
    "100 in range(200)"
   ]
  },
  {
   "cell_type": "markdown",
   "metadata": {},
   "source": [
    "#### Min, Max and Length"
   ]
  },
  {
   "cell_type": "markdown",
   "metadata": {},
   "source": [
    "Sequences also generally support the `len` method to obtain the number of items in the collection. Some iterables may also support that method."
   ]
  },
  {
   "cell_type": "code",
   "execution_count": 13,
   "metadata": {},
   "outputs": [
    {
     "data": {
      "text/plain": [
       "(6, 3, 3, 2)"
      ]
     },
     "execution_count": 13,
     "metadata": {},
     "output_type": "execute_result"
    }
   ],
   "source": [
    "len('python'), len([1, 2, 3]), len({10, 20, 30}), len({'a': 1, 'b': 2})"
   ]
  },
  {
   "cell_type": "markdown",
   "metadata": {},
   "source": [
    "Sequences (and even some iterables) may support `max` and `min` as long as the data types in the collection can be **ordered** in some sense (`<` or `>`)."
   ]
  },
  {
   "cell_type": "code",
   "execution_count": 14,
   "metadata": {},
   "outputs": [
    {
     "data": {
      "text/plain": [
       "(100, 300)"
      ]
     },
     "execution_count": 14,
     "metadata": {},
     "output_type": "execute_result"
    }
   ],
   "source": [
    "a = [100, 300, 200]\n",
    "min(a), max(a)"
   ]
  },
  {
   "cell_type": "code",
   "execution_count": 15,
   "metadata": {},
   "outputs": [
    {
     "data": {
      "text/plain": [
       "('h', 'y')"
      ]
     },
     "execution_count": 15,
     "metadata": {},
     "output_type": "execute_result"
    }
   ],
   "source": [
    "s = 'python'\n",
    "min(s), max(s)"
   ]
  },
  {
   "cell_type": "code",
   "execution_count": 30,
   "metadata": {},
   "outputs": [
    {
     "ename": "TypeError",
     "evalue": "'set' object is not subscriptable",
     "output_type": "error",
     "traceback": [
      "\u001b[0;31m------------------------------------------------------------\u001b[0m",
      "\u001b[0;31mTypeError\u001b[0m                  Traceback (most recent call last)",
      "\u001b[0;32m<ipython-input-30-cb01cc2d40c2>\u001b[0m in \u001b[0;36m<module>\u001b[0;34m\u001b[0m\n\u001b[1;32m      1\u001b[0m \u001b[0ms\u001b[0m \u001b[0;34m=\u001b[0m \u001b[0;34m{\u001b[0m\u001b[0;34m'p'\u001b[0m\u001b[0;34m,\u001b[0m \u001b[0;34m'y'\u001b[0m\u001b[0;34m,\u001b[0m \u001b[0;34m't'\u001b[0m\u001b[0;34m,\u001b[0m \u001b[0;34m'h'\u001b[0m\u001b[0;34m,\u001b[0m \u001b[0;34m'o'\u001b[0m\u001b[0;34m,\u001b[0m \u001b[0;34m'n'\u001b[0m\u001b[0;34m}\u001b[0m\u001b[0;34m\u001b[0m\u001b[0;34m\u001b[0m\u001b[0m\n\u001b[0;32m----> 2\u001b[0;31m \u001b[0ms\u001b[0m\u001b[0;34m[\u001b[0m\u001b[0;36m0\u001b[0m\u001b[0;34m]\u001b[0m\u001b[0;34m\u001b[0m\u001b[0;34m\u001b[0m\u001b[0m\n\u001b[0m",
      "\u001b[0;31mTypeError\u001b[0m: 'set' object is not subscriptable"
     ]
    }
   ],
   "source": [
    "s = {'p', 'y', 't', 'h', 'o', 'n'}\n",
    "min(s), max(s)"
   ]
  },
  {
   "cell_type": "markdown",
   "metadata": {},
   "source": [
    "But if the elements do not have an ordering defined:"
   ]
  },
  {
   "cell_type": "code",
   "execution_count": 17,
   "metadata": {},
   "outputs": [
    {
     "ename": "TypeError",
     "evalue": "'<' not supported between instances of 'complex' and 'complex'",
     "output_type": "error",
     "traceback": [
      "\u001b[0;31m------------------------------------------------------------\u001b[0m",
      "\u001b[0;31mTypeError\u001b[0m                  Traceback (most recent call last)",
      "\u001b[0;32m<ipython-input-17-58f14549a792>\u001b[0m in \u001b[0;36m<module>\u001b[0;34m\u001b[0m\n\u001b[1;32m      1\u001b[0m \u001b[0ma\u001b[0m \u001b[0;34m=\u001b[0m \u001b[0;34m[\u001b[0m\u001b[0;36m1\u001b[0m\u001b[0;34m+\u001b[0m\u001b[0;36m1j\u001b[0m\u001b[0;34m,\u001b[0m \u001b[0;36m2\u001b[0m\u001b[0;34m+\u001b[0m\u001b[0;36m2j\u001b[0m\u001b[0;34m,\u001b[0m \u001b[0;36m3\u001b[0m\u001b[0;34m+\u001b[0m\u001b[0;36m3j\u001b[0m\u001b[0;34m]\u001b[0m\u001b[0;34m\u001b[0m\u001b[0;34m\u001b[0m\u001b[0m\n\u001b[0;32m----> 2\u001b[0;31m \u001b[0mmin\u001b[0m\u001b[0;34m(\u001b[0m\u001b[0ma\u001b[0m\u001b[0;34m)\u001b[0m\u001b[0;34m\u001b[0m\u001b[0;34m\u001b[0m\u001b[0m\n\u001b[0m",
      "\u001b[0;31mTypeError\u001b[0m: '<' not supported between instances of 'complex' and 'complex'"
     ]
    }
   ],
   "source": [
    "a = [1+1j, 2+2j, 3+3j]\n",
    "min(a)"
   ]
  },
  {
   "cell_type": "markdown",
   "metadata": {},
   "source": [
    "`min` and `max` will work for heterogeneous types as long as the elements are pairwise comparable (`<` or `>` is defined). \n",
    "\n",
    "For example:"
   ]
  },
  {
   "cell_type": "code",
   "execution_count": 18,
   "metadata": {},
   "outputs": [],
   "source": [
    "from decimal import Decimal"
   ]
  },
  {
   "cell_type": "code",
   "execution_count": 19,
   "metadata": {},
   "outputs": [],
   "source": [
    "t = 10, 20.5, Decimal('30.5')"
   ]
  },
  {
   "cell_type": "code",
   "execution_count": 20,
   "metadata": {},
   "outputs": [
    {
     "data": {
      "text/plain": [
       "(10, Decimal('30.5'))"
      ]
     },
     "execution_count": 20,
     "metadata": {},
     "output_type": "execute_result"
    }
   ],
   "source": [
    "min(t), max(t)"
   ]
  },
  {
   "cell_type": "code",
   "execution_count": 21,
   "metadata": {},
   "outputs": [
    {
     "ename": "TypeError",
     "evalue": "'<' not supported between instances of 'int' and 'str'",
     "output_type": "error",
     "traceback": [
      "\u001b[0;31m------------------------------------------------------------\u001b[0m",
      "\u001b[0;31mTypeError\u001b[0m                  Traceback (most recent call last)",
      "\u001b[0;32m<ipython-input-21-fb024b18b68c>\u001b[0m in \u001b[0;36m<module>\u001b[0;34m\u001b[0m\n\u001b[1;32m      1\u001b[0m \u001b[0mt\u001b[0m \u001b[0;34m=\u001b[0m \u001b[0;34m[\u001b[0m\u001b[0;34m'a'\u001b[0m\u001b[0;34m,\u001b[0m \u001b[0;36m10\u001b[0m\u001b[0;34m,\u001b[0m \u001b[0;36m1000\u001b[0m\u001b[0;34m]\u001b[0m\u001b[0;34m\u001b[0m\u001b[0;34m\u001b[0m\u001b[0m\n\u001b[0;32m----> 2\u001b[0;31m \u001b[0mmin\u001b[0m\u001b[0;34m(\u001b[0m\u001b[0mt\u001b[0m\u001b[0;34m)\u001b[0m\u001b[0;34m\u001b[0m\u001b[0;34m\u001b[0m\u001b[0m\n\u001b[0m",
      "\u001b[0;31mTypeError\u001b[0m: '<' not supported between instances of 'int' and 'str'"
     ]
    }
   ],
   "source": [
    "t = ['a', 10, 1000]\n",
    "min(t)"
   ]
  },
  {
   "cell_type": "markdown",
   "metadata": {},
   "source": [
    "Even `range` objects support `min` and `max`:"
   ]
  },
  {
   "cell_type": "code",
   "execution_count": 29,
   "metadata": {},
   "outputs": [
    {
     "data": {
      "text/plain": [
       "False"
      ]
     },
     "execution_count": 29,
     "metadata": {},
     "output_type": "execute_result"
    }
   ],
   "source": [
    "r = range(10, 200)\n"
   ]
  },
  {
   "cell_type": "markdown",
   "metadata": {},
   "source": [
    "#### Concatenation"
   ]
  },
  {
   "cell_type": "markdown",
   "metadata": {},
   "source": [
    "We can **concatenate** sequences using the `+` operator:"
   ]
  },
  {
   "cell_type": "code",
   "execution_count": 31,
   "metadata": {},
   "outputs": [
    {
     "data": {
      "text/plain": [
       "[1, 2, 3, 4, 5, 6]"
      ]
     },
     "execution_count": 31,
     "metadata": {},
     "output_type": "execute_result"
    }
   ],
   "source": [
    "[1, 2, 3] + [4, 5, 6]"
   ]
  },
  {
   "cell_type": "code",
   "execution_count": 32,
   "metadata": {},
   "outputs": [
    {
     "data": {
      "text/plain": [
       "(1, 2, 3, 4, 5, 6)"
      ]
     },
     "execution_count": 32,
     "metadata": {},
     "output_type": "execute_result"
    }
   ],
   "source": [
    "(1, 2, 3) + (4, 5, 6)"
   ]
  },
  {
   "cell_type": "markdown",
   "metadata": {},
   "source": [
    "Note that the type of the concatenated result is the same as the type of the sequences being concatenated, so concatenating sequences of varying types will not work:"
   ]
  },
  {
   "cell_type": "code",
   "execution_count": 33,
   "metadata": {},
   "outputs": [
    {
     "ename": "TypeError",
     "evalue": "can only concatenate tuple (not \"list\") to tuple",
     "output_type": "error",
     "traceback": [
      "\u001b[0;31m------------------------------------------------------------\u001b[0m",
      "\u001b[0;31mTypeError\u001b[0m                  Traceback (most recent call last)",
      "\u001b[0;32m<ipython-input-33-480e0d57af3d>\u001b[0m in \u001b[0;36m<module>\u001b[0;34m\u001b[0m\n\u001b[0;32m----> 1\u001b[0;31m \u001b[0;34m(\u001b[0m\u001b[0;36m1\u001b[0m\u001b[0;34m,\u001b[0m \u001b[0;36m2\u001b[0m\u001b[0;34m,\u001b[0m \u001b[0;36m3\u001b[0m\u001b[0;34m)\u001b[0m \u001b[0;34m+\u001b[0m \u001b[0;34m[\u001b[0m\u001b[0;36m4\u001b[0m\u001b[0;34m,\u001b[0m \u001b[0;36m5\u001b[0m\u001b[0;34m,\u001b[0m \u001b[0;36m6\u001b[0m\u001b[0;34m]\u001b[0m\u001b[0;34m\u001b[0m\u001b[0;34m\u001b[0m\u001b[0m\n\u001b[0m",
      "\u001b[0;31mTypeError\u001b[0m: can only concatenate tuple (not \"list\") to tuple"
     ]
    }
   ],
   "source": [
    "(1, 2, 3) + [4, 5, 6]"
   ]
  },
  {
   "cell_type": "code",
   "execution_count": 34,
   "metadata": {},
   "outputs": [
    {
     "ename": "TypeError",
     "evalue": "can only concatenate str (not \"list\") to str",
     "output_type": "error",
     "traceback": [
      "\u001b[0;31m------------------------------------------------------------\u001b[0m",
      "\u001b[0;31mTypeError\u001b[0m                  Traceback (most recent call last)",
      "\u001b[0;32m<ipython-input-34-0c4a99eb9852>\u001b[0m in \u001b[0;36m<module>\u001b[0;34m\u001b[0m\n\u001b[0;32m----> 1\u001b[0;31m \u001b[0;34m'abc'\u001b[0m \u001b[0;34m+\u001b[0m \u001b[0;34m[\u001b[0m\u001b[0;34m'd'\u001b[0m\u001b[0;34m,\u001b[0m \u001b[0;34m'e'\u001b[0m\u001b[0;34m,\u001b[0m \u001b[0;34m'f'\u001b[0m\u001b[0;34m]\u001b[0m\u001b[0;34m\u001b[0m\u001b[0;34m\u001b[0m\u001b[0m\n\u001b[0m",
      "\u001b[0;31mTypeError\u001b[0m: can only concatenate str (not \"list\") to str"
     ]
    }
   ],
   "source": [
    "'abc' + ['d', 'e', 'f']"
   ]
  },
  {
   "cell_type": "markdown",
   "metadata": {},
   "source": [
    "Note: if you really want to concatenate varying types you'll have to transform them to a common type first:"
   ]
  },
  {
   "cell_type": "code",
   "execution_count": 35,
   "metadata": {},
   "outputs": [
    {
     "data": {
      "text/plain": [
       "(1, 2, 3, 4, 5, 6)"
      ]
     },
     "execution_count": 35,
     "metadata": {},
     "output_type": "execute_result"
    }
   ],
   "source": [
    "(1, 2, 3) + tuple([4, 5, 6])"
   ]
  },
  {
   "cell_type": "code",
   "execution_count": 36,
   "metadata": {},
   "outputs": [
    {
     "data": {
      "text/plain": [
       "('a', 'b', 'c', 'd', 'e', 'f')"
      ]
     },
     "execution_count": 36,
     "metadata": {},
     "output_type": "execute_result"
    }
   ],
   "source": [
    "tuple('abc') + ('d', 'e', 'f')"
   ]
  },
  {
   "cell_type": "markdown",
   "metadata": {},
   "source": [
    "#### Repetition"
   ]
  },
  {
   "cell_type": "markdown",
   "metadata": {},
   "source": [
    "Most sequence types also support **repetition**, which is essentially concatenating the same sequence an integer number of times:"
   ]
  },
  {
   "cell_type": "code",
   "execution_count": 44,
   "metadata": {},
   "outputs": [
    {
     "data": {
      "text/plain": [
       "'abcabcabcabcabc'"
      ]
     },
     "execution_count": 44,
     "metadata": {},
     "output_type": "execute_result"
    }
   ],
   "source": [
    "'abc' * 5"
   ]
  },
  {
   "cell_type": "code",
   "execution_count": 47,
   "metadata": {},
   "outputs": [
    {
     "data": {
      "text/plain": [
       "[1, 2, 3, 1, 2, 3, 1, 2, 3, 1, 2, 3, 1, 2, 3]"
      ]
     },
     "execution_count": 47,
     "metadata": {},
     "output_type": "execute_result"
    }
   ],
   "source": [
    "[1, 2, 3] * 5"
   ]
  },
  {
   "cell_type": "markdown",
   "metadata": {},
   "source": [
    "#### Finding things in Sequences"
   ]
  },
  {
   "cell_type": "markdown",
   "metadata": {},
   "source": [
    "We can find the index of the occurrence of an element in a sequence:"
   ]
  },
  {
   "cell_type": "code",
   "execution_count": 48,
   "metadata": {},
   "outputs": [],
   "source": [
    "s = \"gnu's not unix\""
   ]
  },
  {
   "cell_type": "code",
   "execution_count": 52,
   "metadata": {},
   "outputs": [
    {
     "data": {
      "text/plain": [
       "1"
      ]
     },
     "execution_count": 52,
     "metadata": {},
     "output_type": "execute_result"
    }
   ],
   "source": [
    "s.index('n')"
   ]
  },
  {
   "cell_type": "code",
   "execution_count": 53,
   "metadata": {},
   "outputs": [
    {
     "data": {
      "text/plain": [
       "(1, 6, 11)"
      ]
     },
     "execution_count": 53,
     "metadata": {},
     "output_type": "execute_result"
    }
   ],
   "source": [
    "s.index('n', 1), s.index('n', 2), s.index('n', 8)"
   ]
  },
  {
   "cell_type": "markdown",
   "metadata": {},
   "source": [
    "An exception is raised of the element is not found, so you'll want to catch it if you don't want your app to crash:"
   ]
  },
  {
   "cell_type": "code",
   "execution_count": 56,
   "metadata": {},
   "outputs": [
    {
     "ename": "ValueError",
     "evalue": "substring not found",
     "output_type": "error",
     "traceback": [
      "\u001b[0;31m------------------------------------------------------------\u001b[0m",
      "\u001b[0;31mValueError\u001b[0m                 Traceback (most recent call last)",
      "\u001b[0;32m<ipython-input-56-bcdd2b690d91>\u001b[0m in \u001b[0;36m<module>\u001b[0;34m\u001b[0m\n\u001b[0;32m----> 1\u001b[0;31m \u001b[0ms\u001b[0m\u001b[0;34m.\u001b[0m\u001b[0mindex\u001b[0m\u001b[0;34m(\u001b[0m\u001b[0;34m'n'\u001b[0m\u001b[0;34m,\u001b[0m \u001b[0;36m13\u001b[0m\u001b[0;34m)\u001b[0m\u001b[0;34m\u001b[0m\u001b[0;34m\u001b[0m\u001b[0m\n\u001b[0m",
      "\u001b[0;31mValueError\u001b[0m: substring not found"
     ]
    }
   ],
   "source": [
    "s.index('n', 13)"
   ]
  },
  {
   "cell_type": "code",
   "execution_count": 57,
   "metadata": {},
   "outputs": [
    {
     "name": "stdout",
     "output_type": "stream",
     "text": [
      "not found\n"
     ]
    }
   ],
   "source": [
    "try:\n",
    "    idx = s.index('n', 13)\n",
    "except ValueError:\n",
    "    print('not found')"
   ]
  },
  {
   "cell_type": "markdown",
   "metadata": {},
   "source": [
    "Note that these methods of finding objects in sequences do not assume that the objects in the sequence are ordered in any way. These are basically searches that iterate over the sequence until they find (or not) the requested element.\n",
    "\n",
    "If you have a sorted sequence, then other search techniques are available - such as binary searches. I'll cover some of these topics in the extras section of this course."
   ]
  },
  {
   "cell_type": "markdown",
   "metadata": {},
   "source": [
    "#### Slicing"
   ]
  },
  {
   "cell_type": "code",
   "execution_count": 58,
   "metadata": {},
   "outputs": [],
   "source": [
    "s = 'python'\n",
    "l = [1, 2, 3, 4, 5, 6, 7, 8, 9, 10]"
   ]
  },
  {
   "cell_type": "code",
   "execution_count": 61,
   "metadata": {},
   "outputs": [
    {
     "data": {
      "text/plain": [
       "('pyt', 'on')"
      ]
     },
     "execution_count": 61,
     "metadata": {},
     "output_type": "execute_result"
    }
   ],
   "source": [
    "s[0:3], s[4:6]"
   ]
  },
  {
   "cell_type": "code",
   "execution_count": 62,
   "metadata": {},
   "outputs": [
    {
     "data": {
      "text/plain": [
       "([1, 2, 3], [5, 6])"
      ]
     },
     "execution_count": 62,
     "metadata": {},
     "output_type": "execute_result"
    }
   ],
   "source": [
    "l[0:3], l[4:6]"
   ]
  },
  {
   "cell_type": "markdown",
   "metadata": {},
   "source": [
    "It's ok to extend ranges past the bounds of the sequence:"
   ]
  },
  {
   "cell_type": "code",
   "execution_count": 63,
   "metadata": {},
   "outputs": [
    {
     "data": {
      "text/plain": [
       "'on'"
      ]
     },
     "execution_count": 63,
     "metadata": {},
     "output_type": "execute_result"
    }
   ],
   "source": [
    "s[4:1000]"
   ]
  },
  {
   "cell_type": "markdown",
   "metadata": {},
   "source": [
    "If your first argument in the slice is `0`, you can even omit it. Omitting the second argument means it will include all the remaining elements:"
   ]
  },
  {
   "cell_type": "code",
   "execution_count": 64,
   "metadata": {},
   "outputs": [
    {
     "data": {
      "text/plain": [
       "('pyt', 'pyt')"
      ]
     },
     "execution_count": 64,
     "metadata": {},
     "output_type": "execute_result"
    }
   ],
   "source": [
    "s[0:3], s[:3]"
   ]
  },
  {
   "cell_type": "code",
   "execution_count": 68,
   "metadata": {},
   "outputs": [
    {
     "data": {
      "text/plain": [
       "('hon', 'hon', 'python')"
      ]
     },
     "execution_count": 68,
     "metadata": {},
     "output_type": "execute_result"
    }
   ],
   "source": [
    "s[3:1000], s[3:], s[:]"
   ]
  },
  {
   "cell_type": "markdown",
   "metadata": {},
   "source": [
    "We can even have extended slicing, which provides a start, stop and a step:"
   ]
  },
  {
   "cell_type": "code",
   "execution_count": 69,
   "metadata": {},
   "outputs": [
    {
     "data": {
      "text/plain": [
       "('python', 'pytho', 'pto')"
      ]
     },
     "execution_count": 69,
     "metadata": {},
     "output_type": "execute_result"
    }
   ],
   "source": [
    "s, s[0:5], s[0:5:2]"
   ]
  },
  {
   "cell_type": "code",
   "execution_count": 70,
   "metadata": {},
   "outputs": [
    {
     "data": {
      "text/plain": [
       "('python', 'pto')"
      ]
     },
     "execution_count": 70,
     "metadata": {},
     "output_type": "execute_result"
    }
   ],
   "source": [
    "s, s[::2]"
   ]
  },
  {
   "cell_type": "markdown",
   "metadata": {},
   "source": [
    "Technically we can also use negative values in slices, including extended slices (more on that later):"
   ]
  },
  {
   "cell_type": "code",
   "execution_count": 71,
   "metadata": {},
   "outputs": [
    {
     "data": {
      "text/plain": [
       "('python', 'ho', 'nohtyp')"
      ]
     },
     "execution_count": 71,
     "metadata": {},
     "output_type": "execute_result"
    }
   ],
   "source": [
    "s, s[-3:-1], s[::-1]"
   ]
  },
  {
   "cell_type": "code",
   "execution_count": 72,
   "metadata": {},
   "outputs": [],
   "source": [
    "r = range(11)  # numbers from 0 to 10 (inclusive)"
   ]
  },
  {
   "cell_type": "code",
   "execution_count": 73,
   "metadata": {},
   "outputs": [
    {
     "name": "stdout",
     "output_type": "stream",
     "text": [
      "range(0, 11)\n",
      "[0, 1, 2, 3, 4, 5, 6, 7, 8, 9, 10]\n"
     ]
    }
   ],
   "source": [
    "print(r)\n",
    "print(list(r))"
   ]
  },
  {
   "cell_type": "code",
   "execution_count": 76,
   "metadata": {},
   "outputs": [
    {
     "name": "stdout",
     "output_type": "stream",
     "text": [
      "range(0, 5)\n"
     ]
    },
    {
     "data": {
      "text/plain": [
       "range(0, 11)"
      ]
     },
     "execution_count": 76,
     "metadata": {},
     "output_type": "execute_result"
    }
   ],
   "source": [
    "print(r[:5])\n",
    "r"
   ]
  },
  {
   "cell_type": "code",
   "execution_count": 75,
   "metadata": {},
   "outputs": [
    {
     "name": "stdout",
     "output_type": "stream",
     "text": [
      "[0, 1, 2, 3, 4]\n"
     ]
    }
   ],
   "source": [
    "print(list(r[:5]))"
   ]
  },
  {
   "cell_type": "markdown",
   "metadata": {},
   "source": [
    "As you can see, slicing a range returns a range object as well, as expected."
   ]
  },
  {
   "cell_type": "markdown",
   "metadata": {},
   "source": [
    "#### Hashing"
   ]
  },
  {
   "cell_type": "markdown",
   "metadata": {},
   "source": [
    "Immutable sequences generally support a `hash` method that we'll discuss in detail in the section on mapping types:"
   ]
  },
  {
   "cell_type": "code",
   "execution_count": 77,
   "metadata": {},
   "outputs": [
    {
     "data": {
      "text/plain": [
       "529344067295497451"
      ]
     },
     "execution_count": 77,
     "metadata": {},
     "output_type": "execute_result"
    }
   ],
   "source": [
    "l = (1, 2, 3)\n",
    "hash(l)"
   ]
  },
  {
   "cell_type": "code",
   "execution_count": 78,
   "metadata": {},
   "outputs": [
    {
     "data": {
      "text/plain": [
       "4415578913719473902"
      ]
     },
     "execution_count": 78,
     "metadata": {},
     "output_type": "execute_result"
    }
   ],
   "source": [
    "s = '123'\n",
    "hash(s)"
   ]
  },
  {
   "cell_type": "code",
   "execution_count": 79,
   "metadata": {},
   "outputs": [
    {
     "data": {
      "text/plain": [
       "-7546101314042312252"
      ]
     },
     "execution_count": 79,
     "metadata": {},
     "output_type": "execute_result"
    }
   ],
   "source": [
    "r = range(10)\n",
    "hash(r)"
   ]
  },
  {
   "cell_type": "markdown",
   "metadata": {},
   "source": [
    "But mutable sequences (and mutable types in general) do not:"
   ]
  },
  {
   "cell_type": "code",
   "execution_count": 80,
   "metadata": {},
   "outputs": [],
   "source": [
    "l = [1, 2, 3]"
   ]
  },
  {
   "cell_type": "code",
   "execution_count": 81,
   "metadata": {},
   "outputs": [
    {
     "ename": "TypeError",
     "evalue": "unhashable type: 'list'",
     "output_type": "error",
     "traceback": [
      "\u001b[0;31m------------------------------------------------------------\u001b[0m",
      "\u001b[0;31mTypeError\u001b[0m                  Traceback (most recent call last)",
      "\u001b[0;32m<ipython-input-81-7a4e953a7f49>\u001b[0m in \u001b[0;36m<module>\u001b[0;34m\u001b[0m\n\u001b[0;32m----> 1\u001b[0;31m \u001b[0mhash\u001b[0m\u001b[0;34m(\u001b[0m\u001b[0ml\u001b[0m\u001b[0;34m)\u001b[0m\u001b[0;34m\u001b[0m\u001b[0;34m\u001b[0m\u001b[0m\n\u001b[0m",
      "\u001b[0;31mTypeError\u001b[0m: unhashable type: 'list'"
     ]
    }
   ],
   "source": [
    "hash(l)"
   ]
  },
  {
   "cell_type": "markdown",
   "metadata": {},
   "source": [
    "Note also that a hashable sequence, is no longer hashable if one (or more) of it's elements are not hashable:"
   ]
  },
  {
   "cell_type": "code",
   "execution_count": 96,
   "metadata": {},
   "outputs": [
    {
     "ename": "TypeError",
     "evalue": "unhashable type: 'set'",
     "output_type": "error",
     "traceback": [
      "\u001b[0;31m------------------------------------------------------------\u001b[0m",
      "\u001b[0;31mTypeError\u001b[0m                  Traceback (most recent call last)",
      "\u001b[0;32m<ipython-input-96-a767c5de623e>\u001b[0m in \u001b[0;36m<module>\u001b[0;34m\u001b[0m\n\u001b[0;32m----> 1\u001b[0;31m \u001b[0md\u001b[0m \u001b[0;34m=\u001b[0m \u001b[0;34m{\u001b[0m\u001b[0;34m{\u001b[0m\u001b[0;36m1\u001b[0m\u001b[0;34m,\u001b[0m\u001b[0;36m2\u001b[0m\u001b[0;34m,\u001b[0m\u001b[0;36m3\u001b[0m\u001b[0;34m}\u001b[0m\u001b[0;34m:\u001b[0m\u001b[0;34m'sundar'\u001b[0m\u001b[0;34m,\u001b[0m\u001b[0;34m\"name\"\u001b[0m\u001b[0;34m:\u001b[0m\u001b[0;34m\"Sai\"\u001b[0m\u001b[0;34m}\u001b[0m\u001b[0;34m\u001b[0m\u001b[0;34m\u001b[0m\u001b[0m\n\u001b[0m\u001b[1;32m      2\u001b[0m \u001b[0;34m\u001b[0m\u001b[0m\n\u001b[1;32m      3\u001b[0m \u001b[0md\u001b[0m\u001b[0;34m\u001b[0m\u001b[0;34m\u001b[0m\u001b[0m\n",
      "\u001b[0;31mTypeError\u001b[0m: unhashable type: 'set'"
     ]
    }
   ],
   "source": [
    "d = {{1,2,3}:'sundar',\"name\":\"Sai\"}\n",
    "\n",
    "d"
   ]
  },
  {
   "cell_type": "code",
   "execution_count": 94,
   "metadata": {},
   "outputs": [
    {
     "ename": "TypeError",
     "evalue": "unhashable type: 'list'",
     "output_type": "error",
     "traceback": [
      "\u001b[0;31m------------------------------------------------------------\u001b[0m",
      "\u001b[0;31mTypeError\u001b[0m                  Traceback (most recent call last)",
      "\u001b[0;32m<ipython-input-94-756218b5b345>\u001b[0m in \u001b[0;36m<module>\u001b[0;34m\u001b[0m\n\u001b[1;32m      1\u001b[0m \u001b[0mt\u001b[0m \u001b[0;34m=\u001b[0m \u001b[0;34m(\u001b[0m\u001b[0;36m1\u001b[0m\u001b[0;34m,\u001b[0m \u001b[0;36m2\u001b[0m\u001b[0;34m,\u001b[0m \u001b[0;34m[\u001b[0m\u001b[0;36m10\u001b[0m\u001b[0;34m,\u001b[0m \u001b[0;36m20\u001b[0m\u001b[0;34m]\u001b[0m\u001b[0;34m)\u001b[0m\u001b[0;34m\u001b[0m\u001b[0;34m\u001b[0m\u001b[0m\n\u001b[0;32m----> 2\u001b[0;31m \u001b[0mhash\u001b[0m\u001b[0;34m(\u001b[0m\u001b[0mt\u001b[0m\u001b[0;34m)\u001b[0m\u001b[0;34m\u001b[0m\u001b[0;34m\u001b[0m\u001b[0m\n\u001b[0m",
      "\u001b[0;31mTypeError\u001b[0m: unhashable type: 'list'"
     ]
    }
   ],
   "source": [
    "t = (1, 2, [10, 20])\n",
    "hash(t)"
   ]
  },
  {
   "cell_type": "markdown",
   "metadata": {},
   "source": [
    "But this would work:"
   ]
  },
  {
   "cell_type": "code",
   "execution_count": 95,
   "metadata": {},
   "outputs": [
    {
     "data": {
      "text/plain": [
       "341855915076804316"
      ]
     },
     "execution_count": 95,
     "metadata": {},
     "output_type": "execute_result"
    }
   ],
   "source": [
    "t = ('python', (1, 2, 3))\n",
    "hash(t)"
   ]
  },
  {
   "cell_type": "markdown",
   "metadata": {},
   "source": [
    "In general, immutable types are likely hashable, while immutable types are not. So numbers, strings, tuples, etc are hashable, but lists and sets are not:"
   ]
  },
  {
   "cell_type": "code",
   "execution_count": 99,
   "metadata": {},
   "outputs": [
    {
     "data": {
      "text/plain": [
       "1152921504606846986"
      ]
     },
     "execution_count": 99,
     "metadata": {},
     "output_type": "execute_result"
    }
   ],
   "source": [
    "from decimal import Decimal\n",
    "d = Decimal(10.5)\n",
    "hash(d)"
   ]
  },
  {
   "cell_type": "markdown",
   "metadata": {},
   "source": [
    "Sets are not hashable:"
   ]
  },
  {
   "cell_type": "code",
   "execution_count": 100,
   "metadata": {},
   "outputs": [
    {
     "ename": "TypeError",
     "evalue": "unhashable type: 'set'",
     "output_type": "error",
     "traceback": [
      "\u001b[0;31m------------------------------------------------------------\u001b[0m",
      "\u001b[0;31mTypeError\u001b[0m                  Traceback (most recent call last)",
      "\u001b[0;32m<ipython-input-100-14c48b73f63d>\u001b[0m in \u001b[0;36m<module>\u001b[0;34m\u001b[0m\n\u001b[1;32m      1\u001b[0m \u001b[0ms\u001b[0m \u001b[0;34m=\u001b[0m \u001b[0;34m{\u001b[0m\u001b[0;36m1\u001b[0m\u001b[0;34m,\u001b[0m \u001b[0;36m2\u001b[0m\u001b[0;34m,\u001b[0m \u001b[0;36m3\u001b[0m\u001b[0;34m}\u001b[0m\u001b[0;34m\u001b[0m\u001b[0;34m\u001b[0m\u001b[0m\n\u001b[0;32m----> 2\u001b[0;31m \u001b[0mhash\u001b[0m\u001b[0;34m(\u001b[0m\u001b[0ms\u001b[0m\u001b[0;34m)\u001b[0m\u001b[0;34m\u001b[0m\u001b[0;34m\u001b[0m\u001b[0m\n\u001b[0m",
      "\u001b[0;31mTypeError\u001b[0m: unhashable type: 'set'"
     ]
    }
   ],
   "source": [
    "s = {1, 2, 3}\n",
    "hash(s)"
   ]
  },
  {
   "cell_type": "markdown",
   "metadata": {},
   "source": [
    "But frozensets, an immutable variant of the set, are:"
   ]
  },
  {
   "cell_type": "code",
   "execution_count": 101,
   "metadata": {},
   "outputs": [],
   "source": [
    "s = frozenset({1, 2, 3})"
   ]
  },
  {
   "cell_type": "code",
   "execution_count": 102,
   "metadata": {
    "scrolled": true
   },
   "outputs": [
    {
     "data": {
      "text/plain": [
       "-272375401224217160"
      ]
     },
     "execution_count": 102,
     "metadata": {},
     "output_type": "execute_result"
    }
   ],
   "source": [
    "hash(s)"
   ]
  },
  {
   "cell_type": "markdown",
   "metadata": {},
   "source": [
    "#### Caveats with Concatenation and Repetition"
   ]
  },
  {
   "cell_type": "markdown",
   "metadata": {},
   "source": [
    "Consider this:"
   ]
  },
  {
   "cell_type": "code",
   "execution_count": 103,
   "metadata": {},
   "outputs": [],
   "source": [
    "x = [2000]"
   ]
  },
  {
   "cell_type": "code",
   "execution_count": 104,
   "metadata": {},
   "outputs": [
    {
     "data": {
      "text/plain": [
       "139696312452688"
      ]
     },
     "execution_count": 104,
     "metadata": {},
     "output_type": "execute_result"
    }
   ],
   "source": [
    "id(x[0])"
   ]
  },
  {
   "cell_type": "code",
   "execution_count": 105,
   "metadata": {},
   "outputs": [],
   "source": [
    "l = x + x"
   ]
  },
  {
   "cell_type": "code",
   "execution_count": 106,
   "metadata": {},
   "outputs": [
    {
     "data": {
      "text/plain": [
       "[2000, 2000]"
      ]
     },
     "execution_count": 106,
     "metadata": {},
     "output_type": "execute_result"
    }
   ],
   "source": [
    "l"
   ]
  },
  {
   "cell_type": "code",
   "execution_count": 107,
   "metadata": {},
   "outputs": [
    {
     "data": {
      "text/plain": [
       "(139696312452688, 139696312452688)"
      ]
     },
     "execution_count": 107,
     "metadata": {},
     "output_type": "execute_result"
    }
   ],
   "source": [
    "id(l[0]), id(l[1])"
   ]
  },
  {
   "cell_type": "markdown",
   "metadata": {},
   "source": [
    "As expected, the objects in `l[0]` and `l[1]` are the same.\n",
    "\n",
    "Could also use:"
   ]
  },
  {
   "cell_type": "code",
   "execution_count": 108,
   "metadata": {},
   "outputs": [
    {
     "data": {
      "text/plain": [
       "True"
      ]
     },
     "execution_count": 108,
     "metadata": {},
     "output_type": "execute_result"
    }
   ],
   "source": [
    "l[0] is l[1]"
   ]
  },
  {
   "cell_type": "markdown",
   "metadata": {},
   "source": [
    "This is not a big deal if the objects being concatenated are immutable. But if they are mutable:"
   ]
  },
  {
   "cell_type": "code",
   "execution_count": 109,
   "metadata": {},
   "outputs": [],
   "source": [
    "x = [ [0, 0] ]\n",
    "l = x + x"
   ]
  },
  {
   "cell_type": "code",
   "execution_count": 110,
   "metadata": {},
   "outputs": [
    {
     "data": {
      "text/plain": [
       "[[0, 0], [0, 0]]"
      ]
     },
     "execution_count": 110,
     "metadata": {},
     "output_type": "execute_result"
    }
   ],
   "source": [
    "l"
   ]
  },
  {
   "cell_type": "code",
   "execution_count": 111,
   "metadata": {},
   "outputs": [
    {
     "data": {
      "text/plain": [
       "True"
      ]
     },
     "execution_count": 111,
     "metadata": {},
     "output_type": "execute_result"
    }
   ],
   "source": [
    "l[0] is l[1]"
   ]
  },
  {
   "cell_type": "markdown",
   "metadata": {},
   "source": [
    "And then we have the following:"
   ]
  },
  {
   "cell_type": "code",
   "execution_count": 112,
   "metadata": {},
   "outputs": [],
   "source": [
    "l[0][0] = 100"
   ]
  },
  {
   "cell_type": "code",
   "execution_count": 113,
   "metadata": {},
   "outputs": [
    {
     "data": {
      "text/plain": [
       "[100, 0]"
      ]
     },
     "execution_count": 113,
     "metadata": {},
     "output_type": "execute_result"
    }
   ],
   "source": [
    "l[0]"
   ]
  },
  {
   "cell_type": "code",
   "execution_count": 114,
   "metadata": {},
   "outputs": [
    {
     "data": {
      "text/plain": [
       "[[100, 0], [100, 0]]"
      ]
     },
     "execution_count": 114,
     "metadata": {},
     "output_type": "execute_result"
    }
   ],
   "source": [
    "l"
   ]
  },
  {
   "cell_type": "markdown",
   "metadata": {},
   "source": [
    "Notice how changing the 1st item of the 1st element also changed the 1st item of the second element."
   ]
  },
  {
   "cell_type": "markdown",
   "metadata": {},
   "source": [
    "While this seems fairly obvious when concatenating using the `+` operator as we have just done, the same actually happens with repetition and may not seem so obvious:"
   ]
  },
  {
   "cell_type": "code",
   "execution_count": 115,
   "metadata": {},
   "outputs": [],
   "source": [
    "x = [ [0, 0] ]"
   ]
  },
  {
   "cell_type": "code",
   "execution_count": 116,
   "metadata": {},
   "outputs": [],
   "source": [
    "m = x * 3"
   ]
  },
  {
   "cell_type": "code",
   "execution_count": 117,
   "metadata": {},
   "outputs": [
    {
     "data": {
      "text/plain": [
       "[[0, 0], [0, 0], [0, 0]]"
      ]
     },
     "execution_count": 117,
     "metadata": {},
     "output_type": "execute_result"
    }
   ],
   "source": [
    "m"
   ]
  },
  {
   "cell_type": "code",
   "execution_count": 118,
   "metadata": {},
   "outputs": [],
   "source": [
    "m[0][0] = 100"
   ]
  },
  {
   "cell_type": "code",
   "execution_count": 119,
   "metadata": {},
   "outputs": [
    {
     "data": {
      "text/plain": [
       "[[100, 0], [100, 0], [100, 0]]"
      ]
     },
     "execution_count": 119,
     "metadata": {},
     "output_type": "execute_result"
    }
   ],
   "source": [
    "m"
   ]
  },
  {
   "cell_type": "markdown",
   "metadata": {},
   "source": [
    "And in fact, even `x` changed:"
   ]
  },
  {
   "cell_type": "code",
   "execution_count": 120,
   "metadata": {},
   "outputs": [
    {
     "data": {
      "text/plain": [
       "[[100, 0]]"
      ]
     },
     "execution_count": 120,
     "metadata": {},
     "output_type": "execute_result"
    }
   ],
   "source": [
    "x"
   ]
  },
  {
   "cell_type": "markdown",
   "metadata": {},
   "source": [
    "If you really want these repeated objects to be different objects, you'll have to copy them somehow. A simple list comprehensions would work well here:"
   ]
  },
  {
   "cell_type": "code",
   "execution_count": 121,
   "metadata": {},
   "outputs": [],
   "source": [
    "x = [ [0, 0] ]\n",
    "m = [e.copy() for e in x*3]"
   ]
  },
  {
   "cell_type": "code",
   "execution_count": 122,
   "metadata": {},
   "outputs": [
    {
     "data": {
      "text/plain": [
       "[[0, 0], [0, 0], [0, 0]]"
      ]
     },
     "execution_count": 122,
     "metadata": {},
     "output_type": "execute_result"
    }
   ],
   "source": [
    "m"
   ]
  },
  {
   "cell_type": "code",
   "execution_count": 123,
   "metadata": {},
   "outputs": [],
   "source": [
    "m[0][0] = 100"
   ]
  },
  {
   "cell_type": "code",
   "execution_count": 124,
   "metadata": {},
   "outputs": [
    {
     "data": {
      "text/plain": [
       "[[100, 0], [0, 0], [0, 0]]"
      ]
     },
     "execution_count": 124,
     "metadata": {},
     "output_type": "execute_result"
    }
   ],
   "source": [
    "m"
   ]
  },
  {
   "cell_type": "code",
   "execution_count": null,
   "metadata": {},
   "outputs": [],
   "source": [
    "x"
   ]
  },
  {
   "cell_type": "markdown",
   "metadata": {},
   "source": [
    "### Lists vs Tuples"
   ]
  },
  {
   "cell_type": "markdown",
   "metadata": {},
   "source": [
    "Remember that both lists and tuples are considered **sequence** types.\n",
    "\n",
    "Remember also that we should consider tuples as data structures (position has meaning) as we saw in an earlier section on named tuples.\n",
    "\n",
    "However, in this context we are going to view tuples as \"immutable lists\"."
   ]
  },
  {
   "cell_type": "markdown",
   "metadata": {},
   "source": [
    "Generally, tuples are more efficient that lists, so, unless you need mutability of the container, prefer using a tuple over a list."
   ]
  },
  {
   "cell_type": "markdown",
   "metadata": {},
   "source": [
    "#### Creating Tuples"
   ]
  },
  {
   "cell_type": "markdown",
   "metadata": {},
   "source": [
    "Here is Wikipedia's definition of constant folding:\n",
    "\n",
    "Constant folding is the process of recognizing and evaluating constant expressions at compile time rather than computing them at runtime.\n",
    "\n",
    "To see how this works, we are going to use the dis module which allows to see the disassembled Python bytecode - not for the *faint of heart, but can be really useful! ;)"
   ]
  },
  {
   "cell_type": "code",
   "execution_count": 125,
   "metadata": {},
   "outputs": [],
   "source": [
    "from dis import dis"
   ]
  },
  {
   "cell_type": "markdown",
   "metadata": {},
   "source": [
    "We want to understand what Python does when it compiles statements such as:"
   ]
  },
  {
   "cell_type": "code",
   "execution_count": 126,
   "metadata": {},
   "outputs": [
    {
     "data": {
      "text/plain": [
       "[1, 2, 3]"
      ]
     },
     "execution_count": 126,
     "metadata": {},
     "output_type": "execute_result"
    }
   ],
   "source": [
    "(1, 2, 3)\n",
    "[1, 2, 3]"
   ]
  },
  {
   "cell_type": "code",
   "execution_count": 127,
   "metadata": {},
   "outputs": [
    {
     "name": "stdout",
     "output_type": "stream",
     "text": [
      "  1           0 LOAD_CONST               0 ((1, 2, 3, 'a'))\n",
      "              2 RETURN_VALUE\n"
     ]
    }
   ],
   "source": [
    "dis(compile('(1,2,3, \"a\")', 'string', 'eval'))"
   ]
  },
  {
   "cell_type": "code",
   "execution_count": 128,
   "metadata": {},
   "outputs": [
    {
     "name": "stdout",
     "output_type": "stream",
     "text": [
      "  1           0 LOAD_CONST               0 (1)\n",
      "              2 LOAD_CONST               1 (2)\n",
      "              4 LOAD_CONST               2 (3)\n",
      "              6 LOAD_CONST               3 ('a')\n",
      "              8 BUILD_LIST               4\n",
      "             10 RETURN_VALUE\n"
     ]
    }
   ],
   "source": [
    "dis(compile('[1,2,3, \"a\"]', 'string', 'eval'))"
   ]
  },
  {
   "cell_type": "markdown",
   "metadata": {},
   "source": [
    "Notice how for a tuple containing constants (such as ints and strings in this case), the values are loaded in one step, a single constant value essentially. \n",
    "\n",
    "Lists, on the other hand are built-up one element at a time."
   ]
  },
  {
   "cell_type": "markdown",
   "metadata": {},
   "source": [
    "In fact, we can easily time this:"
   ]
  },
  {
   "cell_type": "code",
   "execution_count": 129,
   "metadata": {},
   "outputs": [],
   "source": [
    "from timeit import timeit"
   ]
  },
  {
   "cell_type": "code",
   "execution_count": 130,
   "metadata": {},
   "outputs": [
    {
     "data": {
      "text/plain": [
       "0.1120801719953306"
      ]
     },
     "execution_count": 130,
     "metadata": {},
     "output_type": "execute_result"
    }
   ],
   "source": [
    "timeit(\"(1,2,3,4,5,6,7,8,9)\", number=10_000_000)"
   ]
  },
  {
   "cell_type": "code",
   "execution_count": 131,
   "metadata": {},
   "outputs": [
    {
     "data": {
      "text/plain": [
       "1.02518513299583"
      ]
     },
     "execution_count": 131,
     "metadata": {},
     "output_type": "execute_result"
    }
   ],
   "source": [
    "timeit(\"[1,2,3,4,5,6,7,8,9]\", number=10_000_000)"
   ]
  },
  {
   "cell_type": "markdown",
   "metadata": {},
   "source": [
    "As you can see creating a tuple was faster."
   ]
  },
  {
   "cell_type": "markdown",
   "metadata": {},
   "source": [
    "Now this changes if the tuple elements are not constants, such as lists or functions for example"
   ]
  },
  {
   "cell_type": "code",
   "execution_count": 132,
   "metadata": {},
   "outputs": [],
   "source": [
    "def func1():\n",
    "    pass"
   ]
  },
  {
   "cell_type": "code",
   "execution_count": 135,
   "metadata": {},
   "outputs": [
    {
     "name": "stdout",
     "output_type": "stream",
     "text": [
      "  1           0 LOAD_NAME                0 (func1)\n",
      "              2 LOAD_CONST               0 (10)\n",
      "              4 LOAD_CONST               1 (20)\n",
      "              6 BUILD_TUPLE              3\n",
      "              8 RETURN_VALUE\n"
     ]
    }
   ],
   "source": [
    "dis(compile('(func1, 10, 20)', 'string', 'eval'))"
   ]
  },
  {
   "cell_type": "code",
   "execution_count": 141,
   "metadata": {},
   "outputs": [
    {
     "name": "stdout",
     "output_type": "stream",
     "text": [
      "  1           0 LOAD_NAME                0 (func1)\n",
      "              2 LOAD_CONST               0 (10)\n",
      "              4 LOAD_CONST               1 (20)\n",
      "              6 BUILD_LIST               3\n",
      "              8 RETURN_VALUE\n"
     ]
    }
   ],
   "source": [
    "dis(compile('[func1, 10, 20]', 'string', 'eval'))"
   ]
  },
  {
   "cell_type": "markdown",
   "metadata": {},
   "source": [
    "or"
   ]
  },
  {
   "cell_type": "code",
   "execution_count": 137,
   "metadata": {},
   "outputs": [
    {
     "name": "stdout",
     "output_type": "stream",
     "text": [
      "  1           0 LOAD_CONST               0 (1)\n",
      "              2 LOAD_CONST               1 (2)\n",
      "              4 BUILD_LIST               2\n",
      "              6 LOAD_CONST               2 (10)\n",
      "              8 LOAD_CONST               3 (20)\n",
      "             10 BUILD_TUPLE              3\n",
      "             12 RETURN_VALUE\n"
     ]
    }
   ],
   "source": [
    "dis(compile('([1,2], 10, 20)', 'string', 'eval'))"
   ]
  },
  {
   "cell_type": "code",
   "execution_count": 138,
   "metadata": {},
   "outputs": [
    {
     "name": "stdout",
     "output_type": "stream",
     "text": [
      "  1           0 LOAD_CONST               0 (1)\n",
      "              2 LOAD_CONST               1 (2)\n",
      "              4 BUILD_LIST               2\n",
      "              6 LOAD_CONST               2 (10)\n",
      "              8 LOAD_CONST               3 (20)\n",
      "             10 BUILD_LIST               3\n",
      "             12 RETURN_VALUE\n"
     ]
    }
   ],
   "source": [
    "dis(compile('[[1,2], 10, 20]', 'string', 'eval'))"
   ]
  },
  {
   "cell_type": "markdown",
   "metadata": {},
   "source": [
    "this is reflected in the timings too:"
   ]
  },
  {
   "cell_type": "code",
   "execution_count": 139,
   "metadata": {},
   "outputs": [
    {
     "data": {
      "text/plain": [
       "0.15157052999711595"
      ]
     },
     "execution_count": 139,
     "metadata": {},
     "output_type": "execute_result"
    }
   ],
   "source": [
    "timeit(\"([1, 2], 10, 20)\", number=1_000_000)"
   ]
  },
  {
   "cell_type": "code",
   "execution_count": 140,
   "metadata": {},
   "outputs": [
    {
     "data": {
      "text/plain": [
       "0.11940534099994693"
      ]
     },
     "execution_count": 140,
     "metadata": {},
     "output_type": "execute_result"
    }
   ],
   "source": [
    "timeit(\"[[1, 2], 10, 20]\", number=1_000_000)"
   ]
  },
  {
   "cell_type": "markdown",
   "metadata": {},
   "source": [
    "#### Storage Efficiency"
   ]
  },
  {
   "cell_type": "markdown",
   "metadata": {},
   "source": [
    "When mutable container objects such as lists, sets, dictionaries, etc are created, and during their lifetime, the allocated capacity of these containers (the number of items they can contain) is greater than the number of elements in the container. This is done to make adding elements to the collection more efficient, and is called over-allocating.\n",
    "\n",
    "Immutable containers on the other hand, since their item count is fixed once they have been created, do not need this overallocation - so their storage efficiency is greater.\n",
    "\n",
    "Let's look at the size (memory) of lists and tuples as they get larger:"
   ]
  },
  {
   "cell_type": "code",
   "execution_count": 142,
   "metadata": {},
   "outputs": [],
   "source": [
    "import sys"
   ]
  },
  {
   "cell_type": "code",
   "execution_count": 143,
   "metadata": {},
   "outputs": [],
   "source": [
    "\n",
    "def size_delta(ds):\n",
    "    prev = 0\n",
    "    for i in range(10):\n",
    "        c = ds(range(i+1))\n",
    "        size_c = sys.getsizeof(c)\n",
    "        delta, prev = size_c - prev, size_c\n",
    "        print(f'{i+1} items: {size_c}, delta={delta}')"
   ]
  },
  {
   "cell_type": "code",
   "execution_count": 145,
   "metadata": {},
   "outputs": [
    {
     "name": "stdout",
     "output_type": "stream",
     "text": [
      "(0,)\n",
      "(0, 1)\n",
      "(0, 1, 2)\n",
      "(0, 1, 2, 3)\n",
      "(0, 1, 2, 3, 4)\n",
      "(0, 1, 2, 3, 4, 5)\n",
      "(0, 1, 2, 3, 4, 5, 6)\n",
      "(0, 1, 2, 3, 4, 5, 6, 7)\n",
      "(0, 1, 2, 3, 4, 5, 6, 7, 8)\n",
      "(0, 1, 2, 3, 4, 5, 6, 7, 8, 9)\n"
     ]
    }
   ],
   "source": [
    "for i in range(10):\n",
    "    print(tuple(range(i+1)))"
   ]
  },
  {
   "cell_type": "code",
   "execution_count": 144,
   "metadata": {},
   "outputs": [
    {
     "name": "stdout",
     "output_type": "stream",
     "text": [
      "1 items: 48, delta=48\n",
      "2 items: 56, delta=8\n",
      "3 items: 64, delta=8\n",
      "4 items: 72, delta=8\n",
      "5 items: 80, delta=8\n",
      "6 items: 88, delta=8\n",
      "7 items: 96, delta=8\n",
      "8 items: 104, delta=8\n",
      "9 items: 112, delta=8\n",
      "10 items: 120, delta=8\n"
     ]
    }
   ],
   "source": [
    "size_delta(tuple)"
   ]
  },
  {
   "cell_type": "code",
   "execution_count": 146,
   "metadata": {},
   "outputs": [
    {
     "name": "stdout",
     "output_type": "stream",
     "text": [
      "0 items: 56\n",
      "1 items: 88, delta=32\n",
      "2 items: 88, delta=0\n",
      "3 items: 88, delta=0\n",
      "4 items: 88, delta=0\n",
      "5 items: 120, delta=32\n",
      "6 items: 120, delta=0\n",
      "7 items: 120, delta=0\n",
      "8 items: 120, delta=0\n",
      "9 items: 184, delta=64\n",
      "10 items: 184, delta=0\n",
      "11 items: 184, delta=0\n",
      "12 items: 184, delta=0\n",
      "13 items: 184, delta=0\n",
      "14 items: 184, delta=0\n",
      "15 items: 184, delta=0\n",
      "16 items: 184, delta=0\n",
      "17 items: 256, delta=72\n",
      "18 items: 256, delta=0\n",
      "19 items: 256, delta=0\n",
      "20 items: 256, delta=0\n",
      "21 items: 256, delta=0\n",
      "22 items: 256, delta=0\n",
      "23 items: 256, delta=0\n",
      "24 items: 256, delta=0\n",
      "25 items: 256, delta=0\n",
      "26 items: 336, delta=80\n",
      "27 items: 336, delta=0\n",
      "28 items: 336, delta=0\n",
      "29 items: 336, delta=0\n",
      "30 items: 336, delta=0\n",
      "31 items: 336, delta=0\n",
      "32 items: 336, delta=0\n",
      "33 items: 336, delta=0\n",
      "34 items: 336, delta=0\n",
      "35 items: 336, delta=0\n",
      "36 items: 424, delta=88\n",
      "37 items: 424, delta=0\n",
      "38 items: 424, delta=0\n",
      "39 items: 424, delta=0\n",
      "40 items: 424, delta=0\n",
      "41 items: 424, delta=0\n",
      "42 items: 424, delta=0\n",
      "43 items: 424, delta=0\n",
      "44 items: 424, delta=0\n",
      "45 items: 424, delta=0\n",
      "46 items: 424, delta=0\n",
      "47 items: 520, delta=96\n",
      "48 items: 520, delta=0\n",
      "49 items: 520, delta=0\n",
      "50 items: 520, delta=0\n",
      "51 items: 520, delta=0\n",
      "52 items: 520, delta=0\n",
      "53 items: 520, delta=0\n",
      "54 items: 520, delta=0\n",
      "55 items: 520, delta=0\n",
      "56 items: 520, delta=0\n",
      "57 items: 520, delta=0\n",
      "58 items: 520, delta=0\n",
      "59 items: 632, delta=112\n",
      "60 items: 632, delta=0\n",
      "61 items: 632, delta=0\n",
      "62 items: 632, delta=0\n",
      "63 items: 632, delta=0\n",
      "64 items: 632, delta=0\n",
      "65 items: 632, delta=0\n",
      "66 items: 632, delta=0\n",
      "67 items: 632, delta=0\n",
      "68 items: 632, delta=0\n",
      "69 items: 632, delta=0\n",
      "70 items: 632, delta=0\n",
      "71 items: 632, delta=0\n",
      "72 items: 632, delta=0\n",
      "73 items: 760, delta=128\n",
      "74 items: 760, delta=0\n",
      "75 items: 760, delta=0\n",
      "76 items: 760, delta=0\n",
      "77 items: 760, delta=0\n",
      "78 items: 760, delta=0\n",
      "79 items: 760, delta=0\n",
      "80 items: 760, delta=0\n",
      "81 items: 760, delta=0\n",
      "82 items: 760, delta=0\n",
      "83 items: 760, delta=0\n",
      "84 items: 760, delta=0\n",
      "85 items: 760, delta=0\n",
      "86 items: 760, delta=0\n",
      "87 items: 760, delta=0\n",
      "88 items: 760, delta=0\n",
      "89 items: 904, delta=144\n",
      "90 items: 904, delta=0\n",
      "91 items: 904, delta=0\n",
      "92 items: 904, delta=0\n",
      "93 items: 904, delta=0\n",
      "94 items: 904, delta=0\n",
      "95 items: 904, delta=0\n",
      "96 items: 904, delta=0\n",
      "97 items: 904, delta=0\n",
      "98 items: 904, delta=0\n",
      "99 items: 904, delta=0\n",
      "100 items: 904, delta=0\n",
      "101 items: 904, delta=0\n",
      "102 items: 904, delta=0\n",
      "103 items: 904, delta=0\n",
      "104 items: 904, delta=0\n",
      "105 items: 904, delta=0\n",
      "106 items: 904, delta=0\n",
      "107 items: 1064, delta=160\n",
      "108 items: 1064, delta=0\n",
      "109 items: 1064, delta=0\n",
      "110 items: 1064, delta=0\n",
      "111 items: 1064, delta=0\n",
      "112 items: 1064, delta=0\n",
      "113 items: 1064, delta=0\n",
      "114 items: 1064, delta=0\n",
      "115 items: 1064, delta=0\n",
      "116 items: 1064, delta=0\n",
      "117 items: 1064, delta=0\n",
      "118 items: 1064, delta=0\n",
      "119 items: 1064, delta=0\n",
      "120 items: 1064, delta=0\n",
      "121 items: 1064, delta=0\n",
      "122 items: 1064, delta=0\n",
      "123 items: 1064, delta=0\n",
      "124 items: 1064, delta=0\n",
      "125 items: 1064, delta=0\n",
      "126 items: 1064, delta=0\n",
      "127 items: 1240, delta=176\n",
      "128 items: 1240, delta=0\n",
      "129 items: 1240, delta=0\n",
      "130 items: 1240, delta=0\n",
      "131 items: 1240, delta=0\n",
      "132 items: 1240, delta=0\n",
      "133 items: 1240, delta=0\n",
      "134 items: 1240, delta=0\n",
      "135 items: 1240, delta=0\n",
      "136 items: 1240, delta=0\n",
      "137 items: 1240, delta=0\n",
      "138 items: 1240, delta=0\n",
      "139 items: 1240, delta=0\n",
      "140 items: 1240, delta=0\n",
      "141 items: 1240, delta=0\n",
      "142 items: 1240, delta=0\n",
      "143 items: 1240, delta=0\n",
      "144 items: 1240, delta=0\n",
      "145 items: 1240, delta=0\n",
      "146 items: 1240, delta=0\n",
      "147 items: 1240, delta=0\n",
      "148 items: 1240, delta=0\n",
      "149 items: 1440, delta=200\n",
      "150 items: 1440, delta=0\n",
      "151 items: 1440, delta=0\n",
      "152 items: 1440, delta=0\n",
      "153 items: 1440, delta=0\n",
      "154 items: 1440, delta=0\n",
      "155 items: 1440, delta=0\n",
      "156 items: 1440, delta=0\n",
      "157 items: 1440, delta=0\n",
      "158 items: 1440, delta=0\n",
      "159 items: 1440, delta=0\n",
      "160 items: 1440, delta=0\n",
      "161 items: 1440, delta=0\n",
      "162 items: 1440, delta=0\n",
      "163 items: 1440, delta=0\n",
      "164 items: 1440, delta=0\n",
      "165 items: 1440, delta=0\n",
      "166 items: 1440, delta=0\n",
      "167 items: 1440, delta=0\n",
      "168 items: 1440, delta=0\n",
      "169 items: 1440, delta=0\n",
      "170 items: 1440, delta=0\n",
      "171 items: 1440, delta=0\n",
      "172 items: 1440, delta=0\n",
      "173 items: 1440, delta=0\n",
      "174 items: 1664, delta=224\n",
      "175 items: 1664, delta=0\n",
      "176 items: 1664, delta=0\n",
      "177 items: 1664, delta=0\n",
      "178 items: 1664, delta=0\n",
      "179 items: 1664, delta=0\n",
      "180 items: 1664, delta=0\n",
      "181 items: 1664, delta=0\n",
      "182 items: 1664, delta=0\n",
      "183 items: 1664, delta=0\n",
      "184 items: 1664, delta=0\n",
      "185 items: 1664, delta=0\n",
      "186 items: 1664, delta=0\n",
      "187 items: 1664, delta=0\n",
      "188 items: 1664, delta=0\n",
      "189 items: 1664, delta=0\n",
      "190 items: 1664, delta=0\n",
      "191 items: 1664, delta=0\n",
      "192 items: 1664, delta=0\n",
      "193 items: 1664, delta=0\n",
      "194 items: 1664, delta=0\n",
      "195 items: 1664, delta=0\n",
      "196 items: 1664, delta=0\n",
      "197 items: 1664, delta=0\n",
      "198 items: 1664, delta=0\n",
      "199 items: 1664, delta=0\n",
      "200 items: 1664, delta=0\n",
      "201 items: 1664, delta=0\n",
      "202 items: 1920, delta=256\n",
      "203 items: 1920, delta=0\n",
      "204 items: 1920, delta=0\n",
      "205 items: 1920, delta=0\n",
      "206 items: 1920, delta=0\n",
      "207 items: 1920, delta=0\n",
      "208 items: 1920, delta=0\n",
      "209 items: 1920, delta=0\n",
      "210 items: 1920, delta=0\n",
      "211 items: 1920, delta=0\n",
      "212 items: 1920, delta=0\n",
      "213 items: 1920, delta=0\n",
      "214 items: 1920, delta=0\n",
      "215 items: 1920, delta=0\n",
      "216 items: 1920, delta=0\n",
      "217 items: 1920, delta=0\n",
      "218 items: 1920, delta=0\n",
      "219 items: 1920, delta=0\n",
      "220 items: 1920, delta=0\n",
      "221 items: 1920, delta=0\n",
      "222 items: 1920, delta=0\n",
      "223 items: 1920, delta=0\n",
      "224 items: 1920, delta=0\n",
      "225 items: 1920, delta=0\n",
      "226 items: 1920, delta=0\n",
      "227 items: 1920, delta=0\n",
      "228 items: 1920, delta=0\n",
      "229 items: 1920, delta=0\n",
      "230 items: 1920, delta=0\n",
      "231 items: 1920, delta=0\n",
      "232 items: 1920, delta=0\n",
      "233 items: 1920, delta=0\n",
      "234 items: 2208, delta=288\n",
      "235 items: 2208, delta=0\n",
      "236 items: 2208, delta=0\n",
      "237 items: 2208, delta=0\n",
      "238 items: 2208, delta=0\n",
      "239 items: 2208, delta=0\n",
      "240 items: 2208, delta=0\n",
      "241 items: 2208, delta=0\n",
      "242 items: 2208, delta=0\n",
      "243 items: 2208, delta=0\n",
      "244 items: 2208, delta=0\n",
      "245 items: 2208, delta=0\n",
      "246 items: 2208, delta=0\n",
      "247 items: 2208, delta=0\n",
      "248 items: 2208, delta=0\n",
      "249 items: 2208, delta=0\n",
      "250 items: 2208, delta=0\n",
      "251 items: 2208, delta=0\n",
      "252 items: 2208, delta=0\n",
      "253 items: 2208, delta=0\n",
      "254 items: 2208, delta=0\n",
      "255 items: 2208, delta=0\n"
     ]
    }
   ],
   "source": [
    "c = []\n",
    "prev = sys.getsizeof(c)\n",
    "print(f'0 items: {sys.getsizeof(c)}')\n",
    "for i in range(255):\n",
    "    c.append(i)\n",
    "    size_c = sys.getsizeof(c)\n",
    "    delta, prev = size_c - prev, size_c\n",
    "    print(f'{i+1} items: {size_c}, delta={delta}')"
   ]
  },
  {
   "cell_type": "markdown",
   "metadata": {},
   "source": [
    "As you can see the size of the list doesn't grow every time we append an element - it only does so occasionally. Resizing a list is expensive, so not resizing every time an item is added helps out, so this method called *overallocation* is used that creates a larger container than required is used - on the other hand you don't want to overallocate too much as this has a memory cost."
   ]
  },
  {
   "cell_type": "markdown",
   "metadata": {},
   "source": [
    "**Fun Fact**:\n",
    "If you're interested in learning more about why over-allocating is done and how it works (amortization), Wikipedia also has an excellent article on it: https://en.wikipedia.org/wiki/Dynamic_array\n",
    "\n",
    "The book \"Introduction to Algorithms\", by \"Cormen, Leiserson, Rivest and Stein\" has a thorough discussion on it (under dynamic tables)."
   ]
  },
  {
   "cell_type": "markdown",
   "metadata": {},
   "source": [
    "#### Retrieving Elements"
   ]
  },
  {
   "cell_type": "markdown",
   "metadata": {},
   "source": [
    "Let's time retrieving an element from a tuple and a list:"
   ]
  },
  {
   "cell_type": "code",
   "execution_count": 147,
   "metadata": {},
   "outputs": [],
   "source": [
    "t = tuple(range(100_0000))\n",
    "l = list(t)"
   ]
  },
  {
   "cell_type": "code",
   "execution_count": 151,
   "metadata": {},
   "outputs": [
    {
     "data": {
      "text/plain": [
       "0.3880037409981014"
      ]
     },
     "execution_count": 151,
     "metadata": {},
     "output_type": "execute_result"
    }
   ],
   "source": [
    "timeit('t[99_9999]', globals=globals(), number=10_000_000)"
   ]
  },
  {
   "cell_type": "code",
   "execution_count": 150,
   "metadata": {},
   "outputs": [
    {
     "data": {
      "text/plain": [
       "0.4328831509919837"
      ]
     },
     "execution_count": 150,
     "metadata": {},
     "output_type": "execute_result"
    }
   ],
   "source": [
    "timeit('l[99_9999]', globals=globals(), number=10_000_000)"
   ]
  },
  {
   "cell_type": "markdown",
   "metadata": {},
   "source": [
    "As you can see, retrieving elements from a tuple is very slightly faster than from a list. But consideting how small the difference really is, I'm not sure I would worry about it too much.\n",
    "\n",
    "There is a reason why this should be true, and it has to do with how tuples and lists are implemented in CPython. Tuples have direct access (pointers) to their elements, while lists need to first access another array that contains the pointers to the elements of the list."
   ]
  },
  {
   "cell_type": "markdown",
   "metadata": {},
   "source": [
    "### Sorting Sequences"
   ]
  },
  {
   "cell_type": "markdown",
   "metadata": {},
   "source": [
    "We have two different ways of sorting a mutable sequence:\n",
    "\n",
    "* returning a new sorted sequence\n",
    "* in-place sorting (mutating sequence) - obviously this works for mutable sequence types only!\n"
   ]
  },
  {
   "cell_type": "markdown",
   "metadata": {},
   "source": [
    "For any iterable, the built-in `sorted` function will return a **list** containing the sorted elements of the iterable.\n",
    "\n",
    "So a few things here: \n",
    "* any iterable can be sorted (as long as it is finite)\n",
    "* the elements must be pair-wise comparable (possibly indirectly via a sort key)\n",
    "* the returned result is always a list\n",
    "* the original iterable is not mutated"
   ]
  },
  {
   "cell_type": "markdown",
   "metadata": {},
   "source": [
    "In addition:\n",
    "* optionally specify a `key` - a function that extracts a comparison key for each element. If that key is not specified, Python will use the natural ordering of the elements (such as __gt__, etc, so that fails if they do not!)\n",
    "* optional specify the `reverse` argument which will return the reversed sort"
   ]
  },
  {
   "cell_type": "markdown",
   "metadata": {},
   "source": [
    "Numbers have a natural ordering for example, so sorting an iterable of numbers is easy:"
   ]
  },
  {
   "cell_type": "code",
   "execution_count": 152,
   "metadata": {},
   "outputs": [
    {
     "data": {
      "text/plain": [
       "[1, 3, 5, 6, 8, 9, 10]"
      ]
     },
     "execution_count": 152,
     "metadata": {},
     "output_type": "execute_result"
    }
   ],
   "source": [
    "t = 10, 3, 5, 8, 9, 6, 1\n",
    "sorted(t)"
   ]
  },
  {
   "cell_type": "markdown",
   "metadata": {},
   "source": [
    "As you can see we sorted a `tuple` and got a `list` back."
   ]
  },
  {
   "cell_type": "markdown",
   "metadata": {},
   "source": [
    "    We can sort non-sequence iterables too:"
   ]
  },
  {
   "cell_type": "code",
   "execution_count": 153,
   "metadata": {},
   "outputs": [
    {
     "data": {
      "text/plain": [
       "[1, 3, 5, 6, 8, 9, 10]"
      ]
     },
     "execution_count": 153,
     "metadata": {},
     "output_type": "execute_result"
    }
   ],
   "source": [
    "s = {10, 3, 5, 8, 9, 6, 1}\n",
    "sorted(s)"
   ]
  },
  {
   "cell_type": "markdown",
   "metadata": {},
   "source": [
    "For things like dictionaries, this works slightly differently. Remember what happens when we iterate a dictionary?"
   ]
  },
  {
   "cell_type": "code",
   "execution_count": 154,
   "metadata": {},
   "outputs": [
    {
     "name": "stdout",
     "output_type": "stream",
     "text": [
      "3\n",
      "2\n",
      "1\n"
     ]
    }
   ],
   "source": [
    "d = {3: 100, 2: 200, 1: 10}\n",
    "for item in d:\n",
    "    print(item)"
   ]
  },
  {
   "cell_type": "markdown",
   "metadata": {},
   "source": [
    "We actually are iterating the keys.\n",
    "\n",
    "Same thing happens with sorting - we'll end up just sorting the keys:"
   ]
  },
  {
   "cell_type": "code",
   "execution_count": 155,
   "metadata": {},
   "outputs": [
    {
     "data": {
      "text/plain": [
       "[1, 2, 3]"
      ]
     },
     "execution_count": 155,
     "metadata": {},
     "output_type": "execute_result"
    }
   ],
   "source": [
    "d = {3: 100, 2: 200, 1: 10}\n",
    "sorted(d)"
   ]
  },
  {
   "cell_type": "markdown",
   "metadata": {},
   "source": [
    "But what if we wanted to sort the dictionary keys based on the values instead?"
   ]
  },
  {
   "cell_type": "markdown",
   "metadata": {},
   "source": [
    "This is where the `key` argument of `sorted` will come in handy."
   ]
  },
  {
   "cell_type": "markdown",
   "metadata": {},
   "source": [
    "We are going to specify to the `sorted` function that it should use the value of each item to use as a sort key:"
   ]
  },
  {
   "cell_type": "code",
   "execution_count": 156,
   "metadata": {},
   "outputs": [
    {
     "data": {
      "text/plain": [
       "['c', 'b', 'a']"
      ]
     },
     "execution_count": 156,
     "metadata": {},
     "output_type": "execute_result"
    }
   ],
   "source": [
    "d = {'a': 100, 'b': 50, 'c': 10}\n",
    "sorted(d, key=lambda k: d[k])"
   ]
  },
  {
   "cell_type": "markdown",
   "metadata": {},
   "source": [
    "Basically the `key` argument was called on every item being sorted - these items were the keys of the dictionary: `a`, `b`, `c`.\n",
    "For every key it used the result of the lambda as the sorting key:"
   ]
  },
  {
   "cell_type": "markdown",
   "metadata": {},
   "source": [
    "dictionary keys --> sorting key:\n",
    "* `a  --> 100`\n",
    "* `b --> 50`\n",
    "* `c --> 10`\n",
    "\n",
    "Hence the sort order was 10, 20, 100, which means `c, b, a`"
   ]
  },
  {
   "cell_type": "markdown",
   "metadata": {},
   "source": [
    "Here's a different example, where we want to sort strings, not based on the lexicographic ordering, but based on the length of the string."
   ]
  },
  {
   "cell_type": "markdown",
   "metadata": {},
   "source": [
    "We can easily do this as follows:"
   ]
  },
  {
   "cell_type": "code",
   "execution_count": 158,
   "metadata": {},
   "outputs": [
    {
     "data": {
      "text/plain": [
       "['a', 'bird', 'is', 'late', 'parrot', 'this']"
      ]
     },
     "execution_count": 158,
     "metadata": {},
     "output_type": "execute_result"
    }
   ],
   "source": [
    "t = 'this', 'parrot', 'is', 'a', 'late', 'bird'\n",
    "sorted(t)"
   ]
  },
  {
   "cell_type": "markdown",
   "metadata": {},
   "source": [
    "As you can see the natural ordering for strings was used here, but we can change the behavior by specifying the sort key:"
   ]
  },
  {
   "cell_type": "markdown",
   "metadata": {},
   "source": [
    "Remember that the key is a function that receives the item being sorted, and should return something (else usually!) that we want to use as the sort key. We use lambdas, but you can also use a straight def function too"
   ]
  },
  {
   "cell_type": "code",
   "execution_count": 159,
   "metadata": {},
   "outputs": [],
   "source": [
    "def sort_key(s):\n",
    "    return len(s)"
   ]
  },
  {
   "cell_type": "code",
   "execution_count": 161,
   "metadata": {},
   "outputs": [
    {
     "data": {
      "text/plain": [
       "('this', 'parrot', 'is', 'a', 'late', 'bird')"
      ]
     },
     "execution_count": 161,
     "metadata": {},
     "output_type": "execute_result"
    }
   ],
   "source": [
    "t"
   ]
  },
  {
   "cell_type": "code",
   "execution_count": 160,
   "metadata": {},
   "outputs": [
    {
     "data": {
      "text/plain": [
       "['a', 'is', 'this', 'late', 'bird', 'parrot']"
      ]
     },
     "execution_count": 160,
     "metadata": {},
     "output_type": "execute_result"
    }
   ],
   "source": [
    "sorted(t, key=sort_key)"
   ]
  },
  {
   "cell_type": "markdown",
   "metadata": {},
   "source": [
    "or, using a lambda:"
   ]
  },
  {
   "cell_type": "code",
   "execution_count": 162,
   "metadata": {},
   "outputs": [
    {
     "data": {
      "text/plain": [
       "['a', 'is', 'this', 'late', 'bird', 'parrot']"
      ]
     },
     "execution_count": 162,
     "metadata": {},
     "output_type": "execute_result"
    }
   ],
   "source": [
    "sorted(t, key=lambda s: len(s))"
   ]
  },
  {
   "cell_type": "markdown",
   "metadata": {},
   "source": [
    "#### Stable Sorting"
   ]
  },
  {
   "cell_type": "markdown",
   "metadata": {},
   "source": [
    "You might have noticed that the words `this`,  `late` and `bird` all have four characters - so how did Python determine which one should come first? Randomly? No!\n",
    "\n",
    "The sort algorithm that Python uses, called the *TimSort* (named after Python core developer Tim Peters - yes, the same Tim Peters that wrote the Zen of Python!!), is what is called a **stable** sort algorithm.\n",
    "\n",
    "This means that items with equal sort keys maintain their relative position."
   ]
  },
  {
   "cell_type": "code",
   "execution_count": 163,
   "metadata": {},
   "outputs": [
    {
     "name": "stdout",
     "output_type": "stream",
     "text": [
      "The Zen of Python, by Tim Peters\n",
      "\n",
      "Beautiful is better than ugly.\n",
      "Explicit is better than implicit.\n",
      "Simple is better than complex.\n",
      "Complex is better than complicated.\n",
      "Flat is better than nested.\n",
      "Sparse is better than dense.\n",
      "Readability counts.\n",
      "Special cases aren't special enough to break the rules.\n",
      "Although practicality beats purity.\n",
      "Errors should never pass silently.\n",
      "Unless explicitly silenced.\n",
      "In the face of ambiguity, refuse the temptation to guess.\n",
      "There should be one-- and preferably only one --obvious way to do it.\n",
      "Although that way may not be obvious at first unless you're Dutch.\n",
      "Now is better than never.\n",
      "Although never is often better than *right* now.\n",
      "If the implementation is hard to explain, it's a bad idea.\n",
      "If the implementation is easy to explain, it may be a good idea.\n",
      "Namespaces are one honking great idea -- let's do more of those!\n"
     ]
    }
   ],
   "source": [
    "import this"
   ]
  },
  {
   "cell_type": "markdown",
   "metadata": {},
   "source": [
    "Now back to stable sorting:"
   ]
  },
  {
   "cell_type": "code",
   "execution_count": 164,
   "metadata": {},
   "outputs": [],
   "source": [
    "t = 'aaaa', 'bbbb', 'cccc', 'dddd', 'eeee'"
   ]
  },
  {
   "cell_type": "code",
   "execution_count": 165,
   "metadata": {},
   "outputs": [
    {
     "data": {
      "text/plain": [
       "['aaaa', 'bbbb', 'cccc', 'dddd', 'eeee']"
      ]
     },
     "execution_count": 165,
     "metadata": {},
     "output_type": "execute_result"
    }
   ],
   "source": [
    "sorted(t, key = lambda s: len(s))"
   ]
  },
  {
   "cell_type": "markdown",
   "metadata": {},
   "source": [
    "Now let's change our tuple a bit:"
   ]
  },
  {
   "cell_type": "code",
   "execution_count": 166,
   "metadata": {},
   "outputs": [],
   "source": [
    "t = 'bbbb', 'cccc', 'aaaa', 'eeee', 'dddd'"
   ]
  },
  {
   "cell_type": "code",
   "execution_count": 167,
   "metadata": {},
   "outputs": [
    {
     "data": {
      "text/plain": [
       "['bbbb', 'cccc', 'aaaa', 'eeee', 'dddd']"
      ]
     },
     "execution_count": 167,
     "metadata": {},
     "output_type": "execute_result"
    }
   ],
   "source": [
    "sorted(t, key = lambda s: len(s))"
   ]
  },
  {
   "cell_type": "markdown",
   "metadata": {},
   "source": [
    "As you can see, when the sort keys are equal (they are all equal to 4), the original ordering of the iterable is preserved.\n",
    "\n",
    "So in our original example:"
   ]
  },
  {
   "cell_type": "code",
   "execution_count": 168,
   "metadata": {},
   "outputs": [],
   "source": [
    "t = 'this', 'parrot', 'is', 'a', 'late', 'bird'"
   ]
  },
  {
   "cell_type": "code",
   "execution_count": 169,
   "metadata": {},
   "outputs": [
    {
     "data": {
      "text/plain": [
       "['a', 'is', 'this', 'late', 'bird', 'parrot']"
      ]
     },
     "execution_count": 169,
     "metadata": {},
     "output_type": "execute_result"
    }
   ],
   "source": [
    "sorted(t, key = lambda s: len(s))"
   ]
  },
  {
   "cell_type": "markdown",
   "metadata": {},
   "source": [
    "So, `this`, will come before `late` which will come before `bird`.\n",
    "\n",
    "If we change it up a bit:"
   ]
  },
  {
   "cell_type": "code",
   "execution_count": 172,
   "metadata": {},
   "outputs": [
    {
     "data": {
      "text/plain": [
       "['a', 'is', 'this', 'bird', 'late', 'parrot']"
      ]
     },
     "execution_count": 172,
     "metadata": {},
     "output_type": "execute_result"
    }
   ],
   "source": [
    "t = 'this', 'bird', 'is', 'a', 'late', 'parrot'\n",
    "sorted(t, key = lambda s: len(s))"
   ]
  },
  {
   "cell_type": "markdown",
   "metadata": {},
   "source": [
    "you'll notice that now `bird` ends up before `late`."
   ]
  },
  {
   "cell_type": "markdown",
   "metadata": {},
   "source": [
    "So this `key` argument makes the `sorted` function extremely flexible. We can now even sort objects that are not even comparable!"
   ]
  },
  {
   "cell_type": "code",
   "execution_count": 173,
   "metadata": {},
   "outputs": [],
   "source": [
    "c1 = 10 + 2j\n",
    "c2 = 5 - 3j"
   ]
  },
  {
   "cell_type": "code",
   "execution_count": 174,
   "metadata": {},
   "outputs": [
    {
     "ename": "TypeError",
     "evalue": "'<' not supported between instances of 'complex' and 'complex'",
     "output_type": "error",
     "traceback": [
      "\u001b[0;31m------------------------------------------------------------\u001b[0m",
      "\u001b[0;31mTypeError\u001b[0m                  Traceback (most recent call last)",
      "\u001b[0;32m<ipython-input-174-373d7aec8960>\u001b[0m in \u001b[0;36m<module>\u001b[0;34m\u001b[0m\n\u001b[0;32m----> 1\u001b[0;31m \u001b[0mc1\u001b[0m \u001b[0;34m<\u001b[0m \u001b[0mc2\u001b[0m\u001b[0;34m\u001b[0m\u001b[0;34m\u001b[0m\u001b[0m\n\u001b[0m",
      "\u001b[0;31mTypeError\u001b[0m: '<' not supported between instances of 'complex' and 'complex'"
     ]
    }
   ],
   "source": [
    "c1 < c2"
   ]
  },
  {
   "cell_type": "code",
   "execution_count": 175,
   "metadata": {},
   "outputs": [],
   "source": [
    "t = 0, 10+10j, 3-3j, 4+4j, 5-2j"
   ]
  },
  {
   "cell_type": "code",
   "execution_count": 184,
   "metadata": {},
   "outputs": [],
   "source": [
    "c = 10+1j"
   ]
  },
  {
   "cell_type": "markdown",
   "metadata": {},
   "source": [
    "We can easily calculate the distace from the origin by using the `abs` function:"
   ]
  },
  {
   "cell_type": "code",
   "execution_count": 185,
   "metadata": {},
   "outputs": [
    {
     "data": {
      "text/plain": [
       "(1.0, 10.0)"
      ]
     },
     "execution_count": 185,
     "metadata": {},
     "output_type": "execute_result"
    }
   ],
   "source": [
    "c.imag,c.real"
   ]
  },
  {
   "cell_type": "code",
   "execution_count": 176,
   "metadata": {},
   "outputs": [
    {
     "data": {
      "text/plain": [
       "5.0"
      ]
     },
     "execution_count": 176,
     "metadata": {},
     "output_type": "execute_result"
    }
   ],
   "source": [
    "abs(3+4j)"
   ]
  },
  {
   "cell_type": "markdown",
   "metadata": {},
   "source": [
    "So now we can use that as a sort key:"
   ]
  },
  {
   "cell_type": "code",
   "execution_count": 179,
   "metadata": {},
   "outputs": [
    {
     "data": {
      "text/plain": [
       "[0, (3-3j), (5-2j), (4+4j), (10+10j)]"
      ]
     },
     "execution_count": 179,
     "metadata": {},
     "output_type": "execute_result"
    }
   ],
   "source": [
    "sorted(t, key=abs)"
   ]
  },
  {
   "cell_type": "markdown",
   "metadata": {},
   "source": [
    "Of course, you could decide to sort based on the imaginary component instead:"
   ]
  },
  {
   "cell_type": "code",
   "execution_count": 186,
   "metadata": {},
   "outputs": [
    {
     "data": {
      "text/plain": [
       "[(3-3j), (5-2j), 0, (4+4j), (10+10j)]"
      ]
     },
     "execution_count": 186,
     "metadata": {},
     "output_type": "execute_result"
    }
   ],
   "source": [
    "sorted(t, key=lambda c: c.imag)"
   ]
  },
  {
   "cell_type": "markdown",
   "metadata": {},
   "source": [
    "#### Reversed Sort"
   ]
  },
  {
   "cell_type": "markdown",
   "metadata": {},
   "source": [
    "We also have the `reverse` keyword-only argument that we can use - basically it sorts the iterable, but returns it reversed:"
   ]
  },
  {
   "cell_type": "code",
   "execution_count": 187,
   "metadata": {},
   "outputs": [],
   "source": [
    "t = 'this', 'bird', 'is', 'a', 'late', 'parrot'"
   ]
  },
  {
   "cell_type": "code",
   "execution_count": 188,
   "metadata": {},
   "outputs": [
    {
     "data": {
      "text/plain": [
       "['a', 'is', 'this', 'bird', 'late', 'parrot']"
      ]
     },
     "execution_count": 188,
     "metadata": {},
     "output_type": "execute_result"
    }
   ],
   "source": [
    "sorted(t, key=lambda s: len(s))"
   ]
  },
  {
   "cell_type": "markdown",
   "metadata": {},
   "source": [
    "Of course in this case we could have done it this way too:"
   ]
  },
  {
   "cell_type": "code",
   "execution_count": 189,
   "metadata": {},
   "outputs": [
    {
     "data": {
      "text/plain": [
       "['parrot', 'this', 'bird', 'late', 'is', 'a']"
      ]
     },
     "execution_count": 189,
     "metadata": {},
     "output_type": "execute_result"
    }
   ],
   "source": [
    "sorted(t, key=lambda s: -len(s))"
   ]
  },
  {
   "cell_type": "markdown",
   "metadata": {},
   "source": [
    "#### In-Place Sorting"
   ]
  },
  {
   "cell_type": "markdown",
   "metadata": {},
   "source": [
    "So far we have seen the `sorted` function - it returns a new (list) containing the sorted elements, and the original iterable remains the same.\n",
    "\n",
    "But mutable sequence types, such as lists, also implement in-place sorting - where the original list is sorted (the memory address does not change, the object is actually mutated).\n",
    "\n",
    "The syntax for calling the sorted method is identical to the `sorted` function, and is implemented using the same TimSort algorithm.\n",
    "\n",
    "Of course, this will not work with tuples, which are immutable."
   ]
  },
  {
   "cell_type": "code",
   "execution_count": 190,
   "metadata": {},
   "outputs": [],
   "source": [
    "l = ['this', 'bird', 'is', 'a', 'late', 'parrot']"
   ]
  },
  {
   "cell_type": "code",
   "execution_count": 191,
   "metadata": {},
   "outputs": [
    {
     "data": {
      "text/plain": [
       "139696314351168"
      ]
     },
     "execution_count": 191,
     "metadata": {},
     "output_type": "execute_result"
    }
   ],
   "source": [
    "id(l)"
   ]
  },
  {
   "cell_type": "code",
   "execution_count": 192,
   "metadata": {},
   "outputs": [
    {
     "data": {
      "text/plain": [
       "['a', 'is', 'this', 'bird', 'late', 'parrot']"
      ]
     },
     "execution_count": 192,
     "metadata": {},
     "output_type": "execute_result"
    }
   ],
   "source": [
    "sorted(l, key=lambda s: len(s))"
   ]
  },
  {
   "cell_type": "code",
   "execution_count": 193,
   "metadata": {},
   "outputs": [
    {
     "data": {
      "text/plain": [
       "(['this', 'bird', 'is', 'a', 'late', 'parrot'], 139696314351168)"
      ]
     },
     "execution_count": 193,
     "metadata": {},
     "output_type": "execute_result"
    }
   ],
   "source": [
    "l, id(l)"
   ]
  },
  {
   "cell_type": "markdown",
   "metadata": {},
   "source": [
    "As you can see, the list `l` was not mutated and is still the same object.\n",
    "\n",
    "But this way is different:"
   ]
  },
  {
   "cell_type": "code",
   "execution_count": 194,
   "metadata": {},
   "outputs": [],
   "source": [
    "result = l.sort(key=lambda s: len(s))"
   ]
  },
  {
   "cell_type": "markdown",
   "metadata": {},
   "source": [
    "First, the `sort` **method** does not return anything:"
   ]
  },
  {
   "cell_type": "code",
   "execution_count": 195,
   "metadata": {},
   "outputs": [
    {
     "data": {
      "text/plain": [
       "NoneType"
      ]
     },
     "execution_count": 195,
     "metadata": {},
     "output_type": "execute_result"
    }
   ],
   "source": [
    "type(result)"
   ]
  },
  {
   "cell_type": "code",
   "execution_count": 196,
   "metadata": {},
   "outputs": [
    {
     "data": {
      "text/plain": [
       "139696314351168"
      ]
     },
     "execution_count": 196,
     "metadata": {},
     "output_type": "execute_result"
    }
   ],
   "source": [
    "id(l)"
   ]
  },
  {
   "cell_type": "code",
   "execution_count": 197,
   "metadata": {},
   "outputs": [
    {
     "data": {
      "text/plain": [
       "['a', 'is', 'this', 'bird', 'late', 'parrot']"
      ]
     },
     "execution_count": 197,
     "metadata": {},
     "output_type": "execute_result"
    }
   ],
   "source": [
    "l"
   ]
  },
  {
   "cell_type": "markdown",
   "metadata": {},
   "source": [
    "That's really the only fundamental difference between the two sorts - one is in-place, while the other is not."
   ]
  },
  {
   "cell_type": "markdown",
   "metadata": {},
   "source": [
    "You might be wondering if one is more efficient than the other. \n",
    "\n",
    "As far as algorithms go, they are the same, so no difference there (one sort is not more efficient than the other). \n",
    "\n",
    "But `list.sort()` will be faster than `sorted()` because it does not have to create a copy of the sequence. \n",
    "\n",
    "Of course, for iterables other than lists, you don't have much of a choice, and need to use `sorted` anyways."
   ]
  },
  {
   "cell_type": "markdown",
   "metadata": {},
   "source": [
    "Let's try timing this a bit to see if we can see the difference:"
   ]
  },
  {
   "cell_type": "code",
   "execution_count": 198,
   "metadata": {},
   "outputs": [],
   "source": [
    "from timeit import timeit\n",
    "import random"
   ]
  },
  {
   "cell_type": "code",
   "execution_count": 199,
   "metadata": {},
   "outputs": [],
   "source": [
    "random.seed(0)\n",
    "n = 10_000_000\n",
    "l = [random.randint(0, 100) for n in range(n)]"
   ]
  },
  {
   "cell_type": "markdown",
   "metadata": {},
   "source": [
    "This produces a list of `n` random integers between 0 and 100. "
   ]
  },
  {
   "cell_type": "markdown",
   "metadata": {},
   "source": [
    "Now, I'm only going to run the tests once, because when using in-place sorting of `l` we'll end up sorting an already sorted list - and that may very well affect the timing..."
   ]
  },
  {
   "cell_type": "code",
   "execution_count": 200,
   "metadata": {},
   "outputs": [
    {
     "data": {
      "text/plain": [
       "[49,\n",
       " 97,\n",
       " 53,\n",
       " 5,\n",
       " 33,\n",
       " 65,\n",
       " 62,\n",
       " 51,\n",
       " 100,\n",
       " 38,\n",
       " 61,\n",
       " 45,\n",
       " 74,\n",
       " 27,\n",
       " 64,\n",
       " 17,\n",
       " 36,\n",
       " 17,\n",
       " 96,\n",
       " 12,\n",
       " 79,\n",
       " 32,\n",
       " 68,\n",
       " 90,\n",
       " 77,\n",
       " 18,\n",
       " 39,\n",
       " 12,\n",
       " 93,\n",
       " 9,\n",
       " 87,\n",
       " 42,\n",
       " 60,\n",
       " 71,\n",
       " 12,\n",
       " 45,\n",
       " 55,\n",
       " 40,\n",
       " 78,\n",
       " 81,\n",
       " 26,\n",
       " 70,\n",
       " 61,\n",
       " 56,\n",
       " 66,\n",
       " 33,\n",
       " 7,\n",
       " 70,\n",
       " 1,\n",
       " 11,\n",
       " 92,\n",
       " 51,\n",
       " 90,\n",
       " 100,\n",
       " 85,\n",
       " 80,\n",
       " 0,\n",
       " 78,\n",
       " 63,\n",
       " 42,\n",
       " 31,\n",
       " 93,\n",
       " 41,\n",
       " 90,\n",
       " 8,\n",
       " 24,\n",
       " 72,\n",
       " 28,\n",
       " 30,\n",
       " 18,\n",
       " 69,\n",
       " 57,\n",
       " 11,\n",
       " 10,\n",
       " 40,\n",
       " 65,\n",
       " 62,\n",
       " 13,\n",
       " 38,\n",
       " 70,\n",
       " 37,\n",
       " 90,\n",
       " 15,\n",
       " 70,\n",
       " 42,\n",
       " 69,\n",
       " 26,\n",
       " 77,\n",
       " 70,\n",
       " 75,\n",
       " 36,\n",
       " 56,\n",
       " 11,\n",
       " 76,\n",
       " 49,\n",
       " 40,\n",
       " 73,\n",
       " 30,\n",
       " 37,\n",
       " 23,\n",
       " 24,\n",
       " 23,\n",
       " 4,\n",
       " 78,\n",
       " 84,\n",
       " 33,\n",
       " 60,\n",
       " 8,\n",
       " 11,\n",
       " 86,\n",
       " 96,\n",
       " 16,\n",
       " 19,\n",
       " 4,\n",
       " 10,\n",
       " 89,\n",
       " 69,\n",
       " 87,\n",
       " 50,\n",
       " 90,\n",
       " 67,\n",
       " 35,\n",
       " 66,\n",
       " 30,\n",
       " 27,\n",
       " 86,\n",
       " 75,\n",
       " 53,\n",
       " 74,\n",
       " 35,\n",
       " 57,\n",
       " 63,\n",
       " 84,\n",
       " 82,\n",
       " 89,\n",
       " 45,\n",
       " 10,\n",
       " 41,\n",
       " 78,\n",
       " 14,\n",
       " 62,\n",
       " 75,\n",
       " 80,\n",
       " 42,\n",
       " 24,\n",
       " 31,\n",
       " 2,\n",
       " 93,\n",
       " 34,\n",
       " 14,\n",
       " 90,\n",
       " 28,\n",
       " 47,\n",
       " 21,\n",
       " 42,\n",
       " 54,\n",
       " 7,\n",
       " 12,\n",
       " 100,\n",
       " 18,\n",
       " 89,\n",
       " 28,\n",
       " 5,\n",
       " 73,\n",
       " 81,\n",
       " 68,\n",
       " 77,\n",
       " 87,\n",
       " 9,\n",
       " 3,\n",
       " 15,\n",
       " 81,\n",
       " 24,\n",
       " 77,\n",
       " 73,\n",
       " 15,\n",
       " 50,\n",
       " 11,\n",
       " 47,\n",
       " 14,\n",
       " 4,\n",
       " 77,\n",
       " 2,\n",
       " 24,\n",
       " 23,\n",
       " 91,\n",
       " 15,\n",
       " 61,\n",
       " 26,\n",
       " 93,\n",
       " 7,\n",
       " 86,\n",
       " 2,\n",
       " 69,\n",
       " 54,\n",
       " 79,\n",
       " 12,\n",
       " 33,\n",
       " 8,\n",
       " 28,\n",
       " 9,\n",
       " 82,\n",
       " 38,\n",
       " 44,\n",
       " 55,\n",
       " 23,\n",
       " 7,\n",
       " 64,\n",
       " 59,\n",
       " 5,\n",
       " 76,\n",
       " 12,\n",
       " 89,\n",
       " 50,\n",
       " 25,\n",
       " 33,\n",
       " 45,\n",
       " 93,\n",
       " 60,\n",
       " 72,\n",
       " 21,\n",
       " 89,\n",
       " 86,\n",
       " 26,\n",
       " 98,\n",
       " 7,\n",
       " 100,\n",
       " 86,\n",
       " 20,\n",
       " 20,\n",
       " 43,\n",
       " 67,\n",
       " 32,\n",
       " 15,\n",
       " 76,\n",
       " 56,\n",
       " 85,\n",
       " 22,\n",
       " 1,\n",
       " 60,\n",
       " 87,\n",
       " 52,\n",
       " 72,\n",
       " 65,\n",
       " 39,\n",
       " 83,\n",
       " 45,\n",
       " 49,\n",
       " 84,\n",
       " 32,\n",
       " 19,\n",
       " 71,\n",
       " 88,\n",
       " 1,\n",
       " 58,\n",
       " 94,\n",
       " 10,\n",
       " 42,\n",
       " 94,\n",
       " 5,\n",
       " 69,\n",
       " 35,\n",
       " 17,\n",
       " 30,\n",
       " 97,\n",
       " 61,\n",
       " 45,\n",
       " 78,\n",
       " 36,\n",
       " 86,\n",
       " 45,\n",
       " 75,\n",
       " 81,\n",
       " 79,\n",
       " 16,\n",
       " 91,\n",
       " 39,\n",
       " 49,\n",
       " 95,\n",
       " 53,\n",
       " 83,\n",
       " 10,\n",
       " 0,\n",
       " 76,\n",
       " 24,\n",
       " 89,\n",
       " 42,\n",
       " 20,\n",
       " 30,\n",
       " 28,\n",
       " 81,\n",
       " 57,\n",
       " 48,\n",
       " 90,\n",
       " 86,\n",
       " 72,\n",
       " 53,\n",
       " 4,\n",
       " 51,\n",
       " 89,\n",
       " 72,\n",
       " 53,\n",
       " 98,\n",
       " 84,\n",
       " 90,\n",
       " 5,\n",
       " 21,\n",
       " 57,\n",
       " 8,\n",
       " 33,\n",
       " 89,\n",
       " 20,\n",
       " 57,\n",
       " 67,\n",
       " 62,\n",
       " 71,\n",
       " 77,\n",
       " 96,\n",
       " 0,\n",
       " 4,\n",
       " 63,\n",
       " 41,\n",
       " 39,\n",
       " 59,\n",
       " 6,\n",
       " 53,\n",
       " 24,\n",
       " 70,\n",
       " 81,\n",
       " 10,\n",
       " 92,\n",
       " 16,\n",
       " 1,\n",
       " 51,\n",
       " 86,\n",
       " 53,\n",
       " 40,\n",
       " 0,\n",
       " 27,\n",
       " 1,\n",
       " 91,\n",
       " 96,\n",
       " 0,\n",
       " 86,\n",
       " 67,\n",
       " 78,\n",
       " 12,\n",
       " 24,\n",
       " 15,\n",
       " 77,\n",
       " 83,\n",
       " 25,\n",
       " 38,\n",
       " 35,\n",
       " 88,\n",
       " 23,\n",
       " 12,\n",
       " 60,\n",
       " 50,\n",
       " 80,\n",
       " 10,\n",
       " 2,\n",
       " 35,\n",
       " 57,\n",
       " 14,\n",
       " 32,\n",
       " 17,\n",
       " 83,\n",
       " 66,\n",
       " 83,\n",
       " 82,\n",
       " 44,\n",
       " 14,\n",
       " 19,\n",
       " 35,\n",
       " 2,\n",
       " 5,\n",
       " 5,\n",
       " 26,\n",
       " 87,\n",
       " 33,\n",
       " 71,\n",
       " 40,\n",
       " 46,\n",
       " 72,\n",
       " 5,\n",
       " 95,\n",
       " 89,\n",
       " 77,\n",
       " 83,\n",
       " 63,\n",
       " 91,\n",
       " 82,\n",
       " 58,\n",
       " 81,\n",
       " 55,\n",
       " 47,\n",
       " 68,\n",
       " 22,\n",
       " 26,\n",
       " 48,\n",
       " 75,\n",
       " 37,\n",
       " 1,\n",
       " 17,\n",
       " 19,\n",
       " 34,\n",
       " 42,\n",
       " 43,\n",
       " 47,\n",
       " 91,\n",
       " 11,\n",
       " 43,\n",
       " 99,\n",
       " 79,\n",
       " 4,\n",
       " 5,\n",
       " 34,\n",
       " 20,\n",
       " 19,\n",
       " 74,\n",
       " 37,\n",
       " 46,\n",
       " 50,\n",
       " 70,\n",
       " 16,\n",
       " 37,\n",
       " 14,\n",
       " 61,\n",
       " 93,\n",
       " 30,\n",
       " 6,\n",
       " 39,\n",
       " 22,\n",
       " 66,\n",
       " 93,\n",
       " 9,\n",
       " 38,\n",
       " 51,\n",
       " 42,\n",
       " 38,\n",
       " 53,\n",
       " 13,\n",
       " 12,\n",
       " 71,\n",
       " 61,\n",
       " 60,\n",
       " 43,\n",
       " 43,\n",
       " 15,\n",
       " 61,\n",
       " 14,\n",
       " 89,\n",
       " 63,\n",
       " 54,\n",
       " 4,\n",
       " 38,\n",
       " 42,\n",
       " 94,\n",
       " 87,\n",
       " 19,\n",
       " 21,\n",
       " 80,\n",
       " 72,\n",
       " 48,\n",
       " 81,\n",
       " 11,\n",
       " 8,\n",
       " 10,\n",
       " 25,\n",
       " 95,\n",
       " 28,\n",
       " 7,\n",
       " 49,\n",
       " 1,\n",
       " 12,\n",
       " 50,\n",
       " 71,\n",
       " 66,\n",
       " 37,\n",
       " 57,\n",
       " 62,\n",
       " 100,\n",
       " 74,\n",
       " 91,\n",
       " 86,\n",
       " 27,\n",
       " 54,\n",
       " 10,\n",
       " 47,\n",
       " 28,\n",
       " 33,\n",
       " 74,\n",
       " 99,\n",
       " 21,\n",
       " 55,\n",
       " 24,\n",
       " 45,\n",
       " 14,\n",
       " 8,\n",
       " 89,\n",
       " 3,\n",
       " 67,\n",
       " 57,\n",
       " 96,\n",
       " 86,\n",
       " 25,\n",
       " 15,\n",
       " 63,\n",
       " 50,\n",
       " 32,\n",
       " 26,\n",
       " 82,\n",
       " 5,\n",
       " 27,\n",
       " 79,\n",
       " 18,\n",
       " 13,\n",
       " 25,\n",
       " 58,\n",
       " 48,\n",
       " 46,\n",
       " 69,\n",
       " 19,\n",
       " 13,\n",
       " 76,\n",
       " 62,\n",
       " 18,\n",
       " 72,\n",
       " 51,\n",
       " 81,\n",
       " 87,\n",
       " 54,\n",
       " 66,\n",
       " 63,\n",
       " 86,\n",
       " 41,\n",
       " 63,\n",
       " 63,\n",
       " 81,\n",
       " 85,\n",
       " 25,\n",
       " 69,\n",
       " 78,\n",
       " 28,\n",
       " 1,\n",
       " 43,\n",
       " 90,\n",
       " 95,\n",
       " 40,\n",
       " 41,\n",
       " 4,\n",
       " 67,\n",
       " 18,\n",
       " 32,\n",
       " 77,\n",
       " 100,\n",
       " 19,\n",
       " 48,\n",
       " 74,\n",
       " 37,\n",
       " 91,\n",
       " 90,\n",
       " 60,\n",
       " 8,\n",
       " 10,\n",
       " 66,\n",
       " 5,\n",
       " 8,\n",
       " 28,\n",
       " 16,\n",
       " 5,\n",
       " 38,\n",
       " 1,\n",
       " 97,\n",
       " 57,\n",
       " 42,\n",
       " 20,\n",
       " 19,\n",
       " 83,\n",
       " 58,\n",
       " 47,\n",
       " 64,\n",
       " 48,\n",
       " 67,\n",
       " 64,\n",
       " 4,\n",
       " 73,\n",
       " 11,\n",
       " 86,\n",
       " 66,\n",
       " 97,\n",
       " 76,\n",
       " 9,\n",
       " 95,\n",
       " 54,\n",
       " 96,\n",
       " 26,\n",
       " 37,\n",
       " 68,\n",
       " 76,\n",
       " 53,\n",
       " 61,\n",
       " 49,\n",
       " 77,\n",
       " 75,\n",
       " 29,\n",
       " 2,\n",
       " 84,\n",
       " 0,\n",
       " 94,\n",
       " 23,\n",
       " 38,\n",
       " 64,\n",
       " 72,\n",
       " 32,\n",
       " 42,\n",
       " 8,\n",
       " 63,\n",
       " 33,\n",
       " 38,\n",
       " 98,\n",
       " 52,\n",
       " 49,\n",
       " 49,\n",
       " 7,\n",
       " 20,\n",
       " 82,\n",
       " 16,\n",
       " 30,\n",
       " 36,\n",
       " 93,\n",
       " 42,\n",
       " 7,\n",
       " 4,\n",
       " 61,\n",
       " 53,\n",
       " 18,\n",
       " 62,\n",
       " 77,\n",
       " 91,\n",
       " 10,\n",
       " 86,\n",
       " 89,\n",
       " 19,\n",
       " 45,\n",
       " 52,\n",
       " 4,\n",
       " 78,\n",
       " 59,\n",
       " 49,\n",
       " 58,\n",
       " 6,\n",
       " 12,\n",
       " 60,\n",
       " 99,\n",
       " 19,\n",
       " 2,\n",
       " 4,\n",
       " 76,\n",
       " 79,\n",
       " 16,\n",
       " 80,\n",
       " 41,\n",
       " 13,\n",
       " 89,\n",
       " 70,\n",
       " 83,\n",
       " 44,\n",
       " 24,\n",
       " 49,\n",
       " 100,\n",
       " 99,\n",
       " 99,\n",
       " 62,\n",
       " 14,\n",
       " 7,\n",
       " 78,\n",
       " 89,\n",
       " 59,\n",
       " 78,\n",
       " 80,\n",
       " 43,\n",
       " 83,\n",
       " 15,\n",
       " 87,\n",
       " 91,\n",
       " 79,\n",
       " 37,\n",
       " 100,\n",
       " 16,\n",
       " 49,\n",
       " 37,\n",
       " 95,\n",
       " 87,\n",
       " 15,\n",
       " 66,\n",
       " 100,\n",
       " 24,\n",
       " 4,\n",
       " 100,\n",
       " 50,\n",
       " 56,\n",
       " 47,\n",
       " 96,\n",
       " 24,\n",
       " 58,\n",
       " 45,\n",
       " 80,\n",
       " 9,\n",
       " 5,\n",
       " 5,\n",
       " 62,\n",
       " 32,\n",
       " 3,\n",
       " 66,\n",
       " 85,\n",
       " 72,\n",
       " 73,\n",
       " 27,\n",
       " 29,\n",
       " 11,\n",
       " 99,\n",
       " 80,\n",
       " 99,\n",
       " 64,\n",
       " 89,\n",
       " 67,\n",
       " 53,\n",
       " 64,\n",
       " 39,\n",
       " 14,\n",
       " 18,\n",
       " 54,\n",
       " 72,\n",
       " 54,\n",
       " 10,\n",
       " 13,\n",
       " 53,\n",
       " 8,\n",
       " 12,\n",
       " 53,\n",
       " 99,\n",
       " 19,\n",
       " 93,\n",
       " 3,\n",
       " 57,\n",
       " 55,\n",
       " 87,\n",
       " 53,\n",
       " 3,\n",
       " 63,\n",
       " 41,\n",
       " 92,\n",
       " 32,\n",
       " 10,\n",
       " 45,\n",
       " 9,\n",
       " 15,\n",
       " 45,\n",
       " 88,\n",
       " 3,\n",
       " 44,\n",
       " 44,\n",
       " 22,\n",
       " 1,\n",
       " 29,\n",
       " 46,\n",
       " 9,\n",
       " 76,\n",
       " 18,\n",
       " 26,\n",
       " 0,\n",
       " 26,\n",
       " 84,\n",
       " 86,\n",
       " 93,\n",
       " 15,\n",
       " 95,\n",
       " 0,\n",
       " 37,\n",
       " 47,\n",
       " 88,\n",
       " 3,\n",
       " 77,\n",
       " 29,\n",
       " 18,\n",
       " 23,\n",
       " 58,\n",
       " 14,\n",
       " 61,\n",
       " 44,\n",
       " 90,\n",
       " 33,\n",
       " 16,\n",
       " 3,\n",
       " 26,\n",
       " 46,\n",
       " 42,\n",
       " 60,\n",
       " 37,\n",
       " 37,\n",
       " 70,\n",
       " 81,\n",
       " 41,\n",
       " 23,\n",
       " 75,\n",
       " 10,\n",
       " 13,\n",
       " 68,\n",
       " 74,\n",
       " 39,\n",
       " 20,\n",
       " 48,\n",
       " 18,\n",
       " 16,\n",
       " 28,\n",
       " 40,\n",
       " 65,\n",
       " 31,\n",
       " 30,\n",
       " 96,\n",
       " 23,\n",
       " 37,\n",
       " 47,\n",
       " 53,\n",
       " 84,\n",
       " 5,\n",
       " 16,\n",
       " 76,\n",
       " 2,\n",
       " 50,\n",
       " 9,\n",
       " 89,\n",
       " 9,\n",
       " 16,\n",
       " 53,\n",
       " 38,\n",
       " 70,\n",
       " 53,\n",
       " 94,\n",
       " 18,\n",
       " 75,\n",
       " 54,\n",
       " 38,\n",
       " 81,\n",
       " 45,\n",
       " 10,\n",
       " 31,\n",
       " 56,\n",
       " 80,\n",
       " 47,\n",
       " 81,\n",
       " 67,\n",
       " 7,\n",
       " 48,\n",
       " 52,\n",
       " 1,\n",
       " 53,\n",
       " 93,\n",
       " 41,\n",
       " 56,\n",
       " 26,\n",
       " 47,\n",
       " 37,\n",
       " 60,\n",
       " 11,\n",
       " 23,\n",
       " 13,\n",
       " 35,\n",
       " 14,\n",
       " 71,\n",
       " 77,\n",
       " 88,\n",
       " 19,\n",
       " 89,\n",
       " 57,\n",
       " 51,\n",
       " 23,\n",
       " 98,\n",
       " 53,\n",
       " 55,\n",
       " 22,\n",
       " 31,\n",
       " 58,\n",
       " 43,\n",
       " 66,\n",
       " 18,\n",
       " 45,\n",
       " 59,\n",
       " 80,\n",
       " 81,\n",
       " 11,\n",
       " 61,\n",
       " 96,\n",
       " 26,\n",
       " 37,\n",
       " 0,\n",
       " 89,\n",
       " 57,\n",
       " 79,\n",
       " 59,\n",
       " 0,\n",
       " 27,\n",
       " 38,\n",
       " 14,\n",
       " 98,\n",
       " 80,\n",
       " 38,\n",
       " 69,\n",
       " 77,\n",
       " 19,\n",
       " 54,\n",
       " 90,\n",
       " 96,\n",
       " 60,\n",
       " 11,\n",
       " 86,\n",
       " 63,\n",
       " 97,\n",
       " 29,\n",
       " 69,\n",
       " 97,\n",
       " 51,\n",
       " 35,\n",
       " 80,\n",
       " 2,\n",
       " 15,\n",
       " 34,\n",
       " 85,\n",
       " 5,\n",
       " 0,\n",
       " 32,\n",
       " 50,\n",
       " 67,\n",
       " 74,\n",
       " 90,\n",
       " 50,\n",
       " 56,\n",
       " 13,\n",
       " 95,\n",
       " 32,\n",
       " 45,\n",
       " 36,\n",
       " 96,\n",
       " 86,\n",
       " 25,\n",
       " 76,\n",
       " 10,\n",
       " 4,\n",
       " 9,\n",
       " 33,\n",
       " 39,\n",
       " 68,\n",
       " 43,\n",
       " 15,\n",
       " 67,\n",
       " 31,\n",
       " 97,\n",
       " 20,\n",
       " 8,\n",
       " 53,\n",
       " 37,\n",
       " 36,\n",
       " 66,\n",
       " 17,\n",
       " 73,\n",
       " 66,\n",
       " 80,\n",
       " 26,\n",
       " 68,\n",
       " 13,\n",
       " 52,\n",
       " 81,\n",
       " 69,\n",
       " 51,\n",
       " 94,\n",
       " 99,\n",
       " 100,\n",
       " 35,\n",
       " 37,\n",
       " 56,\n",
       " 47,\n",
       " 72,\n",
       " 80,\n",
       " 17,\n",
       " 20,\n",
       " 15,\n",
       " 89,\n",
       " 15,\n",
       " 48,\n",
       " 51,\n",
       " 75,\n",
       " 59,\n",
       " 17,\n",
       " 71,\n",
       " 85,\n",
       " 38,\n",
       " 45,\n",
       " 80,\n",
       " ...]"
      ]
     },
     "execution_count": 200,
     "metadata": {},
     "output_type": "execute_result"
    }
   ],
   "source": [
    "l"
   ]
  },
  {
   "cell_type": "code",
   "execution_count": 201,
   "metadata": {},
   "outputs": [
    {
     "data": {
      "text/plain": [
       "1.6393911939958343"
      ]
     },
     "execution_count": 201,
     "metadata": {},
     "output_type": "execute_result"
    }
   ],
   "source": [
    "timeit(stmt='sorted(l)', globals=globals(), number=1)"
   ]
  },
  {
   "cell_type": "code",
   "execution_count": 202,
   "metadata": {},
   "outputs": [
    {
     "data": {
      "text/plain": [
       "1.3675164190062787"
      ]
     },
     "execution_count": 202,
     "metadata": {},
     "output_type": "execute_result"
    }
   ],
   "source": [
    "timeit(stmt='l.sort()', globals=globals(), number=1)"
   ]
  },
  {
   "cell_type": "markdown",
   "metadata": {},
   "source": [
    "As you can see, the time difference between the two methods, even for `n=10_000_000` is quite small."
   ]
  },
  {
   "cell_type": "markdown",
   "metadata": {},
   "source": [
    "I also just want to point out that sorting a list that is already sorted results in much better performance!"
   ]
  },
  {
   "cell_type": "code",
   "execution_count": 203,
   "metadata": {},
   "outputs": [
    {
     "data": {
      "text/plain": [
       "1.6218351979914587"
      ]
     },
     "execution_count": 203,
     "metadata": {},
     "output_type": "execute_result"
    }
   ],
   "source": [
    "random.seed(0)\n",
    "n = 10_000_000\n",
    "l = [random.randint(0, 100) for n in range(n)]\n",
    "timeit(stmt='l.sort()', globals=globals(), number=1)"
   ]
  },
  {
   "cell_type": "markdown",
   "metadata": {},
   "source": [
    "So now `l` is sorted, and if re-run the sort on it (either method), here's what we get:"
   ]
  },
  {
   "cell_type": "code",
   "execution_count": 204,
   "metadata": {},
   "outputs": [
    {
     "data": {
      "text/plain": [
       "0.1766778369928943"
      ]
     },
     "execution_count": 204,
     "metadata": {},
     "output_type": "execute_result"
    }
   ],
   "source": [
    "timeit(stmt='sorted(l)', globals=globals(), number=1)"
   ]
  },
  {
   "cell_type": "code",
   "execution_count": 205,
   "metadata": {},
   "outputs": [
    {
     "data": {
      "text/plain": [
       "0.0890810480050277"
      ]
     },
     "execution_count": 205,
     "metadata": {},
     "output_type": "execute_result"
    }
   ],
   "source": [
    "timeit(stmt='l.sort()', globals=globals(), number=1)"
   ]
  },
  {
   "cell_type": "markdown",
   "metadata": {},
   "source": [
    "Substantially faster!!\n",
    "\n",
    "Hence why I only timed using a single iteration..."
   ]
  },
  {
   "cell_type": "markdown",
   "metadata": {},
   "source": [
    "#### Natural Ordering for Custom Classes"
   ]
  },
  {
   "cell_type": "markdown",
   "metadata": {},
   "source": [
    "I just want to quickly show you that in order to have a \"natural ordering\" for our custom classes, we just need to implement the `<` or `>` operators. (I discuss these operators in Part 1 of this course)"
   ]
  },
  {
   "cell_type": "code",
   "execution_count": null,
   "metadata": {},
   "outputs": [],
   "source": [
    "class MyClass:\n",
    "    def __init__(self, name, val):\n",
    "        self.name = name\n",
    "        self.val = val\n",
    "        \n",
    "    def __repr__(self):\n",
    "        return f'MyClass({self.name}, {self.val})'\n",
    "    \n",
    "    def __lt__(self, other):\n",
    "        return self.val < other.val"
   ]
  },
  {
   "cell_type": "code",
   "execution_count": null,
   "metadata": {},
   "outputs": [],
   "source": [
    "c1 = MyClass('c1', 20)\n",
    "c2 = MyClass('c2', 10)\n",
    "c3 = MyClass('c3', 20)\n",
    "c4 = MyClass('c4', 10)"
   ]
  },
  {
   "cell_type": "markdown",
   "metadata": {},
   "source": [
    "Now we can sort those objects, without specifying a key, since that class has a natural ordering (`<` in this case). Moreover, notice that the sort is stable."
   ]
  },
  {
   "cell_type": "code",
   "execution_count": null,
   "metadata": {},
   "outputs": [],
   "source": [
    "sorted([c1, c2, c3, c4])"
   ]
  },
  {
   "cell_type": "markdown",
   "metadata": {},
   "source": [
    "In fact, we can modify our class slightly so we can see that `sorted` is calling our `__lt__` method repeatedly to perform the sort:"
   ]
  },
  {
   "cell_type": "code",
   "execution_count": null,
   "metadata": {},
   "outputs": [],
   "source": [
    "class MyClass:\n",
    "    def __init__(self, name, val):\n",
    "        self.name = name\n",
    "        self.val = val\n",
    "        \n",
    "    def __repr__(self):\n",
    "        return f'MyClass({self.name}, {self.val})'\n",
    "    \n",
    "    def __lt__(self, other):\n",
    "        print(f'called {self.name} < {other.name}')\n",
    "        return self.val < other.val"
   ]
  },
  {
   "cell_type": "code",
   "execution_count": null,
   "metadata": {},
   "outputs": [],
   "source": [
    "c1 = MyClass('c1', 20)\n",
    "c2 = MyClass('c2', 10)\n",
    "c3 = MyClass('c3', 20)\n",
    "c4 = MyClass('c4', 10)"
   ]
  },
  {
   "cell_type": "code",
   "execution_count": null,
   "metadata": {},
   "outputs": [],
   "source": [
    "sorted([c1, c2, c3, c4])"
   ]
  }
 ],
 "metadata": {
  "kernelspec": {
   "display_name": "Python 3",
   "language": "python",
   "name": "python3"
  },
  "language_info": {
   "codemirror_mode": {
    "name": "ipython",
    "version": 3
   },
   "file_extension": ".py",
   "mimetype": "text/x-python",
   "name": "python",
   "nbconvert_exporter": "python",
   "pygments_lexer": "ipython3",
   "version": "3.8.5"
  }
 },
 "nbformat": 4,
 "nbformat_minor": 2
}
