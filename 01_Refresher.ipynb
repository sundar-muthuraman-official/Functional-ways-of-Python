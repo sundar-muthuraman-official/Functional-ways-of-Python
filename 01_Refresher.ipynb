{
 "cells": [
  {
   "cell_type": "markdown",
   "metadata": {},
   "source": [
    "# Conditionals\n",
    "\n",
    "A conditional is a construct that allows you to branch your code based on conditions being met (or not)\n",
    "\n",
    "1. if. \n",
    "2. elif and else.\n",
    "3. ternary operator.\n"
   ]
  },
  {
   "cell_type": "code",
   "execution_count": null,
   "metadata": {},
   "outputs": [],
   "source": [
    "temperature:int = 5\n",
    "\n",
    "if temperature > 25:\n",
    "    print(\"Getting Hot..\")"
   ]
  },
  {
   "cell_type": "markdown",
   "metadata": {},
   "source": [
    "### Nested IF:"
   ]
  },
  {
   "cell_type": "code",
   "execution_count": null,
   "metadata": {},
   "outputs": [],
   "source": [
    "if temperature < 10 :\n",
    "    print(\"Getting Cold..\")\n",
    "else:\n",
    "    if temperature > 10 and temperature < 25 :\n",
    "        print(\"Bright Sunny Day!\")\n",
    "    else:\n",
    "        print(\"Can't handle this \")"
   ]
  },
  {
   "cell_type": "markdown",
   "metadata": {},
   "source": [
    "> elif is the closest you'll find to the switch/case statement available"
   ]
  },
  {
   "cell_type": "code",
   "execution_count": null,
   "metadata": {},
   "outputs": [],
   "source": [
    "if temperature > 30 :\n",
    "    print(\"Too Hot @)\")\n",
    "elif 10 < temperature <= 25 :\n",
    "    print(\"Bright Sunny Day!\")\n",
    "elif 3 < temperature <= 10 :\n",
    "    print(\"Cool..\")\n",
    "else:\n",
    "    print(\"Can't handle this \")"
   ]
  },
  {
   "cell_type": "markdown",
   "metadata": {},
   "source": [
    "### Conditional Expression"
   ]
  },
  {
   "cell_type": "code",
   "execution_count": null,
   "metadata": {},
   "outputs": [],
   "source": [
    "#Lets take 2 points in a line\n",
    "\n",
    "x,y = 12,14\n",
    "\n",
    "flag = \"Point x is greater\" if x > y else \"Point Y is greater\"\n",
    "\n",
    "print(flag)"
   ]
  },
  {
   "cell_type": "markdown",
   "metadata": {},
   "source": [
    "> X if (condition) else Y\n",
    "\n",
    "> returns (and evaluates) X if (condition) is True, \n",
    "\n",
    "> otherwise returns (and evaluates) Y"
   ]
  },
  {
   "cell_type": "markdown",
   "metadata": {},
   "source": [
    "# Functions"
   ]
  },
  {
   "cell_type": "code",
   "execution_count": null,
   "metadata": {},
   "outputs": [],
   "source": [
    "stocks_high:list = [42.12,47.35,35.12]"
   ]
  },
  {
   "cell_type": "code",
   "execution_count": null,
   "metadata": {},
   "outputs": [],
   "source": [
    "len(stocks_high)"
   ]
  },
  {
   "cell_type": "code",
   "execution_count": null,
   "metadata": {},
   "outputs": [],
   "source": [
    "help(len)"
   ]
  },
  {
   "cell_type": "markdown",
   "metadata": {},
   "source": [
    "> These are built-in's which comes as deafult with python"
   ]
  },
  {
   "cell_type": "code",
   "execution_count": null,
   "metadata": {},
   "outputs": [],
   "source": [
    "#Whole module is imported in the system cache:\n",
    "import math\n",
    "\n",
    "math.factorial(5)"
   ]
  },
  {
   "cell_type": "markdown",
   "metadata": {},
   "source": [
    "### UDFs"
   ]
  },
  {
   "cell_type": "code",
   "execution_count": null,
   "metadata": {},
   "outputs": [],
   "source": [
    "# The def keyword is an executable piece of code that creates the function \n",
    "#(an instance of the function class) and essentially assigns \n",
    "#it to a variable name (the function name).\n",
    "\n",
    "def user_call():\n",
    "    print('calling user')\n",
    "\n",
    "user_call()"
   ]
  },
  {
   "cell_type": "markdown",
   "metadata": {},
   "source": [
    "Note : Functions must always return something. If you do not specify a return value, Python will automatically return the None object"
   ]
  },
  {
   "cell_type": "code",
   "execution_count": null,
   "metadata": {},
   "outputs": [],
   "source": [
    "def caller():\n",
    "    caller_id =210\n"
   ]
  },
  {
   "cell_type": "code",
   "execution_count": null,
   "metadata": {},
   "outputs": [],
   "source": [
    "cid = caller()\n",
    "print(cid)"
   ]
  },
  {
   "cell_type": "markdown",
   "metadata": {},
   "source": [
    "> Note: The function is defined when def is reached, but the code inside it is not evaluated until the function is called.\n",
    "\n",
    "This is why we can define functions that call other functions defined later - as long as we don't call them before all the necessary functions are defined.\n"
   ]
  },
  {
   "cell_type": "code",
   "execution_count": null,
   "metadata": {},
   "outputs": [],
   "source": [
    "# Use Case 1 :\n",
    "def user_data():\n",
    "    database_call()\n",
    "\n",
    "def database_call():\n",
    "    print(\"Establishing Connection now..\")\n",
    "\n",
    "user_data()"
   ]
  },
  {
   "cell_type": "code",
   "execution_count": null,
   "metadata": {},
   "outputs": [],
   "source": [
    "# Use Case 2 :\n",
    "def user_info():\n",
    "    redirect()\n",
    "\n",
    "user_info()\n",
    "\n",
    "def redirect():\n",
    "    print(\"redirecting now..\")\n"
   ]
  },
  {
   "cell_type": "code",
   "execution_count": null,
   "metadata": {},
   "outputs": [],
   "source": [
    "#Type Hinting example\n",
    "\n",
    "def power(number:int,raise_:int):\n",
    "    return number ** raise_\n",
    "\n",
    "power(2,3)"
   ]
  },
  {
   "cell_type": "code",
   "execution_count": null,
   "metadata": {},
   "outputs": [],
   "source": [
    "help(power)"
   ]
  },
  {
   "cell_type": "markdown",
   "metadata": {},
   "source": [
    "# While Loop"
   ]
  },
  {
   "cell_type": "markdown",
   "metadata": {},
   "source": [
    "<b>While</b> loop is a way to repeatg a block of code as long as a specified condition is met."
   ]
  },
  {
   "cell_type": "code",
   "execution_count": null,
   "metadata": {},
   "outputs": [],
   "source": [
    "intial:int = 0\n",
    "\n",
    "while intial < 5:\n",
    "    print(intial)\n",
    "    intial += 1\n"
   ]
  },
  {
   "cell_type": "markdown",
   "metadata": {},
   "source": [
    "<ol>\n",
    "<li>A simple example might be getting repetitive user input until the user performs and action or provides some specific value.\n",
    "\n",
    "<li>For example, suppose we want to use the console to let users enter their name. We just want to make sure their name is at least 2 characters long, contains and only contains alphabetic characters\n",
    "</ol>"
   ]
  },
  {
   "cell_type": "code",
   "execution_count": null,
   "metadata": {},
   "outputs": [],
   "source": [
    "#Constants\n",
    "\n",
    "MIN_LENGTH = 5\n",
    "\n",
    "while True:\n",
    "    user_name = input('Please enter your name:')\n",
    "    if len(user_name) >= MIN_LENGTH  and user_name.isalpha():\n",
    "        break\n",
    "\n",
    "print(f\"Hello {user_name}\")"
   ]
  },
  {
   "cell_type": "markdown",
   "metadata": {},
   "source": [
    "<ol>\n",
    "    <li>We saw how the break statement exits the while loop and execution resumes on the line immediately after the while code block.\n",
    "    <li>Sometimes, we just want to cut the current iteration short, but continue looping, without exiting the loop itself using <b>continue</b> statement\n",
    "</ol>"
   ]
  },
  {
   "cell_type": "code",
   "execution_count": null,
   "metadata": {},
   "outputs": [],
   "source": [
    "#Numbers Divisble by 2 with no reminders\n",
    "\n",
    "start = 0\n",
    "\n",
    "while start < 10 :\n",
    "    start += 1\n",
    "    if start %2:\n",
    "        continue\n",
    "    print(start)"
   ]
  },
  {
   "cell_type": "markdown",
   "metadata": {},
   "source": [
    "### else is while "
   ]
  },
  {
   "cell_type": "code",
   "execution_count": null,
   "metadata": {},
   "outputs": [],
   "source": [
    "#use case find a value in a list if available skip else append\n",
    "version:list = [1, 2, 3]\n",
    "new_version:int = 4\n",
    "\n",
    "index = 0\n",
    "\n",
    "while index < len(version):\n",
    "    if version[index] == new_version:\n",
    "        break\n",
    "    index += 1\n",
    "else:\n",
    "    version.append(new_version)\n",
    "\n",
    "print(version)"
   ]
  },
  {
   "cell_type": "markdown",
   "metadata": {},
   "source": [
    "# Handlers\n",
    "<ul>\n",
    "<li>Try...\n",
    "    <ul>\n",
    "       <li>Except...\n",
    "        <ul>\n",
    "           <li>Finally\n",
    "        </ul>\n",
    "    </ul>\n",
    "</ul>"
   ]
  },
  {
   "cell_type": "code",
   "execution_count": null,
   "metadata": {},
   "outputs": [],
   "source": [
    "point_x:int = 12\n",
    "point_y:int = 13\n",
    "    \n",
    "try:\n",
    "    point_x/point_y\n",
    "except ZeroDivisionError:\n",
    "    print(\"denominator cannot be zero.\")\n",
    "finally:\n",
    "    print(\"I AM INEVITABLE\")"
   ]
  },
  {
   "cell_type": "code",
   "execution_count": null,
   "metadata": {},
   "outputs": [],
   "source": [
    "point_x:int = 12\n",
    "point_y:int = 0\n",
    "    \n",
    "try:\n",
    "    point_x/point_y\n",
    "except ZeroDivisionError:\n",
    "    print(\"denominator cannot be zero.\")\n",
    "finally:\n",
    "    print(\"I AM INEVITABLE\")"
   ]
  },
  {
   "cell_type": "markdown",
   "metadata": {},
   "source": [
    "<i> try statement within a while loop</i>\n"
   ]
  },
  {
   "cell_type": "code",
   "execution_count": null,
   "metadata": {},
   "outputs": [],
   "source": [
    "point_x:int = 0\n",
    "point_y:int = 3\n",
    "\n",
    "while point_x < 4:\n",
    "    print('----------------')\n",
    "    point_x += 1\n",
    "    point_y -= 1\n",
    "    try:\n",
    "        outcome:float = point_x/point_y\n",
    "    except ZeroDivisionError:\n",
    "        print(\"denominator cannot be zero.\")\n",
    "        print(f\"point_x:{point_x},point_y:{point_y}\")\n",
    "        outcome:int = 0\n",
    "        continue\n",
    "    finally:\n",
    "        print(\"I AM INEVITABLE\")\n",
    "        \n",
    "    print(f\"while loop running for {point_x},{point_y}\")\n",
    "    print(f\"outcome:{outcome}\")"
   ]
  },
  {
   "cell_type": "code",
   "execution_count": null,
   "metadata": {},
   "outputs": [],
   "source": [
    "point_x:int = 0\n",
    "point_y:int = 3\n",
    "\n",
    "while point_x < 4:\n",
    "    print('----------------')\n",
    "    point_x += 1\n",
    "    point_y -= 1\n",
    "    try:\n",
    "        outcome:float = point_x/point_y\n",
    "    except ZeroDivisionError:\n",
    "        print(\"denominator cannot be zero.\")\n",
    "        print(f\"point_x:{point_x},point_y:{point_y}\")\n",
    "        outcome:int = 0\n",
    "        break\n",
    "    finally:\n",
    "        print(\"I AM INEVITABLE\")\n",
    "        \n",
    "    print(f\"while loop running for {point_x},{point_y}\")\n",
    "    print(f\"outcome:{outcome}\")"
   ]
  },
  {
   "cell_type": "markdown",
   "metadata": {},
   "source": [
    "# For Loop "
   ]
  },
  {
   "cell_type": "markdown",
   "metadata": {},
   "source": [
    "In Python, an iterable is an object capable of returning values one at a time.\n",
    "\n",
    "Many objects in Python are iterable: lists, strings, file objects and many more.\n",
    "\n",
    "Note: Our definition of an iterable did not state it is a collection.\n",
    "      we only said it is an object that can return values one at a time"
   ]
  },
  {
   "cell_type": "code",
   "execution_count": null,
   "metadata": {},
   "outputs": [],
   "source": [
    "value = [1,2,3,4,5]\n",
    "\n",
    "for item in value:\n",
    "    print(item)"
   ]
  },
  {
   "cell_type": "markdown",
   "metadata": {},
   "source": [
    "<li>Lets use a simple Iterator <b>range()</b>"
   ]
  },
  {
   "cell_type": "code",
   "execution_count": null,
   "metadata": {},
   "outputs": [],
   "source": [
    "for item in range(10):\n",
    "    print(item)"
   ]
  },
  {
   "cell_type": "markdown",
   "metadata": {},
   "source": [
    "<li>We can even assign the individual tuple values to specific named variables:"
   ]
  },
  {
   "cell_type": "code",
   "execution_count": null,
   "metadata": {},
   "outputs": [],
   "source": [
    "for point_x,point_y in [(2,3),(3,5),(6,9)]:\n",
    "    print(point_x,point_y)"
   ]
  },
  {
   "cell_type": "markdown",
   "metadata": {},
   "source": [
    "# Custom Classes"
   ]
  },
  {
   "cell_type": "markdown",
   "metadata": {},
   "source": [
    "To create a custom class we use the class keyword, and we can initialize class attributes in the special method __init__"
   ]
  },
  {
   "cell_type": "code",
   "execution_count": null,
   "metadata": {},
   "outputs": [],
   "source": [
    "class Rectangle:\n",
    "    def __init__(self, width, height):\n",
    "        self.width = width\n",
    "        self.height = height"
   ]
  },
  {
   "cell_type": "markdown",
   "metadata": {},
   "source": [
    "We create **instances** of the `Rectangle` class by calling it with arguments that are passed to the `__init__` method as the second and third arguments. The first argument (`self`) is automatically filled in by Python and contains the object being created.\n",
    "\n",
    "Note that using `self` is just a convention."
   ]
  },
  {
   "cell_type": "code",
   "execution_count": null,
   "metadata": {},
   "outputs": [],
   "source": [
    "r1 = Rectangle(10, 20)\n",
    "r2 = Rectangle(8, 12)"
   ]
  },
  {
   "cell_type": "code",
   "execution_count": null,
   "metadata": {},
   "outputs": [],
   "source": [
    "r1.width"
   ]
  },
  {
   "cell_type": "code",
   "execution_count": null,
   "metadata": {},
   "outputs": [],
   "source": [
    "r2.height"
   ]
  },
  {
   "cell_type": "markdown",
   "metadata": {},
   "source": [
    "`width` and `height` are attributes of the `Rectangle` class. But since they are just values (not callables), we call them **properties**.\n",
    "\n",
    "Attributes that are callables are called **methods**."
   ]
  },
  {
   "cell_type": "code",
   "execution_count": null,
   "metadata": {},
   "outputs": [],
   "source": [
    "class Rectangle:\n",
    "    def __init__(self, width, height):\n",
    "        self.width = width\n",
    "        self.height = height\n",
    "        \n",
    "    def area(self):\n",
    "        return self.width * self.height\n",
    "    \n",
    "    def perimeter(self):\n",
    "        return 2 * (self.width + self.height)"
   ]
  },
  {
   "cell_type": "code",
   "execution_count": null,
   "metadata": {},
   "outputs": [],
   "source": [
    "r1 = Rectangle(10, 20)"
   ]
  },
  {
   "cell_type": "code",
   "execution_count": null,
   "metadata": {},
   "outputs": [],
   "source": [
    "r1.area()"
   ]
  },
  {
   "cell_type": "markdown",
   "metadata": {},
   "source": [
    "Python defines a bunch of **special** methods that we can use to give our classes functionality that resembles functionality of built-in and standard library objects.\n",
    "\n",
    "Refered also as *magic* methods .\n",
    "\n",
    "These **special** methods provide us an easy way to overload operators in Python."
   ]
  },
  {
   "cell_type": "markdown",
   "metadata": {},
   "source": [
    "### Representation"
   ]
  },
  {
   "cell_type": "code",
   "execution_count": 3,
   "metadata": {},
   "outputs": [],
   "source": [
    "class Rectangle:\n",
    "    def __init__(self, width, height):\n",
    "        self.width = width\n",
    "        self.height = height\n",
    "        \n",
    "    def area(self):\n",
    "        return self.width * self.height\n",
    "    \n",
    "    def perimeter(self):\n",
    "        return 2 * (self.width + self.height)\n",
    "    \n",
    "    def __str__(self):\n",
    "        return f'Rectangle (width={self.width}, height={self.height})'"
   ]
  },
  {
   "cell_type": "code",
   "execution_count": 4,
   "metadata": {},
   "outputs": [
    {
     "data": {
      "text/plain": [
       "'Rectangle (width=10, height=20)'"
      ]
     },
     "execution_count": 4,
     "metadata": {},
     "output_type": "execute_result"
    }
   ],
   "source": [
    "r1 = Rectangle(10,20)\n",
    "str(r1)"
   ]
  },
  {
   "cell_type": "code",
   "execution_count": 5,
   "metadata": {},
   "outputs": [
    {
     "data": {
      "text/plain": [
       "<__main__.Rectangle at 0x15a54084240>"
      ]
     },
     "execution_count": 5,
     "metadata": {},
     "output_type": "execute_result"
    }
   ],
   "source": [
    "r1"
   ]
  },
  {
   "cell_type": "markdown",
   "metadata": {},
   "source": [
    "<li>Now Lets fix this representation"
   ]
  },
  {
   "cell_type": "code",
   "execution_count": 8,
   "metadata": {},
   "outputs": [],
   "source": [
    "class Rectangle:\n",
    "    def __init__(self, width, height):\n",
    "        self.width = width\n",
    "        self.height = height\n",
    "        \n",
    "    def area(self):\n",
    "        return self.width * self.height\n",
    "    \n",
    "    def perimeter(self):\n",
    "        return 2 * (self.width + self.height)\n",
    "    \n",
    "    def __str__(self):\n",
    "        return f'Rectangle (width={self.width}, height={self.height})'\n",
    "    \n",
    "    def __repr__(self):\n",
    "        return f\"Rectangle({self.width}, {self.height})\""
   ]
  },
  {
   "cell_type": "code",
   "execution_count": 7,
   "metadata": {},
   "outputs": [
    {
     "data": {
      "text/plain": [
       "Rectangle (10, 20)"
      ]
     },
     "execution_count": 7,
     "metadata": {},
     "output_type": "execute_result"
    }
   ],
   "source": [
    "r1 = Rectangle(10,20)\n",
    "r1 # uses __repr__"
   ]
  },
  {
   "cell_type": "code",
   "execution_count": null,
   "metadata": {},
   "outputs": [],
   "source": [
    "print(r1)  # uses __str__"
   ]
  },
  {
   "cell_type": "code",
   "execution_count": null,
   "metadata": {},
   "outputs": [],
   "source": []
  }
 ],
 "metadata": {
  "kernelspec": {
   "display_name": "Python 3",
   "language": "python",
   "name": "python3"
  },
  "language_info": {
   "codemirror_mode": {
    "name": "ipython",
    "version": 3
   },
   "file_extension": ".py",
   "mimetype": "text/x-python",
   "name": "python",
   "nbconvert_exporter": "python",
   "pygments_lexer": "ipython3",
   "version": "3.7.1"
  }
 },
 "nbformat": 4,
 "nbformat_minor": 4
}
