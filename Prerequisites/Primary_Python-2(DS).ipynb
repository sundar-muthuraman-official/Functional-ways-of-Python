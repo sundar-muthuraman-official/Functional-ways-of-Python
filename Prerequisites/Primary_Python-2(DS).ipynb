{
 "cells": [
  {
   "cell_type": "markdown",
   "metadata": {},
   "source": [
    "# Container types \n",
    "\n",
    "    Containers (or collections) are an integral part of the language and, as you’ll see, built in to the core of the language’s syntax\n",
    "    \n",
    "    1. List\n",
    "    2. Tuples\n",
    "    3. Sets\n",
    "    4. Dictionaries"
   ]
  },
  {
   "cell_type": "markdown",
   "metadata": {},
   "source": [
    "# Python Featuring\n",
    "\n",
    "       Python is an Object, every variable holds an object instance. When an object is initiated, it is assigned a unique object id. \n",
    "    \n",
    "        Its type is defined at runtime and once set can never change, however its state can be changed if it is mutable.\n",
    "    \n",
    "        Simple put, a mutable object can be changed after it is created, and an immutable object can’t."
   ]
  },
  {
   "cell_type": "markdown",
   "metadata": {},
   "source": [
    "# Mutable Vs Immutable\n",
    "\n",
    "    1. Objects of built-in types like (int, float, bool, str, tuple, unicode) are immutable. \n",
    "    \n",
    "    2. Objects of built-in types like (list, set, dict) are mutable. Custom classes are generally mutable.\n",
    "    \n",
    "    3. Python handles mutable and immutable objects differently.\n",
    "    \n",
    "    4. Immutable are quicker to access than mutable objects.\n",
    "    \n",
    "    5. Mutable objects are great to use when you need to change the size of the object, example list, dict etc.. \n",
    "    \n",
    "    6. Immutables are used when you need to ensure that the object you made will always stay the same.\n",
    "    \n",
    "    7. Immutable objects are fundamentally expensive to “change”, because doing so involves creating a copy. \n",
    "    \n",
    "    8. Changing mutable objects is cheap."
   ]
  },
  {
   "cell_type": "code",
   "execution_count": null,
   "metadata": {},
   "outputs": [],
   "source": [
    "# List\n",
    "    # list represents an ordered, mutable collection of objects. You can mix and match any type of object in a list, \n",
    "    # add to it and remove from it at will.\n",
    "    # Creating Empty Lists. To create an empty list, you can use empty square brackets [] \n",
    "    # or use the list() function with no arguments\n",
    "    "
   ]
  },
  {
   "cell_type": "code",
   "execution_count": null,
   "metadata": {},
   "outputs": [],
   "source": [
    "#1. Creating a list\n",
    "\n",
    "grocers = []\n",
    "\n",
    "#or \n",
    "\n",
    "grocers = list()\n",
    "\n",
    "\n",
    "print(type(grocers))"
   ]
  },
  {
   "cell_type": "code",
   "execution_count": null,
   "metadata": {},
   "outputs": [],
   "source": [
    "#2. Creating the List with values\n",
    "\n",
    "grocers = ['Eggs','Potato','Tomato',2,3,4]\n",
    "\n",
    "print(grocers)\n"
   ]
  },
  {
   "cell_type": "code",
   "execution_count": null,
   "metadata": {},
   "outputs": [],
   "source": [
    "grocers.pop()"
   ]
  },
  {
   "cell_type": "code",
   "execution_count": null,
   "metadata": {},
   "outputs": [],
   "source": [
    "grocers"
   ]
  },
  {
   "cell_type": "code",
   "execution_count": null,
   "metadata": {
    "scrolled": true
   },
   "outputs": [],
   "source": [
    "#3. Accesing the values of the list\n",
    "\n",
    "# note index in python starts from '0'\n",
    "\n",
    "print(grocers[1]) \n",
    "\n",
    "print(grocers[-1])\n",
    "\n",
    "print(grocers [2:])\n",
    "\n",
    "print(grocers [:4])\n",
    "\n",
    "print(grocers[::2])\n",
    "\n",
    "print(grocers[6])\n",
    "\n"
   ]
  },
  {
   "cell_type": "code",
   "execution_count": null,
   "metadata": {},
   "outputs": [],
   "source": [
    "#4. Appending values to the List\n",
    "\n",
    "print(grocers)\n",
    "\n",
    "grocers.append(5)\n",
    "\n",
    "print(grocers)\n",
    "\n",
    "grocers.append(5)\n",
    "print(grocers)\n",
    "\n",
    "grocers.count(5)"
   ]
  },
  {
   "cell_type": "code",
   "execution_count": null,
   "metadata": {},
   "outputs": [],
   "source": [
    "#5. Modifing Values in the list \n",
    "\n",
    "grocers[2] = 'Pineapple'\n",
    "print(grocers)"
   ]
  },
  {
   "cell_type": "code",
   "execution_count": null,
   "metadata": {},
   "outputs": [],
   "source": [
    "#6.Check how many elements in a List\n",
    "\n",
    "print(grocers,':',len(grocers))"
   ]
  },
  {
   "cell_type": "code",
   "execution_count": null,
   "metadata": {},
   "outputs": [],
   "source": [
    "#7.Deleting elements in list\n",
    "\n",
    "grocers.pop(0)\n",
    "\n",
    "print(grocers)\n"
   ]
  },
  {
   "cell_type": "code",
   "execution_count": null,
   "metadata": {},
   "outputs": [],
   "source": [
    "grocers.remove('Potato')\n",
    "\n",
    "print(grocers)"
   ]
  },
  {
   "cell_type": "code",
   "execution_count": null,
   "metadata": {},
   "outputs": [],
   "source": [
    "grocers.clear()\n",
    "\n",
    "print(grocers)"
   ]
  },
  {
   "cell_type": "code",
   "execution_count": null,
   "metadata": {},
   "outputs": [],
   "source": [
    "del grocers"
   ]
  },
  {
   "cell_type": "code",
   "execution_count": null,
   "metadata": {},
   "outputs": [],
   "source": [
    "a = [1,2,4]\n",
    "b = a.copy()"
   ]
  },
  {
   "cell_type": "code",
   "execution_count": null,
   "metadata": {},
   "outputs": [],
   "source": [
    "print(id(a))\n",
    "print(id(b))"
   ]
  },
  {
   "cell_type": "code",
   "execution_count": null,
   "metadata": {},
   "outputs": [],
   "source": [
    "#Tuples\n",
    "    # A tuple is like an immutable list. It is slightly faster and smaller than a list, so it is useful. \n",
    "    # Tuples are also commonly used in core program features, so recognize them.\n",
    "    # Empty tuples can be created with an empty pair of parentheses, or with the tuple() builtin function.\n",
    "\n",
    "#Note:\n",
    "# A 1-tuple (tuple with one item) requires a trailing comma to indicate that the desired result is a tuple. \n",
    "# Otherwise, the interpreter will see the parentheses as nothing more than a grouping operation.\n",
    "\n",
    "coordinate = (98.62)\n",
    "\n",
    "print(\"what is the type of coordinate:\",type(coordinate))\n",
    "\n",
    "coordinates = 98.62,-112.32\n",
    "\n",
    "print(\"what is the type of coordinates:\",type(coordinates))"
   ]
  },
  {
   "cell_type": "code",
   "execution_count": null,
   "metadata": {},
   "outputs": [],
   "source": [
    "#1.Accesing values in tuple\n",
    "\n",
    "print(\"Value availble at index 1 is :\",coordinates[1])\n",
    "\n",
    "#2.Count and Index function\n",
    "\n",
    "codes = (10,127,10,42)\n",
    "print(\"Number of instances 10 available in codes:\",codes.count(10))\n",
    "\n",
    "print(\"Postion of 127 in codes:\",codes.index(127))"
   ]
  },
  {
   "cell_type": "code",
   "execution_count": null,
   "metadata": {},
   "outputs": [],
   "source": [
    "#Sets\n",
    "\n",
    "    #A set is a mutable, unordered, unique collection of objects. \n",
    "    #It is designed to reflect the properties and behavior of a true mathematical set. \n",
    "    #A frozenset has the same properties as a set, except that it is immutable.\n",
    "\n",
    "    #Note:'set' object does not support indexing\n",
    "\n",
    "#Creating an Empty set\n",
    "\n",
    "version = set()\n",
    "\n",
    "version = {}\n",
    "\n",
    "#1.Creating Sets \n",
    "\n",
    "version_1 = {'Alpha','Beta','Gamma'}\n",
    "\n",
    "version_2 = {'Alpha','Gamma','Delta'}\n",
    "\n",
    "print(version_1)\n",
    "print(version_2)"
   ]
  },
  {
   "cell_type": "code",
   "execution_count": null,
   "metadata": {},
   "outputs": [],
   "source": [
    "#2.Set Operations\n",
    "\n",
    "#instead of .union we can use |\n",
    "\n",
    "print('Version_1 Union of Version_2 :',version_1.union(version_2)) \n",
    "\n",
    "#instead of .intersection we can use &\n",
    "\n",
    "print('Version_1 Intersection of Version_2 :',version_1.intersection(version_2)) \n",
    "\n",
    "#instead of .difference we can use -\n",
    "\n",
    "print('Version_1 Difference of Version_2 :',version_1.difference(version_2)) \n",
    "\n",
    "\n",
    "#instead of .symmentric_differnce we can use ^\n",
    "\n",
    "print('Version_1 Symmetric_Difference of Version_2 :',version_1.symmetric_difference(version_2)) "
   ]
  },
  {
   "cell_type": "code",
   "execution_count": null,
   "metadata": {},
   "outputs": [],
   "source": [
    "#3. Adding,Copying and Deleting a value in set \n",
    "\n",
    "version_history = {2012,2014,2016,2017}\n",
    "\n",
    "print(version_history)\n",
    "\n",
    "version_history.add(2019)\n",
    "\n",
    "print('Adding 2019 to Version_history:',version_history)\n",
    "\n"
   ]
  },
  {
   "cell_type": "code",
   "execution_count": null,
   "metadata": {},
   "outputs": [],
   "source": [
    "\n",
    "#Note: pop used in set will remove arbitrary element\n",
    "\n",
    "version_history.pop()\n",
    "\n",
    "\n",
    "print('Removing an arbitrary element from Version_history:',version_history)\n"
   ]
  },
  {
   "cell_type": "code",
   "execution_count": null,
   "metadata": {},
   "outputs": [],
   "source": [
    "version_history.remove(2019)\n",
    "\n",
    "print('Removing Explict value from Version_history:',version_history)\n",
    "\n",
    "copy_version_history = version_history.copy()\n",
    "\n",
    "print('Shallow copy of Version history:',copy_version_history)"
   ]
  },
  {
   "cell_type": "code",
   "execution_count": null,
   "metadata": {},
   "outputs": [],
   "source": [
    "#Dictionaries\n",
    "    # Dictionary is an implementation of a key-value mapping that might go by the name \"hashtable\" or \n",
    "    # \"associative array\" in another language. \n",
    "    # Dictionaries are the building blocks of the Python language itself,  \n",
    "    # so they are quite prevalent and also quite efficient.\n",
    "    \n",
    "    # dictionaries are created using braces, i.e. {}. There is also a dict() builtin function that accepts \n",
    "    # an arbitrary set of keyword arguments\n",
    "    \n",
    "    # The key must be immutable type such as strings or numbers.\n",
    "    \n",
    "#1.Creatiing a Dictionary \n",
    "marvel = {'Hero': 'Iron Man', 'Villain': 'Thanos', 'Friend': 'Captain America'}\n",
    "\n",
    "#2. Dictionary Operations\n",
    "\n",
    "print(\"Get the value of Villain:\",marvel.get('Villain'))\n"
   ]
  },
  {
   "cell_type": "code",
   "execution_count": null,
   "metadata": {},
   "outputs": [],
   "source": [
    "print(\"Get all the Keys available in marvel:\",marvel.keys())"
   ]
  },
  {
   "cell_type": "code",
   "execution_count": null,
   "metadata": {},
   "outputs": [],
   "source": [
    "print(\"Get all the values available in marvel:\",marvel.values())"
   ]
  },
  {
   "cell_type": "code",
   "execution_count": null,
   "metadata": {},
   "outputs": [],
   "source": [
    "print(\"Remove Key and value for Hero in marvel:\",marvel.pop('Hero'))"
   ]
  },
  {
   "cell_type": "code",
   "execution_count": null,
   "metadata": {},
   "outputs": [],
   "source": [
    "print(marvel)\n",
    "print(\"Remove the last Key and value from marvel:\",marvel.popitem())"
   ]
  },
  {
   "cell_type": "code",
   "execution_count": null,
   "metadata": {},
   "outputs": [],
   "source": [
    "marvel.update({'Hero':'Hulk'})"
   ]
  },
  {
   "cell_type": "code",
   "execution_count": null,
   "metadata": {},
   "outputs": [],
   "source": [
    "print(\"Updating the Value for the key Hero in Marvel:\",marvel)"
   ]
  },
  {
   "cell_type": "code",
   "execution_count": null,
   "metadata": {},
   "outputs": [],
   "source": [
    "marvel.update({'Hero':'Ant-man'})"
   ]
  },
  {
   "cell_type": "code",
   "execution_count": null,
   "metadata": {},
   "outputs": [],
   "source": [
    "marvel"
   ]
  },
  {
   "cell_type": "code",
   "execution_count": null,
   "metadata": {},
   "outputs": [],
   "source": [
    "marvel.update({'hero':'Hulk'})"
   ]
  },
  {
   "cell_type": "code",
   "execution_count": null,
   "metadata": {},
   "outputs": [],
   "source": [
    "marvel"
   ]
  },
  {
   "cell_type": "code",
   "execution_count": null,
   "metadata": {},
   "outputs": [],
   "source": [
    "a =12\n",
    "b = 32\n"
   ]
  }
 ],
 "metadata": {
  "kernelspec": {
   "display_name": "Python 3",
   "language": "python",
   "name": "python3"
  },
  "language_info": {
   "codemirror_mode": {
    "name": "ipython",
    "version": 3
   },
   "file_extension": ".py",
   "mimetype": "text/x-python",
   "name": "python",
   "nbconvert_exporter": "python",
   "pygments_lexer": "ipython3",
   "version": "3.7.1"
  }
 },
 "nbformat": 4,
 "nbformat_minor": 2
}
