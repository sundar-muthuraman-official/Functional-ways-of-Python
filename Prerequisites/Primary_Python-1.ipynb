{
 "cells": [
  {
   "cell_type": "markdown",
   "metadata": {
    "slideshow": {
     "slide_type": "slide"
    }
   },
   "source": [
    "# What are Variables? When Variables are used?\n",
    "\n",
    "    Variable is assigning a storage location to a value that is tied to a symbolic name or identifier. The variable name is used to reference that stored value within a computer programs memory location.\n",
    "\n",
    "\n",
    "# Naming Convetions:\n",
    "\n",
    "Valid\t    Invalid\t         Why Invalid\n",
    "\n",
    "my_int\t     my-int\t         Hyphens are not permitted\n",
    "int4\t     4int\t         Cannot begin with a number\n",
    "MY_INT       $MY_INT\t     Cannot use symbols other than _\n",
    "another_int\t another int\t Cannot be more than one word    "
   ]
  },
  {
   "cell_type": "markdown",
   "metadata": {},
   "source": [
    "# Reserved Keywords in Python:    \n",
    "        and,as,assert,break,class,continue,def,del,elif,else,with,except,finally,FALSE,for,from,global,if,import,in,is,while,lambda,nonlocal,None,not,or,pass,raise,return,TRUE,try,yield"
   ]
  },
  {
   "cell_type": "code",
   "execution_count": null,
   "metadata": {},
   "outputs": [],
   "source": [
    "# Assigning a value to a Variable :\n",
    "a =10\n",
    "print(\"Value assigned in a is :\",a)\n",
    "\n",
    "# Let see where this value is stored in the memory \n",
    "print('The Value of a is stored in the address:',id(a))"
   ]
  },
  {
   "cell_type": "markdown",
   "metadata": {},
   "source": [
    "# What are Datatypes\n",
    "    Data types are the classification or categorization of data items. Data types represent a kind of value which determines what operations can be performed on that data. Numeric, non-numeric and Boolean (true/false) data are the most used data types.\n",
    "    \n",
    "# Types of Datatypes:\n",
    "\n",
    "1. INTEGER              (int)\n",
    "2. FLOATING POINT      (float)\n",
    "3. CHARACTER            (str)\n",
    "4. BOOLEAN              (bool)"
   ]
  },
  {
   "cell_type": "code",
   "execution_count": null,
   "metadata": {},
   "outputs": [],
   "source": [
    "#In python we don't want to specify the datatypes, since python can understand automalically once you assign the data\n",
    "#to a variable:\n",
    "\n",
    "#Assigning values to a variable:\n",
    "\n",
    "whole_number = 10\n",
    "\n",
    "print(\"The type of Whole_number is:\",type(whole_number))\n",
    "\n",
    "decimal_number = 10.3\n",
    "\n",
    "print(\"The type of Decimal_number is:\",type(decimal_number))\n",
    "\n",
    "name = 'Phani'\n",
    "\n",
    "print(\"The type of name is:\",type(name))\n",
    "\n",
    "\n",
    "is_present = True\n",
    "\n",
    "print(\"The type of is_present is:\",type(is_present))\n"
   ]
  },
  {
   "cell_type": "markdown",
   "metadata": {},
   "source": [
    "# Operators:\n",
    "\n",
    "    Operator is a symbol that performs an operation on one or more operands. An operand is a variable or a value on which we perform the operation.\n",
    "    \n",
    "# Types of Operator:\n",
    "\n",
    "    1. Arithmetic Operator (+ , - , * , / , % , ** , //)\n",
    "    2. Relational Operator (< , > , <= , >= , != , ==)\n",
    "    3. Assignment Operator (=)\n",
    "    4. Logical Operator    (and , or , not) \n",
    "    5. Identity Operator   (is)\n",
    "    6. Membership Operator (in)"
   ]
  },
  {
   "cell_type": "code",
   "execution_count": null,
   "metadata": {},
   "outputs": [],
   "source": [
    "# As mathamatics Order of precedence (BODMAS Rule - (Parentheses, Exponents, Division, Multiplication, Addition and Subtraction))\n",
    "#is their in programming also ,please keep a note:\n",
    "\n",
    "# Arithemetic:\n",
    "\n",
    "print('Addition of 2 numbers:',3 + 4)\n",
    "\n",
    "print('Subtraction of 2 numbers:',3 - 4)\n",
    "\n",
    "print('Multiplication  of 2 numbers:',3 * 4)\n",
    "\n",
    "print('Divsion of 2 numbers:',5 / 2)\n",
    "\n",
    "print('Modules of 2 numbers:',5 % 2)\n",
    "\n",
    "print('Exponential of a number:', 3 ** 4)\n",
    "\n",
    "print ('Floor Divison of 2 numbers:', 5 // 2)\n"
   ]
  },
  {
   "cell_type": "code",
   "execution_count": null,
   "metadata": {},
   "outputs": [],
   "source": [
    "# Relational\n",
    "\n",
    "hall_size = 23 \n",
    "bedroom_size = 21\n",
    "max_room_size = 21\n",
    "\n",
    "print('Is Hall size is greater than Bedroom size:' , hall_size > bedroom_size)\n",
    "\n",
    "print ('Is Hall size is greater than Bedroom size:' , hall_size < bedroom_size)\n",
    "\n",
    "print('Is Max_room_size is greater or equal to Bedroom size;' , max_room_size >= bedroom_size)\n",
    "\n",
    "print('Is Max_room_size is Less than or equal to Bedroom size:' , max_room_size <= bedroom_size)\n",
    "\n",
    "print('Is Max_room_size is not equal to Bedroom size:' , max_room_size != bedroom_size)\n",
    "\n",
    "print('Is Max_room_size is  equal to Bedroom size:' , max_room_size == bedroom_size)\n",
    "\n",
    "\n"
   ]
  },
  {
   "cell_type": "code",
   "execution_count": null,
   "metadata": {},
   "outputs": [],
   "source": [
    "#3. Assignment\n",
    "\n",
    "a = 2 \n",
    "\n",
    "# whenever we want perform an operation over the value of a , we genrally use the below method:\n",
    "\n",
    "a = a + 10\n",
    "\n",
    "print('Value of a is:',a)\n",
    "\n",
    "# Instead of the above way , we can do this like:\n",
    "# Adds the values on either side and assigns it to the expression on the left\n",
    "\n",
    "a += 10\n",
    "\n",
    "print('Value of a is:',a)\n",
    "\n",
    "#and similar to this all the Arithematic ops can be performed\n"
   ]
  },
  {
   "cell_type": "code",
   "execution_count": null,
   "metadata": {},
   "outputs": [],
   "source": [
    "#4.Logical\n",
    "\n",
    "#When you want to compare multiple conditions at the same time we use Logical operators\n",
    "\n",
    "eggs = 10\n",
    "milk = 20\n",
    "\n",
    "print (\"Statement is :\",eggs < 20 or milk == 20)\n",
    "\n",
    "print(\"Statement is:\",eggs < 20 and milk > 20)\n",
    "\n",
    "# not converts True to False, and False to True\n",
    "\n",
    "print (\"Statemmnt is:\",not(0))\n",
    "\n",
    "\n"
   ]
  },
  {
   "cell_type": "code",
   "execution_count": null,
   "metadata": {},
   "outputs": [],
   "source": [
    "#5.Identity\n",
    "\n",
    "#These operators test if the two operands share an identity. We have two identity operators- ‘is’ and ‘is not’.\n",
    "\n",
    "print('Statement is True or False:',2 is 20)\n",
    "\n",
    "print('Statement is True or False:','2' is '2')\n",
    "\n",
    "print('Statement is True or False:',2 is not 20)\n",
    "\n",
    "\n",
    "a = 10\n",
    "\n",
    "b = 10\n",
    "\n",
    "print(\"Memory of a:\",id(a))\n",
    "print(\"Memory of b:\",id(b))\n",
    "print(\"Memory of 10:\",id(10))\n",
    "print(f\"Is a equal to b: {a is b}\")\n",
    "\n",
    "\n",
    "print(f\"Is a equal to b: {a == b}\")"
   ]
  },
  {
   "cell_type": "code",
   "execution_count": null,
   "metadata": {},
   "outputs": [],
   "source": [
    "#6. Membership\n",
    "\n",
    "#These operators test whether a value is a member of a sequence. \n",
    "#The sequence may be a list, a string, or a tuple. We have two membership python operators- ‘in’ and ‘not in’.\n",
    "\n",
    "name = 'Phani'\n",
    "\n",
    "print('Is i avilable in name:','i' in name)\n",
    "\n",
    "print('Is p avilable in name:','p' in name)     \n",
    "\n",
    "print('Is i avilable in name:','I' not in name)\n"
   ]
  },
  {
   "cell_type": "markdown",
   "metadata": {},
   "source": [
    "# Branching Statments\n",
    "\n",
    "    1.Python provides the if statement to allow branching based on conditions. \n",
    "    \n",
    "    2.Multiple elif checks can also be performed followed by an optional else clause. \n",
    "    \n",
    "    3.The if statement can be used with any evaluation of truthiness."
   ]
  },
  {
   "cell_type": "code",
   "execution_count": null,
   "metadata": {},
   "outputs": [],
   "source": [
    "# 1. if Statments\n",
    "\n",
    "current_mark = 70\n",
    "\n",
    "expected_mark = 90\n",
    "\n",
    "outcome = current_mark < expected_mark\n",
    "\n",
    "if outcome:\n",
    "    print('current_mark is under expected_mark range')\n",
    "else:\n",
    "    \n",
    "    print('current_mark is reported above the expected_mark')"
   ]
  },
  {
   "cell_type": "code",
   "execution_count": null,
   "metadata": {},
   "outputs": [],
   "source": [
    "# 2.elif Statements\n",
    "\n",
    "user_input = float(input(\"Enter your rating:\"))\n",
    "\n",
    "print(user_input)\n",
    "\n",
    "if user_input > 5:print(\"Ratings are between 0 to 5, enter a valid value\")\n",
    "\n",
    "elif 4 < user_input <= 5:print(\"Excellent\")\n",
    "\n",
    "elif 3 < user_input <= 4:print(\"Good\")\n",
    "\n",
    "elif 2 < user_input <= 3:print(\"Average\")\n",
    "\n",
    "else: print(\"Poor\")\n"
   ]
  }
 ],
 "metadata": {
  "kernelspec": {
   "display_name": "Python 3",
   "language": "python",
   "name": "python3"
  },
  "language_info": {
   "codemirror_mode": {
    "name": "ipython",
    "version": 3
   },
   "file_extension": ".py",
   "mimetype": "text/x-python",
   "name": "python",
   "nbconvert_exporter": "python",
   "pygments_lexer": "ipython3",
   "version": "3.7.1"
  }
 },
 "nbformat": 4,
 "nbformat_minor": 2
}
