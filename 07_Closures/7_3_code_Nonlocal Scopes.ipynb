{
 "cells": [
  {
   "cell_type": "markdown",
   "metadata": {},
   "source": [
    "### Nonlocal Scopes"
   ]
  },
  {
   "cell_type": "markdown",
   "metadata": {},
   "source": [
    "Functions defined inside anther function can reference variables from that enclosing scope, just like functions can reference variables from the global scope."
   ]
  },
  {
   "cell_type": "code",
   "execution_count": 1,
   "metadata": {},
   "outputs": [],
   "source": [
    "def outer_func():\n",
    "    x = 'hello'\n",
    "    \n",
    "    def inner_func():\n",
    "        print(x)\n",
    "    \n",
    "    inner_func()"
   ]
  },
  {
   "cell_type": "code",
   "execution_count": 2,
   "metadata": {},
   "outputs": [
    {
     "name": "stdout",
     "output_type": "stream",
     "text": [
      "hello\n"
     ]
    }
   ],
   "source": [
    "outer_func()"
   ]
  },
  {
   "cell_type": "markdown",
   "metadata": {},
   "source": [
    "In fact, any level of nesting is supported since Python just keeps looking in enclosing scopes until it finds what it needs (or fails to find it by the time it finishes looking in the built-in scope, in which case a runtime error occurrs.)"
   ]
  },
  {
   "cell_type": "code",
   "execution_count": 3,
   "metadata": {},
   "outputs": [],
   "source": [
    "def outer_func():\n",
    "    x = 'hello'\n",
    "    def inner1():\n",
    "        def inner2():\n",
    "            print(x)\n",
    "        inner2()\n",
    "    inner1()"
   ]
  },
  {
   "cell_type": "code",
   "execution_count": 4,
   "metadata": {},
   "outputs": [
    {
     "name": "stdout",
     "output_type": "stream",
     "text": [
      "hello\n"
     ]
    }
   ],
   "source": [
    "outer_func()"
   ]
  },
  {
   "cell_type": "markdown",
   "metadata": {},
   "source": [
    "But if we **assign** a value to a variable, it is considered part of the local scope, and potentially **masks** enclsogin scope variable names:"
   ]
  },
  {
   "cell_type": "code",
   "execution_count": 5,
   "metadata": {},
   "outputs": [],
   "source": [
    "def outer():\n",
    "    x = 'hello'\n",
    "    def inner():\n",
    "        x = 'python'\n",
    "    inner()\n",
    "    print(x)"
   ]
  },
  {
   "cell_type": "code",
   "execution_count": 6,
   "metadata": {},
   "outputs": [
    {
     "name": "stdout",
     "output_type": "stream",
     "text": [
      "hello\n"
     ]
    }
   ],
   "source": [
    "outer()"
   ]
  },
  {
   "cell_type": "markdown",
   "metadata": {},
   "source": [
    "As you can see, **x** in **outer** was not changed."
   ]
  },
  {
   "cell_type": "markdown",
   "metadata": {},
   "source": [
    "To achieve this, we can use the **nonlocal** keyword:"
   ]
  },
  {
   "cell_type": "code",
   "execution_count": 9,
   "metadata": {},
   "outputs": [],
   "source": [
    "def outer():\n",
    "    x = 'hello'\n",
    "    def inner():\n",
    "        nonlocal x\n",
    "        x = 'python'\n",
    "    inner()\n",
    "    print(x)"
   ]
  },
  {
   "cell_type": "code",
   "execution_count": 10,
   "metadata": {},
   "outputs": [
    {
     "name": "stdout",
     "output_type": "stream",
     "text": [
      "python\n"
     ]
    }
   ],
   "source": [
    "outer()"
   ]
  },
  {
   "cell_type": "markdown",
   "metadata": {},
   "source": [
    "Of course, this can work at any level as well:"
   ]
  },
  {
   "cell_type": "code",
   "execution_count": 11,
   "metadata": {},
   "outputs": [],
   "source": [
    "def outer():\n",
    "    x = 'hello'\n",
    "    \n",
    "    def inner1():\n",
    "        def inner2():\n",
    "            nonlocal x\n",
    "            x = 'python'\n",
    "        inner2()\n",
    "    inner1()\n",
    "    print(x)"
   ]
  },
  {
   "cell_type": "code",
   "execution_count": 12,
   "metadata": {},
   "outputs": [
    {
     "name": "stdout",
     "output_type": "stream",
     "text": [
      "python\n"
     ]
    }
   ],
   "source": [
    "outer()"
   ]
  },
  {
   "cell_type": "markdown",
   "metadata": {},
   "source": [
    "How far Python looks up the chain depends on the first occurrence of the variable name in an enclosing scope.\n",
    "\n",
    "Consider the following example:"
   ]
  },
  {
   "cell_type": "code",
   "execution_count": 19,
   "metadata": {},
   "outputs": [],
   "source": [
    "def outer():\n",
    "    x = 'hello'\n",
    "    def inner1():\n",
    "        x = 'python'\n",
    "        def inner2():\n",
    "            nonlocal x\n",
    "            x = 'monty'\n",
    "        print('inner1 (before):', x)\n",
    "        inner2()\n",
    "        print('inner1 (after):', x)\n",
    "    inner1()\n",
    "    print('outer:', x)"
   ]
  },
  {
   "cell_type": "code",
   "execution_count": 20,
   "metadata": {},
   "outputs": [
    {
     "name": "stdout",
     "output_type": "stream",
     "text": [
      "inner1 (before): hello\n",
      "inner1 (after): monty\n",
      "outer: monty\n"
     ]
    }
   ],
   "source": [
    "outer()"
   ]
  },
  {
   "cell_type": "markdown",
   "metadata": {},
   "source": [
    "What happened here, is that `x` in `inner1` **masked** `x` in `outer`. But `inner2` indicated to Python that `x` was nonlocal, so the first local variable up in the enclosing scope chain Python found was the one in `inner1`, hence `x` in `inner2` is actually referencing `x` that is local to `inner1`"
   ]
  },
  {
   "cell_type": "markdown",
   "metadata": {},
   "source": [
    "We can change this behavior by making the variable `x` in `inner` nonlocal as well:"
   ]
  },
  {
   "cell_type": "code",
   "execution_count": 21,
   "metadata": {},
   "outputs": [],
   "source": [
    "def outer():\n",
    "    x = 'hello'\n",
    "    def inner1():\n",
    "        nonlocal x\n",
    "        x = 'python'\n",
    "        def inner2():\n",
    "            nonlocal x\n",
    "            x = 'monty'\n",
    "        print('inner1 (before):', x)\n",
    "        inner2()\n",
    "        print('inner1 (after):', x)\n",
    "    inner1()\n",
    "    print('outer:', x)"
   ]
  },
  {
   "cell_type": "code",
   "execution_count": 22,
   "metadata": {},
   "outputs": [
    {
     "name": "stdout",
     "output_type": "stream",
     "text": [
      "inner1 (before): python\n",
      "inner1 (after): monty\n",
      "outer: monty\n"
     ]
    }
   ],
   "source": [
    "outer()"
   ]
  },
  {
   "cell_type": "code",
   "execution_count": 23,
   "metadata": {},
   "outputs": [],
   "source": [
    "x = 100\n",
    "def outer():\n",
    "    x = 'python'  # masks global x\n",
    "    def inner1():\n",
    "        nonlocal x  # refers to x in outer\n",
    "        x = 'monty' # changed x in outer scope\n",
    "        def inner2():\n",
    "            global x  # refers to x in global scope\n",
    "            x = 'hello'\n",
    "        print('inner1 (before):', x)\n",
    "        inner2()\n",
    "        print('inner1 (after):', x)\n",
    "    inner1()\n",
    "    print('outer', x)    "
   ]
  },
  {
   "cell_type": "code",
   "execution_count": 24,
   "metadata": {},
   "outputs": [
    {
     "name": "stdout",
     "output_type": "stream",
     "text": [
      "inner1 (before): monty\n",
      "inner1 (after): monty\n",
      "outer monty\n",
      "hello\n"
     ]
    }
   ],
   "source": [
    "outer()\n",
    "print(x)"
   ]
  },
  {
   "cell_type": "markdown",
   "metadata": {},
   "source": [
    "But this will not work. In `inner` Python is looking for a local variable called `x`. `outer` has a label called `x`, but it is a global variable, not a local one - hence Python does not find a local variable in the scope chain."
   ]
  },
  {
   "cell_type": "code",
   "execution_count": 33,
   "metadata": {},
   "outputs": [
    {
     "ename": "SyntaxError",
     "evalue": "no binding for nonlocal 'x' found (<ipython-input-33-4c66cfe1e087>, line 7)",
     "output_type": "error",
     "traceback": [
      "\u001b[0;36m  File \u001b[0;32m\"<ipython-input-33-4c66cfe1e087>\"\u001b[0;36m, line \u001b[0;32m7\u001b[0m\n\u001b[0;31m    nonlocal x\u001b[0m\n\u001b[0m    ^\u001b[0m\n\u001b[0;31mSyntaxError\u001b[0m\u001b[0;31m:\u001b[0m no binding for nonlocal 'x' found\n"
     ]
    }
   ],
   "source": [
    "x = 100\n",
    "def outer():\n",
    "    global x\n",
    "    x = 'python'\n",
    "    print(locals())\n",
    "    def inner():\n",
    "        nonlocal x\n",
    "        x = 'monty'\n",
    "        print(locals())\n",
    "    inner()"
   ]
  },
  {
   "cell_type": "code",
   "execution_count": 30,
   "metadata": {},
   "outputs": [
    {
     "name": "stdout",
     "output_type": "stream",
     "text": [
      "{}\n",
      "{}\n"
     ]
    }
   ],
   "source": [
    "outer()"
   ]
  },
  {
   "cell_type": "code",
   "execution_count": 31,
   "metadata": {},
   "outputs": [
    {
     "data": {
      "text/plain": [
       "{'__name__': '__main__',\n",
       " '__doc__': 'Automatically created module for IPython interactive environment',\n",
       " '__package__': None,\n",
       " '__loader__': None,\n",
       " '__spec__': None,\n",
       " '__builtin__': <module 'builtins' (built-in)>,\n",
       " '__builtins__': <module 'builtins' (built-in)>,\n",
       " '_ih': ['',\n",
       "  \"def outer_func():\\n    x = 'hello'\\n    \\n    def inner_func():\\n        print(x)\\n    \\n    inner_func()\",\n",
       "  'outer_func()',\n",
       "  \"def outer_func():\\n    x = 'hello'\\n    def inner1():\\n        def inner2():\\n            print(x)\\n        inner2()\\n    inner1()\",\n",
       "  'outer_func()',\n",
       "  \"def outer():\\n    x = 'hello'\\n    def inner():\\n        x = 'python'\\n    inner()\\n    print(x)\",\n",
       "  'outer()',\n",
       "  \"def outer():\\n    x = 'hello'\\n    def inner():\\n        nonlocal x\\n        x = 'python'\\n    inner()\\n    print(x)\",\n",
       "  'outer()',\n",
       "  \"def outer():\\n    x = 'hello'\\n    def inner():\\n        nonlocal x\\n        x = 'python'\\n    inner()\\n    print(x)\",\n",
       "  'outer()',\n",
       "  \"def outer():\\n    x = 'hello'\\n    \\n    def inner1():\\n        def inner2():\\n            nonlocal x\\n            x = 'python'\\n        inner2()\\n    inner1()\\n    print(x)\",\n",
       "  'outer()',\n",
       "  \"def outer():\\n    x = 'hello'\\n    def inner1():\\n        x = 'python'\\n        def inner2():\\n            nonlocal x\\n            x = 'monty'\\n        print('inner1 (before):', x)\\n        inner2()\\n        print('inner1 (after):', x)\\n    inner1()\\n    print('outer:', x)\",\n",
       "  'outer()',\n",
       "  \"def outer():\\n    x = 'hello'\\n    def inner1():\\n        nonlocal x\\n        x = 'python'\\n        def inner2():\\n            nonlocal x\\n            x = 'monty'\\n        print('inner1 (before):', x)\\n        inner2()\\n        print('inner1 (after):', x)\\n    inner1()\\n    print('outer:', x)\",\n",
       "  'outer()',\n",
       "  \"def outer():\\n    x = 'hello'\\n    def inner1():\\n        x = 'python'\\n        def inner2():\\n            nonlocal x\\n            x = 'monty'\\n        print('inner1 (before):', x)\\n        inner2()\\n        print('inner1 (after):', x)\\n    inner1()\\n    print('outer:', x)\",\n",
       "  'outer()',\n",
       "  \"def outer():\\n    x = 'hello'\\n    def inner1():\\n        def inner2():\\n            nonlocal x\\n            x = 'monty'\\n        print('inner1 (before):', x)\\n        inner2()\\n        print('inner1 (after):', x)\\n    inner1()\\n    print('outer:', x)\",\n",
       "  'outer()',\n",
       "  \"def outer():\\n    x = 'hello'\\n    def inner1():\\n        nonlocal x\\n        x = 'python'\\n        def inner2():\\n            nonlocal x\\n            x = 'monty'\\n        print('inner1 (before):', x)\\n        inner2()\\n        print('inner1 (after):', x)\\n    inner1()\\n    print('outer:', x)\",\n",
       "  'outer()',\n",
       "  \"x = 100\\ndef outer():\\n    x = 'python'  # masks global x\\n    def inner1():\\n        nonlocal x  # refers to x in outer\\n        x = 'monty' # changed x in outer scope\\n        def inner2():\\n            global x  # refers to x in global scope\\n            x = 'hello'\\n        print('inner1 (before):', x)\\n        inner2()\\n        print('inner1 (after):', x)\\n    inner1()\\n    print('outer', x)    \",\n",
       "  'outer()\\nprint(x)',\n",
       "  \"x = 100\\ndef outer():\\n    global x\\n    x = 'python'\\n    def inner():\\n        nonlocal x\\n        x = 'monty'\\n    inner()\",\n",
       "  \"x = 100\\ndef outer():\\n    global x\\n    x = 'python'\\n    def inner():\\n        #nonlocal x\\n        x = 'monty'\\n    inner()\",\n",
       "  \"x = 100\\ndef outer():\\n    global x\\n    x = 'python'\\n    print(locals())\\n    def inner():\\n        #nonlocal x\\n        x = 'monty'\\n        print(locals())\\n    inner()\",\n",
       "  'outer()',\n",
       "  \"x = 100\\ndef outer():\\n    global x\\n    x = 'python'\\n    print(locals())\\n    def inner():\\n        global x\\n        x = 'monty'\\n        print(locals())\\n    inner()\",\n",
       "  'outer()',\n",
       "  'globals()'],\n",
       " '_oh': {},\n",
       " '_dh': ['/home/srirev/01_Origin Educations/Functional-ways-of-Python/07_Closures'],\n",
       " 'In': ['',\n",
       "  \"def outer_func():\\n    x = 'hello'\\n    \\n    def inner_func():\\n        print(x)\\n    \\n    inner_func()\",\n",
       "  'outer_func()',\n",
       "  \"def outer_func():\\n    x = 'hello'\\n    def inner1():\\n        def inner2():\\n            print(x)\\n        inner2()\\n    inner1()\",\n",
       "  'outer_func()',\n",
       "  \"def outer():\\n    x = 'hello'\\n    def inner():\\n        x = 'python'\\n    inner()\\n    print(x)\",\n",
       "  'outer()',\n",
       "  \"def outer():\\n    x = 'hello'\\n    def inner():\\n        nonlocal x\\n        x = 'python'\\n    inner()\\n    print(x)\",\n",
       "  'outer()',\n",
       "  \"def outer():\\n    x = 'hello'\\n    def inner():\\n        nonlocal x\\n        x = 'python'\\n    inner()\\n    print(x)\",\n",
       "  'outer()',\n",
       "  \"def outer():\\n    x = 'hello'\\n    \\n    def inner1():\\n        def inner2():\\n            nonlocal x\\n            x = 'python'\\n        inner2()\\n    inner1()\\n    print(x)\",\n",
       "  'outer()',\n",
       "  \"def outer():\\n    x = 'hello'\\n    def inner1():\\n        x = 'python'\\n        def inner2():\\n            nonlocal x\\n            x = 'monty'\\n        print('inner1 (before):', x)\\n        inner2()\\n        print('inner1 (after):', x)\\n    inner1()\\n    print('outer:', x)\",\n",
       "  'outer()',\n",
       "  \"def outer():\\n    x = 'hello'\\n    def inner1():\\n        nonlocal x\\n        x = 'python'\\n        def inner2():\\n            nonlocal x\\n            x = 'monty'\\n        print('inner1 (before):', x)\\n        inner2()\\n        print('inner1 (after):', x)\\n    inner1()\\n    print('outer:', x)\",\n",
       "  'outer()',\n",
       "  \"def outer():\\n    x = 'hello'\\n    def inner1():\\n        x = 'python'\\n        def inner2():\\n            nonlocal x\\n            x = 'monty'\\n        print('inner1 (before):', x)\\n        inner2()\\n        print('inner1 (after):', x)\\n    inner1()\\n    print('outer:', x)\",\n",
       "  'outer()',\n",
       "  \"def outer():\\n    x = 'hello'\\n    def inner1():\\n        def inner2():\\n            nonlocal x\\n            x = 'monty'\\n        print('inner1 (before):', x)\\n        inner2()\\n        print('inner1 (after):', x)\\n    inner1()\\n    print('outer:', x)\",\n",
       "  'outer()',\n",
       "  \"def outer():\\n    x = 'hello'\\n    def inner1():\\n        nonlocal x\\n        x = 'python'\\n        def inner2():\\n            nonlocal x\\n            x = 'monty'\\n        print('inner1 (before):', x)\\n        inner2()\\n        print('inner1 (after):', x)\\n    inner1()\\n    print('outer:', x)\",\n",
       "  'outer()',\n",
       "  \"x = 100\\ndef outer():\\n    x = 'python'  # masks global x\\n    def inner1():\\n        nonlocal x  # refers to x in outer\\n        x = 'monty' # changed x in outer scope\\n        def inner2():\\n            global x  # refers to x in global scope\\n            x = 'hello'\\n        print('inner1 (before):', x)\\n        inner2()\\n        print('inner1 (after):', x)\\n    inner1()\\n    print('outer', x)    \",\n",
       "  'outer()\\nprint(x)',\n",
       "  \"x = 100\\ndef outer():\\n    global x\\n    x = 'python'\\n    def inner():\\n        nonlocal x\\n        x = 'monty'\\n    inner()\",\n",
       "  \"x = 100\\ndef outer():\\n    global x\\n    x = 'python'\\n    def inner():\\n        #nonlocal x\\n        x = 'monty'\\n    inner()\",\n",
       "  \"x = 100\\ndef outer():\\n    global x\\n    x = 'python'\\n    print(locals())\\n    def inner():\\n        #nonlocal x\\n        x = 'monty'\\n        print(locals())\\n    inner()\",\n",
       "  'outer()',\n",
       "  \"x = 100\\ndef outer():\\n    global x\\n    x = 'python'\\n    print(locals())\\n    def inner():\\n        global x\\n        x = 'monty'\\n        print(locals())\\n    inner()\",\n",
       "  'outer()',\n",
       "  'globals()'],\n",
       " 'Out': {},\n",
       " 'get_ipython': <bound method InteractiveShell.get_ipython of <ipykernel.zmqshell.ZMQInteractiveShell object at 0x7f3cd4dc0640>>,\n",
       " 'exit': <IPython.core.autocall.ZMQExitAutocall at 0x7f3cd4dccfa0>,\n",
       " 'quit': <IPython.core.autocall.ZMQExitAutocall at 0x7f3cd4dccfa0>,\n",
       " '_': '',\n",
       " '__': '',\n",
       " '___': '',\n",
       " '_i': 'outer()',\n",
       " '_ii': \"x = 100\\ndef outer():\\n    global x\\n    x = 'python'\\n    print(locals())\\n    def inner():\\n        global x\\n        x = 'monty'\\n        print(locals())\\n    inner()\",\n",
       " '_iii': 'outer()',\n",
       " '_i1': \"def outer_func():\\n    x = 'hello'\\n    \\n    def inner_func():\\n        print(x)\\n    \\n    inner_func()\",\n",
       " 'outer_func': <function __main__.outer_func()>,\n",
       " '_i2': 'outer_func()',\n",
       " '_i3': \"def outer_func():\\n    x = 'hello'\\n    def inner1():\\n        def inner2():\\n            print(x)\\n        inner2()\\n    inner1()\",\n",
       " '_i4': 'outer_func()',\n",
       " '_i5': \"def outer():\\n    x = 'hello'\\n    def inner():\\n        x = 'python'\\n    inner()\\n    print(x)\",\n",
       " 'outer': <function __main__.outer()>,\n",
       " '_i6': 'outer()',\n",
       " '_i7': \"def outer():\\n    x = 'hello'\\n    def inner():\\n        nonlocal x\\n        x = 'python'\\n    inner()\\n    print(x)\",\n",
       " '_i8': 'outer()',\n",
       " '_i9': \"def outer():\\n    x = 'hello'\\n    def inner():\\n        nonlocal x\\n        x = 'python'\\n    inner()\\n    print(x)\",\n",
       " '_i10': 'outer()',\n",
       " '_i11': \"def outer():\\n    x = 'hello'\\n    \\n    def inner1():\\n        def inner2():\\n            nonlocal x\\n            x = 'python'\\n        inner2()\\n    inner1()\\n    print(x)\",\n",
       " '_i12': 'outer()',\n",
       " '_i13': \"def outer():\\n    x = 'hello'\\n    def inner1():\\n        x = 'python'\\n        def inner2():\\n            nonlocal x\\n            x = 'monty'\\n        print('inner1 (before):', x)\\n        inner2()\\n        print('inner1 (after):', x)\\n    inner1()\\n    print('outer:', x)\",\n",
       " '_i14': 'outer()',\n",
       " '_i15': \"def outer():\\n    x = 'hello'\\n    def inner1():\\n        nonlocal x\\n        x = 'python'\\n        def inner2():\\n            nonlocal x\\n            x = 'monty'\\n        print('inner1 (before):', x)\\n        inner2()\\n        print('inner1 (after):', x)\\n    inner1()\\n    print('outer:', x)\",\n",
       " '_i16': 'outer()',\n",
       " '_i17': \"def outer():\\n    x = 'hello'\\n    def inner1():\\n        x = 'python'\\n        def inner2():\\n            nonlocal x\\n            x = 'monty'\\n        print('inner1 (before):', x)\\n        inner2()\\n        print('inner1 (after):', x)\\n    inner1()\\n    print('outer:', x)\",\n",
       " '_i18': 'outer()',\n",
       " '_i19': \"def outer():\\n    x = 'hello'\\n    def inner1():\\n        def inner2():\\n            nonlocal x\\n            x = 'monty'\\n        print('inner1 (before):', x)\\n        inner2()\\n        print('inner1 (after):', x)\\n    inner1()\\n    print('outer:', x)\",\n",
       " '_i20': 'outer()',\n",
       " '_i21': \"def outer():\\n    x = 'hello'\\n    def inner1():\\n        nonlocal x\\n        x = 'python'\\n        def inner2():\\n            nonlocal x\\n            x = 'monty'\\n        print('inner1 (before):', x)\\n        inner2()\\n        print('inner1 (after):', x)\\n    inner1()\\n    print('outer:', x)\",\n",
       " '_i22': 'outer()',\n",
       " '_i23': \"x = 100\\ndef outer():\\n    x = 'python'  # masks global x\\n    def inner1():\\n        nonlocal x  # refers to x in outer\\n        x = 'monty' # changed x in outer scope\\n        def inner2():\\n            global x  # refers to x in global scope\\n            x = 'hello'\\n        print('inner1 (before):', x)\\n        inner2()\\n        print('inner1 (after):', x)\\n    inner1()\\n    print('outer', x)    \",\n",
       " 'x': 'monty',\n",
       " '_i24': 'outer()\\nprint(x)',\n",
       " '_i25': \"x = 100\\ndef outer():\\n    global x\\n    x = 'python'\\n    def inner():\\n        nonlocal x\\n        x = 'monty'\\n    inner()\",\n",
       " '_i26': \"x = 100\\ndef outer():\\n    global x\\n    x = 'python'\\n    def inner():\\n        #nonlocal x\\n        x = 'monty'\\n    inner()\",\n",
       " '_i27': \"x = 100\\ndef outer():\\n    global x\\n    x = 'python'\\n    print(locals())\\n    def inner():\\n        #nonlocal x\\n        x = 'monty'\\n        print(locals())\\n    inner()\",\n",
       " '_i28': 'outer()',\n",
       " '_i29': \"x = 100\\ndef outer():\\n    global x\\n    x = 'python'\\n    print(locals())\\n    def inner():\\n        global x\\n        x = 'monty'\\n        print(locals())\\n    inner()\",\n",
       " '_i30': 'outer()',\n",
       " '_i31': 'globals()'}"
      ]
     },
     "execution_count": 31,
     "metadata": {},
     "output_type": "execute_result"
    }
   ],
   "source": [
    "globals()"
   ]
  },
  {
   "cell_type": "code",
   "execution_count": 32,
   "metadata": {},
   "outputs": [
    {
     "data": {
      "text/plain": [
       "'monty'"
      ]
     },
     "execution_count": 32,
     "metadata": {},
     "output_type": "execute_result"
    }
   ],
   "source": [
    "x"
   ]
  },
  {
   "cell_type": "code",
   "execution_count": 53,
   "metadata": {},
   "outputs": [],
   "source": [
    "def out():\n",
    "    a = 2\n",
    "    def inn(a,b):\n",
    "        print(a+b)\n",
    "    return inn\n",
    "    "
   ]
  },
  {
   "cell_type": "code",
   "execution_count": 54,
   "metadata": {},
   "outputs": [],
   "source": [
    "a = out()"
   ]
  },
  {
   "cell_type": "code",
   "execution_count": 56,
   "metadata": {},
   "outputs": [
    {
     "name": "stdout",
     "output_type": "stream",
     "text": [
      "22\n"
     ]
    }
   ],
   "source": [
    "\n",
    "a(10,12)"
   ]
  },
  {
   "cell_type": "code",
   "execution_count": 61,
   "metadata": {},
   "outputs": [],
   "source": [
    "class out:\n",
    "    a = 2\n",
    "    def inn(self,a,b):\n",
    "        return a+b"
   ]
  },
  {
   "cell_type": "code",
   "execution_count": 62,
   "metadata": {},
   "outputs": [],
   "source": [
    "a = out()"
   ]
  },
  {
   "cell_type": "code",
   "execution_count": 63,
   "metadata": {},
   "outputs": [
    {
     "data": {
      "text/plain": [
       "<bound method out.inn of <__main__.out object at 0x7f3cbbdaf400>>"
      ]
     },
     "execution_count": 63,
     "metadata": {},
     "output_type": "execute_result"
    }
   ],
   "source": [
    "a.inn"
   ]
  },
  {
   "cell_type": "code",
   "execution_count": 64,
   "metadata": {},
   "outputs": [
    {
     "data": {
      "text/plain": [
       "22"
      ]
     },
     "execution_count": 64,
     "metadata": {},
     "output_type": "execute_result"
    }
   ],
   "source": [
    "a.inn(12,10)"
   ]
  },
  {
   "cell_type": "code",
   "execution_count": null,
   "metadata": {},
   "outputs": [],
   "source": []
  }
 ],
 "metadata": {
  "kernelspec": {
   "display_name": "Python 3",
   "language": "python",
   "name": "python3"
  },
  "language_info": {
   "codemirror_mode": {
    "name": "ipython",
    "version": 3
   },
   "file_extension": ".py",
   "mimetype": "text/x-python",
   "name": "python",
   "nbconvert_exporter": "python",
   "pygments_lexer": "ipython3",
   "version": "3.8.5"
  }
 },
 "nbformat": 4,
 "nbformat_minor": 2
}
